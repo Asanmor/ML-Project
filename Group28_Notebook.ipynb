{
 "cells": [
  {
   "cell_type": "markdown",
   "metadata": {},
   "source": [
    "<div class=\"alert alert-block alert-info\">\n",
    "<center> <h1> Master in Data Science and Advanced Analytics </h1> </center> <br>\n",
    "<center> PROJECT 2021/2022 </center>"
   ]
  },
  {
   "cell_type": "markdown",
   "metadata": {},
   "source": [
    "\n",
    "\n",
    "# Machine learning - The smith Parasite\n",
    "**Group Members**:\n",
    "\n",
    "|      |           Student Name        |    Student ID | \n",
    "|---   |               ---             |      ---      |\n",
    "| 1    |      Mohamed Ettaher Ben Slama   |    20221039   | \n",
    "| 2    |Alex Adrián Santander Morales                  |    20220658  | \n",
    "| 3    |Skander Chaabini                 |    20221041  | \n",
    "| 4    |Karim Miladi                 |    20220720  | \n",
    "| 5    | Jose Lukoki               |    20221021  | "
   ]
  },
  {
   "cell_type": "markdown",
   "metadata": {},
   "source": [
    "# Table of Contents\n",
    "\n",
    "* [<font color='#E8800A'>1 - Business Needs </font>](#first-bullet) <br>\n",
    "* [<font color='#E8800A'>2 - Data Integration </font>](#second-bullet) <br>\n",
    "    - [2.1. Libraries Import ](#2.1)<br>\n",
    "    - [2.2. Data Import ](#2.2)<br>\n",
    "* [<font color='#E8800A'>3 - Data Exploration </font>](#third-bullet) <br>\n",
    "    - [3.1.Data fields ](#3.1)<br>\n",
    "    - [3.2.Exploratory Data Analysis  ](#3.2) <br>\n",
    "    - [3.3.Features Distributions  ](#3.3) <br>\n",
    "    - [3.4.Coherance Check  ](#3.4) <br>\n",
    "    - [3.5.Outliers Check  ](#3.5) <br>\n",
    "* [<font color='#E8800A'>4 -Data Preprocessing</font>](#forth-bullet) <br>\n",
    "    - 4.1.[Outliers Treatment ](#4.1)<br>\n",
    "    - 4.2.[Data Split ](#4.2)<br>\n",
    "    - 4.3.[Feature Engineering ](#4.3)<br>\n",
    "    - 4.4.[NaN values Handling](#4.4)<br>\n",
    "    - 4.5.[Scaling ](#4.5)<br>\n",
    "    - 4.6.[Feature Selection ](#4.6)<br>\n",
    "* [<font color='#E8800A'>5 - Modelling</font>](#fifth-bullet) <br>\n",
    "    - 5.1.[Model Training  ](#5.1)<br>\n",
    "    - 5.2.[Model Performance Summary ](#5.2)<br>\n",
    "    - 5.3.[Hyper-parameters settings](#5.3)<br>\n",
    "    - 5.4.[Receiving Operating Characteristic ](#5.4)<br>\n",
    "* [<font color='#E8800A'>6 - Regularization</font>](#sixth-bullet) <br>\n",
    "* [<font color='#E8800A'>7 - Final Result</font>](#seventh-bullet) <br>"
   ]
  },
  {
   "cell_type": "markdown",
   "metadata": {},
   "source": [
    "<a class=\"anchor\" id=\"first-bullet\">     \n",
    "\n",
    "# 1. Business Needs\n",
    "    \n",
    "</a>\n",
    "</div>"
   ]
  },
  {
   "cell_type": "markdown",
   "metadata": {},
   "source": [
    "A new disease has recently been discovered by Dr. Smith, in England. You have been brought in to investigate.\n",
    "The disease has already affected more than 5000 people, with no apparent connection between them.\n",
    "\n",
    "The most common symptoms include fever and tiredness, but some infected people are asymptomatic. Regardless, this virus is being associated with post-disease conditions such as loss of speech, confusion, chest pain and shortness of breath.\n",
    "\n",
    "The conditions of the transmission of the disease are still unknown and there are no certainties of what leads a patient to suffer or not from it. Nonetheless, some groups of people seem more prone to be infected by the parasite than others.\n",
    "\n",
    "In this challenge, your goal is to build a predictive model that answers the question, “Who are the people more likely to suffer from the Smith Parasite?”. With that goal, you can access a small quantity of sociodemographic, health, and behavioral information obtained from the patients.\n",
    "\n",
    "As data scientists, your team is asked to analyze and transform the data available as needed and apply different models to answer the defined question in a more accurate way. Can you build a model that can predict if a patient will suffer, or not, from the Smith Disease?"
   ]
  },
  {
   "cell_type": "markdown",
   "metadata": {},
   "source": [
    "<a class=\"anchor\" id=\"second-bullet\">     \n",
    "\n",
    "# 2. Data Integration\n",
    "    \n",
    "</a>\n",
    "</div>"
   ]
  },
  {
   "cell_type": "markdown",
   "metadata": {},
   "source": [
    "# 2.1  Libraries Import <a class=\"anchor\" id=\"2.1\"></a>"
   ]
  },
  {
   "cell_type": "code",
   "execution_count": 153,
   "metadata": {},
   "outputs": [],
   "source": [
    "#basic libraries: numpy and pandas for data handling, pyplot \n",
    "#and seaborn for visualization, math for mathematical operations\n",
    "import numpy as np\n",
    "import pandas as pd\n",
    "import matplotlib.pyplot as plt\n",
    "import seaborn as sns\n",
    "from scipy.stats import chi2_contingency\n",
    "from math import ceil\n",
    "\n",
    "#sklearn libraries:\n",
    "from sklearn.model_selection import train_test_split, RandomizedSearchCV, GridSearchCV,KFold,\\\n",
    "                                    cross_val_score, StratifiedKFold\n",
    "from sklearn.metrics import classification_report, precision_score, recall_score,\\\n",
    "                            accuracy_score, confusion_matrix, roc_curve,\\\n",
    "                            precision_recall_curve, f1_score, roc_auc_score\n",
    "from sklearn.linear_model import LogisticRegression, LassoCV, SGDClassifier\n",
    "from sklearn.feature_selection import RFE, SelectKBest, f_classif\n",
    "from mlxtend.feature_selection import SequentialFeatureSelector as SFS\n",
    "from sklearn.preprocessing import RobustScaler, OneHotEncoder\n",
    "from sklearn.tree import DecisionTreeClassifier\n",
    "from sklearn.ensemble import RandomForestClassifier, GradientBoostingClassifier, VotingClassifier,\\\n",
    "                            VotingClassifier, BaggingClassifier, StackingClassifier, AdaBoostClassifier,\\\n",
    "                            HistGradientBoostingClassifier, ExtraTreesClassifier\n",
    "from sklearn.neighbors import KNeighborsClassifier\n",
    "from sklearn.svm import SVC\n",
    "from sklearn.neural_network import MLPClassifier\n",
    "from sklearn.naive_bayes import GaussianNB\n",
    "\n",
    "\n",
    "import warnings\n",
    "warnings.filterwarnings('ignore')"
   ]
  },
  {
   "cell_type": "markdown",
   "metadata": {},
   "source": [
    "\n",
    "# 2.2  Data Import<a class=\"anchor\" id=\"2.2\"></a>"
   ]
  },
  {
   "cell_type": "code",
   "execution_count": 154,
   "metadata": {},
   "outputs": [],
   "source": [
    "#import training data\n",
    "train_demo = pd.read_excel('train_demo.xlsx')\n",
    "train_health = pd.read_excel('train_health.xlsx')\n",
    "train_habits = pd.read_excel('train_habits.xlsx')\n",
    "\n",
    "#merge training data\n",
    "test_demo = pd.read_excel('test_demo.xlsx')\n",
    "test_health = pd.read_excel('test_health.xlsx')\n",
    "test_habits = pd.read_excel('test_habits.xlsx')"
   ]
  },
  {
   "cell_type": "code",
   "execution_count": 155,
   "metadata": {},
   "outputs": [],
   "source": [
    "# Change the data frames index to the access ID of each entry, rather than the standard index\n",
    "data_df = [train_demo, train_health, train_habits, test_demo, test_health, test_habits]\n",
    "\n",
    "for d in data_df:\n",
    "    d.set_index('PatientID', inplace = True)"
   ]
  },
  {
   "cell_type": "code",
   "execution_count": 156,
   "metadata": {},
   "outputs": [],
   "source": [
    "# Create train and test datasets concatenating all datasets.\n",
    "train_data = pd.concat([train_demo,train_habits,train_health], axis = 1)\n",
    "test_data = pd.concat([test_demo,test_habits,test_health], axis = 1)"
   ]
  },
  {
   "cell_type": "markdown",
   "metadata": {},
   "source": [
    "<a class=\"anchor\" id=\"third-bullet\">     \n",
    "\n",
    "# 3. Data exploration\n",
    "       \n",
    "</a>\n",
    "</div>"
   ]
  },
  {
   "cell_type": "markdown",
   "metadata": {},
   "source": [
    "##  3.1. Data fields <a class=\"anchor\" id=\"3.1\"></a>"
   ]
  },
  {
   "cell_type": "markdown",
   "metadata": {},
   "source": [
    "### Sociodemographic Data\n",
    "-   PatientID - The unique identifier of the patient\n",
    "-   Birth_Year - Patient Year of Birth\n",
    "-   Name - Name of the patient\n",
    "-   Region - Patient Living Region\n",
    "-   Education - Answer to the question: What is the highest grade or year of school you have?\n",
    "-   Disease - The dependent variable. If the patient has the disease (Disease = 1) or not (Disease = 0)\n",
    "\n",
    "### Health Related Data\n",
    "-   PatientID - The unique identifier of the patient\n",
    "-   Height - Patient's height\n",
    "-   Weight - Patient's weight\n",
    "-   Checkup - Answer to the question: How long has it been since you last visited a doctor for a routine Checkup? [A routine Checkup is a general physical exam, not an exam for a specific injury, illness, or condition.]\n",
    "-   Diabetes - Answer to the question: (Ever told) you or your direct relatives have diabetes?\n",
    "-   High_Cholesterol - Cholesterol value\n",
    "-   Blood_Pressure - Blood Pressure in rest value\n",
    "-   Mental Health - Answer to the question: During the past 30 days, for about how many days did poor physical or mental health keep you from doing your usual activities, such as self-care, work, or recreation?\n",
    "-   Physical Health - Answer to the question: Thinking about your physical health, which includes physical illness and injury, for how many days during the past 30 days was your physical health not good to the point where it was difficult to walk?\n",
    "\n",
    "### Habits Related Data\n",
    "-   PatientID - The unique identifier of the patient\n",
    "-   Smoking_Habit - Answer to the question: Do you smoke more than 10 cigars daily?\n",
    "-   Drinking_Habit - Answer to the question: What is your behavior concerning alcohol consumption?\n",
    "-   Exercise - Answer to the question: Do you exercise (more than 30 minutes) 3 times per week or more?\n",
    "-   Fruit_Habit - Answer to the question: How many portions of fruits do you consume per day?\n",
    "-   Water_Habit - Answer to the question: How much water do you drink per day?"
   ]
  },
  {
   "cell_type": "code",
   "execution_count": 157,
   "metadata": {},
   "outputs": [
    {
     "data": {
      "text/html": [
       "<div>\n",
       "<style scoped>\n",
       "    .dataframe tbody tr th:only-of-type {\n",
       "        vertical-align: middle;\n",
       "    }\n",
       "\n",
       "    .dataframe tbody tr th {\n",
       "        vertical-align: top;\n",
       "    }\n",
       "\n",
       "    .dataframe thead th {\n",
       "        text-align: right;\n",
       "    }\n",
       "</style>\n",
       "<table border=\"1\" class=\"dataframe\">\n",
       "  <thead>\n",
       "    <tr style=\"text-align: right;\">\n",
       "      <th></th>\n",
       "      <th>Name</th>\n",
       "      <th>Birth_Year</th>\n",
       "      <th>Region</th>\n",
       "      <th>Education</th>\n",
       "      <th>Disease</th>\n",
       "      <th>Smoking_Habit</th>\n",
       "      <th>Drinking_Habit</th>\n",
       "      <th>Exercise</th>\n",
       "      <th>Fruit_Habit</th>\n",
       "      <th>Water_Habit</th>\n",
       "      <th>Height</th>\n",
       "      <th>Weight</th>\n",
       "      <th>High_Cholesterol</th>\n",
       "      <th>Blood_Pressure</th>\n",
       "      <th>Mental_Health</th>\n",
       "      <th>Physical_Health</th>\n",
       "      <th>Checkup</th>\n",
       "      <th>Diabetes</th>\n",
       "    </tr>\n",
       "    <tr>\n",
       "      <th>PatientID</th>\n",
       "      <th></th>\n",
       "      <th></th>\n",
       "      <th></th>\n",
       "      <th></th>\n",
       "      <th></th>\n",
       "      <th></th>\n",
       "      <th></th>\n",
       "      <th></th>\n",
       "      <th></th>\n",
       "      <th></th>\n",
       "      <th></th>\n",
       "      <th></th>\n",
       "      <th></th>\n",
       "      <th></th>\n",
       "      <th></th>\n",
       "      <th></th>\n",
       "      <th></th>\n",
       "      <th></th>\n",
       "    </tr>\n",
       "  </thead>\n",
       "  <tbody>\n",
       "    <tr>\n",
       "      <th>1167</th>\n",
       "      <td>Mrs. Stephanie Gay</td>\n",
       "      <td>1965</td>\n",
       "      <td>London</td>\n",
       "      <td>High School Incomplete (10th to 11th grade)</td>\n",
       "      <td>1</td>\n",
       "      <td>No</td>\n",
       "      <td>I usually consume alcohol every day</td>\n",
       "      <td>Yes</td>\n",
       "      <td>Less than 1. I do not consume fruits every day.</td>\n",
       "      <td>Between one liter and two liters</td>\n",
       "      <td>155</td>\n",
       "      <td>67</td>\n",
       "      <td>358</td>\n",
       "      <td>120</td>\n",
       "      <td>21</td>\n",
       "      <td>2</td>\n",
       "      <td>More than 3 years</td>\n",
       "      <td>Neither I nor my immediate family have diabetes.</td>\n",
       "    </tr>\n",
       "    <tr>\n",
       "      <th>1805</th>\n",
       "      <td>Mr. Sherman Nero</td>\n",
       "      <td>1969</td>\n",
       "      <td>South West</td>\n",
       "      <td>High School Incomplete (10th to 11th grade)</td>\n",
       "      <td>1</td>\n",
       "      <td>No</td>\n",
       "      <td>I consider myself a social drinker</td>\n",
       "      <td>Yes</td>\n",
       "      <td>Less than 1. I do not consume fruits every day.</td>\n",
       "      <td>Between one liter and two liters</td>\n",
       "      <td>173</td>\n",
       "      <td>88</td>\n",
       "      <td>230</td>\n",
       "      <td>142</td>\n",
       "      <td>9</td>\n",
       "      <td>0</td>\n",
       "      <td>Not sure</td>\n",
       "      <td>Neither I nor my immediate family have diabetes.</td>\n",
       "    </tr>\n",
       "  </tbody>\n",
       "</table>\n",
       "</div>"
      ],
      "text/plain": [
       "                         Name  Birth_Year      Region  \\\n",
       "PatientID                                               \n",
       "1167       Mrs. Stephanie Gay        1965      London   \n",
       "1805         Mr. Sherman Nero        1969  South West   \n",
       "\n",
       "                                             Education  Disease Smoking_Habit  \\\n",
       "PatientID                                                                       \n",
       "1167       High School Incomplete (10th to 11th grade)        1            No   \n",
       "1805       High School Incomplete (10th to 11th grade)        1            No   \n",
       "\n",
       "                                Drinking_Habit Exercise  \\\n",
       "PatientID                                                 \n",
       "1167       I usually consume alcohol every day      Yes   \n",
       "1805        I consider myself a social drinker      Yes   \n",
       "\n",
       "                                               Fruit_Habit  \\\n",
       "PatientID                                                    \n",
       "1167       Less than 1. I do not consume fruits every day.   \n",
       "1805       Less than 1. I do not consume fruits every day.   \n",
       "\n",
       "                                Water_Habit  Height  Weight  High_Cholesterol  \\\n",
       "PatientID                                                                       \n",
       "1167       Between one liter and two liters     155      67               358   \n",
       "1805       Between one liter and two liters     173      88               230   \n",
       "\n",
       "           Blood_Pressure  Mental_Health  Physical_Health            Checkup  \\\n",
       "PatientID                                                                      \n",
       "1167                  120             21                2  More than 3 years   \n",
       "1805                  142              9                0           Not sure   \n",
       "\n",
       "                                                   Diabetes  \n",
       "PatientID                                                    \n",
       "1167       Neither I nor my immediate family have diabetes.  \n",
       "1805       Neither I nor my immediate family have diabetes.  "
      ]
     },
     "execution_count": 157,
     "metadata": {},
     "output_type": "execute_result"
    }
   ],
   "source": [
    "# Display the first 2 rows of the training data\n",
    "train_data.head(2)"
   ]
  },
  {
   "cell_type": "code",
   "execution_count": 158,
   "metadata": {},
   "outputs": [
    {
     "data": {
      "text/html": [
       "<div>\n",
       "<style scoped>\n",
       "    .dataframe tbody tr th:only-of-type {\n",
       "        vertical-align: middle;\n",
       "    }\n",
       "\n",
       "    .dataframe tbody tr th {\n",
       "        vertical-align: top;\n",
       "    }\n",
       "\n",
       "    .dataframe thead th {\n",
       "        text-align: right;\n",
       "    }\n",
       "</style>\n",
       "<table border=\"1\" class=\"dataframe\">\n",
       "  <thead>\n",
       "    <tr style=\"text-align: right;\">\n",
       "      <th></th>\n",
       "      <th>Name</th>\n",
       "      <th>Birth_Year</th>\n",
       "      <th>Region</th>\n",
       "      <th>Education</th>\n",
       "      <th>Smoking_Habit</th>\n",
       "      <th>Drinking_Habit</th>\n",
       "      <th>Exercise</th>\n",
       "      <th>Fruit_Habit</th>\n",
       "      <th>Water_Habit</th>\n",
       "      <th>Height</th>\n",
       "      <th>Weight</th>\n",
       "      <th>High_Cholesterol</th>\n",
       "      <th>Blood_Pressure</th>\n",
       "      <th>Mental_Health</th>\n",
       "      <th>Physical_Health</th>\n",
       "      <th>Checkup</th>\n",
       "      <th>Diabetes</th>\n",
       "    </tr>\n",
       "    <tr>\n",
       "      <th>PatientID</th>\n",
       "      <th></th>\n",
       "      <th></th>\n",
       "      <th></th>\n",
       "      <th></th>\n",
       "      <th></th>\n",
       "      <th></th>\n",
       "      <th></th>\n",
       "      <th></th>\n",
       "      <th></th>\n",
       "      <th></th>\n",
       "      <th></th>\n",
       "      <th></th>\n",
       "      <th></th>\n",
       "      <th></th>\n",
       "      <th></th>\n",
       "      <th></th>\n",
       "      <th></th>\n",
       "    </tr>\n",
       "  </thead>\n",
       "  <tbody>\n",
       "    <tr>\n",
       "      <th>1343</th>\n",
       "      <td>Mr. Ricardo Sherman</td>\n",
       "      <td>1970</td>\n",
       "      <td>East Midlands</td>\n",
       "      <td>Elementary School (1st to 9th grade)</td>\n",
       "      <td>Yes</td>\n",
       "      <td>I usually consume alcohol every day</td>\n",
       "      <td>No</td>\n",
       "      <td>Less than 1. I do not consume fruits every day.</td>\n",
       "      <td>Between one liter and two liters</td>\n",
       "      <td>172</td>\n",
       "      <td>80</td>\n",
       "      <td>203</td>\n",
       "      <td>172</td>\n",
       "      <td>20</td>\n",
       "      <td>2</td>\n",
       "      <td>Not sure</td>\n",
       "      <td>I have/had pregnancy diabetes or borderline di...</td>\n",
       "    </tr>\n",
       "    <tr>\n",
       "      <th>1727</th>\n",
       "      <td>Mr. Jessie Strickland</td>\n",
       "      <td>1966</td>\n",
       "      <td>Yorkshire and the Humber</td>\n",
       "      <td>University Complete (3 or more years)</td>\n",
       "      <td>No</td>\n",
       "      <td>I consider myself a social drinker</td>\n",
       "      <td>No</td>\n",
       "      <td>Less than 1. I do not consume fruits every day.</td>\n",
       "      <td>More than half a liter but less than one liter</td>\n",
       "      <td>171</td>\n",
       "      <td>80</td>\n",
       "      <td>225</td>\n",
       "      <td>130</td>\n",
       "      <td>21</td>\n",
       "      <td>0</td>\n",
       "      <td>Not sure</td>\n",
       "      <td>I do have diabetes</td>\n",
       "    </tr>\n",
       "  </tbody>\n",
       "</table>\n",
       "</div>"
      ],
      "text/plain": [
       "                            Name  Birth_Year                    Region  \\\n",
       "PatientID                                                                \n",
       "1343         Mr. Ricardo Sherman        1970             East Midlands   \n",
       "1727       Mr. Jessie Strickland        1966  Yorkshire and the Humber   \n",
       "\n",
       "                                       Education Smoking_Habit  \\\n",
       "PatientID                                                        \n",
       "1343        Elementary School (1st to 9th grade)           Yes   \n",
       "1727       University Complete (3 or more years)            No   \n",
       "\n",
       "                                Drinking_Habit Exercise  \\\n",
       "PatientID                                                 \n",
       "1343       I usually consume alcohol every day       No   \n",
       "1727        I consider myself a social drinker       No   \n",
       "\n",
       "                                               Fruit_Habit  \\\n",
       "PatientID                                                    \n",
       "1343       Less than 1. I do not consume fruits every day.   \n",
       "1727       Less than 1. I do not consume fruits every day.   \n",
       "\n",
       "                                              Water_Habit  Height  Weight  \\\n",
       "PatientID                                                                   \n",
       "1343                     Between one liter and two liters     172      80   \n",
       "1727       More than half a liter but less than one liter     171      80   \n",
       "\n",
       "           High_Cholesterol  Blood_Pressure  Mental_Health  Physical_Health  \\\n",
       "PatientID                                                                     \n",
       "1343                    203             172             20                2   \n",
       "1727                    225             130             21                0   \n",
       "\n",
       "            Checkup                                           Diabetes  \n",
       "PatientID                                                               \n",
       "1343       Not sure  I have/had pregnancy diabetes or borderline di...  \n",
       "1727       Not sure                                 I do have diabetes  "
      ]
     },
     "execution_count": 158,
     "metadata": {},
     "output_type": "execute_result"
    }
   ],
   "source": [
    "# Display the first 2 rows of the test data\n",
    "test_data.head(2)"
   ]
  },
  {
   "cell_type": "markdown",
   "metadata": {},
   "source": [
    "## 3.2. Exploratory Data Analysis <a class=\"anchor\" id=\"3.2\"></a>"
   ]
  },
  {
   "cell_type": "code",
   "execution_count": 159,
   "metadata": {},
   "outputs": [
    {
     "name": "stdout",
     "output_type": "stream",
     "text": [
      "There are 800 observations and 18 features in the training data\n"
     ]
    }
   ],
   "source": [
    "# Print how many observations and features are in the training data\n",
    "print('There are {} observations and {} features in the training data'.format(train_data.shape[0], train_data.shape[1]))"
   ]
  },
  {
   "cell_type": "code",
   "execution_count": 160,
   "metadata": {},
   "outputs": [
    {
     "name": "stdout",
     "output_type": "stream",
     "text": [
      "<class 'pandas.core.frame.DataFrame'>\n",
      "Int64Index: 800 entries, 1167 to 1117\n",
      "Data columns (total 18 columns):\n",
      " #   Column            Non-Null Count  Dtype \n",
      "---  ------            --------------  ----- \n",
      " 0   Name              800 non-null    object\n",
      " 1   Birth_Year        800 non-null    int64 \n",
      " 2   Region            800 non-null    object\n",
      " 3   Education         787 non-null    object\n",
      " 4   Disease           800 non-null    int64 \n",
      " 5   Smoking_Habit     800 non-null    object\n",
      " 6   Drinking_Habit    800 non-null    object\n",
      " 7   Exercise          800 non-null    object\n",
      " 8   Fruit_Habit       800 non-null    object\n",
      " 9   Water_Habit       800 non-null    object\n",
      " 10  Height            800 non-null    int64 \n",
      " 11  Weight            800 non-null    int64 \n",
      " 12  High_Cholesterol  800 non-null    int64 \n",
      " 13  Blood_Pressure    800 non-null    int64 \n",
      " 14  Mental_Health     800 non-null    int64 \n",
      " 15  Physical_Health   800 non-null    int64 \n",
      " 16  Checkup           800 non-null    object\n",
      " 17  Diabetes          800 non-null    object\n",
      "dtypes: int64(8), object(10)\n",
      "memory usage: 118.8+ KB\n"
     ]
    }
   ],
   "source": [
    "# Presenting all the columns in the training data\n",
    "train_data.info()"
   ]
  },
  {
   "cell_type": "code",
   "execution_count": 161,
   "metadata": {},
   "outputs": [
    {
     "name": "stdout",
     "output_type": "stream",
     "text": [
      "<class 'pandas.core.frame.DataFrame'>\n",
      "Int64Index: 225 entries, 1343 to 1757\n",
      "Data columns (total 17 columns):\n",
      " #   Column            Non-Null Count  Dtype \n",
      "---  ------            --------------  ----- \n",
      " 0   Name              225 non-null    object\n",
      " 1   Birth_Year        225 non-null    int64 \n",
      " 2   Region            225 non-null    object\n",
      " 3   Education         225 non-null    object\n",
      " 4   Smoking_Habit     225 non-null    object\n",
      " 5   Drinking_Habit    225 non-null    object\n",
      " 6   Exercise          225 non-null    object\n",
      " 7   Fruit_Habit       225 non-null    object\n",
      " 8   Water_Habit       225 non-null    object\n",
      " 9   Height            225 non-null    int64 \n",
      " 10  Weight            225 non-null    int64 \n",
      " 11  High_Cholesterol  225 non-null    int64 \n",
      " 12  Blood_Pressure    225 non-null    int64 \n",
      " 13  Mental_Health     225 non-null    int64 \n",
      " 14  Physical_Health   225 non-null    int64 \n",
      " 15  Checkup           225 non-null    object\n",
      " 16  Diabetes          225 non-null    object\n",
      "dtypes: int64(7), object(10)\n",
      "memory usage: 31.6+ KB\n"
     ]
    }
   ],
   "source": [
    "# Presenting all the columns in the test data\n",
    "test_data.info()"
   ]
  },
  {
   "cell_type": "markdown",
   "metadata": {},
   "source": [
    "## 3.3 Features Distributions <a class=\"anchor\" id=\"3.3\"></a>"
   ]
  },
  {
   "cell_type": "markdown",
   "metadata": {},
   "source": [
    "### Categorical"
   ]
  },
  {
   "cell_type": "code",
   "execution_count": 162,
   "metadata": {},
   "outputs": [
    {
     "name": "stdout",
     "output_type": "stream",
     "text": [
      "|                          |   Region |\n",
      "|:-------------------------|---------:|\n",
      "| East Midlands            |      154 |\n",
      "| London                   |      136 |\n",
      "| South West               |      107 |\n",
      "| West Midlands            |       89 |\n",
      "| South East               |       84 |\n",
      "| East of England          |       80 |\n",
      "| Yorkshire and the Humber |       64 |\n",
      "| North West               |       59 |\n",
      "| North East               |       22 |\n",
      "| LONDON                   |        5 |\n"
     ]
    },
    {
     "data": {
      "image/png": "[encoded data removed]",
      "text/plain": [
       "<Figure size 432x288 with 1 Axes>"
      ]
     },
     "metadata": {},
     "output_type": "display_data"
    },
    {
     "name": "stdout",
     "output_type": "stream",
     "text": [
      "---------------------------------------------------------------------------------------------\n",
      "|                                             |   Education |\n",
      "|:--------------------------------------------|------------:|\n",
      "| University Complete (3 or more years)       |         239 |\n",
      "| High School Graduate                        |         196 |\n",
      "| Elementary School (1st to 9th grade)        |         183 |\n",
      "| High School Incomplete (10th to 11th grade) |         102 |\n",
      "| University Incomplete (1 to 2 years)        |          37 |\n",
      "| I never attended school / Other             |          30 |\n"
     ]
    },
    {
     "data": {
      "image/png": "[encoded data removed]",
      "text/plain": [
       "<Figure size 432x288 with 1 Axes>"
      ]
     },
     "metadata": {},
     "output_type": "display_data"
    },
    {
     "name": "stdout",
     "output_type": "stream",
     "text": [
      "---------------------------------------------------------------------------------------------\n",
      "|     |   Smoking_Habit |\n",
      "|:----|----------------:|\n",
      "| No  |             673 |\n",
      "| Yes |             127 |\n"
     ]
    },
    {
     "data": {
      "image/png": "[encoded data removed]",
      "text/plain": [
       "<Figure size 432x288 with 1 Axes>"
      ]
     },
     "metadata": {},
     "output_type": "display_data"
    },
    {
     "name": "stdout",
     "output_type": "stream",
     "text": [
      "---------------------------------------------------------------------------------------------\n",
      "|                                      |   Drinking_Habit |\n",
      "|:-------------------------------------|-----------------:|\n",
      "| I usually consume alcohol every day  |              406 |\n",
      "| I consider myself a social drinker   |              383 |\n",
      "| I do not consume any type of alcohol |               11 |\n"
     ]
    },
    {
     "data": {
      "image/png": "[encoded data removed]",
      "text/plain": [
       "<Figure size 432x288 with 1 Axes>"
      ]
     },
     "metadata": {},
     "output_type": "display_data"
    },
    {
     "name": "stdout",
     "output_type": "stream",
     "text": [
      "---------------------------------------------------------------------------------------------\n",
      "|     |   Exercise |\n",
      "|:----|-----------:|\n",
      "| No  |        536 |\n",
      "| Yes |        264 |\n"
     ]
    },
    {
     "data": {
      "image/png": "[encoded data removed]",
      "text/plain": [
       "<Figure size 432x288 with 1 Axes>"
      ]
     },
     "metadata": {},
     "output_type": "display_data"
    },
    {
     "name": "stdout",
     "output_type": "stream",
     "text": [
      "---------------------------------------------------------------------------------------------\n",
      "|                                                 |   Fruit_Habit |\n",
      "|:------------------------------------------------|--------------:|\n",
      "| Less than 1. I do not consume fruits every day. |           452 |\n",
      "| 1 to 2 pieces of fruit in average               |           175 |\n",
      "| 3 to 4 pieces of fruit in average               |           105 |\n",
      "| 5 to 6 pieces of fruit in average               |            56 |\n",
      "| More than six pieces of fruit                   |            12 |\n"
     ]
    },
    {
     "data": {
      "image/png": "[encoded data removed]",
      "text/plain": [
       "<Figure size 432x288 with 1 Axes>"
      ]
     },
     "metadata": {},
     "output_type": "display_data"
    },
    {
     "name": "stdout",
     "output_type": "stream",
     "text": [
      "---------------------------------------------------------------------------------------------\n",
      "|                                                |   Water_Habit |\n",
      "|:-----------------------------------------------|--------------:|\n",
      "| Between one liter and two liters               |           364 |\n",
      "| More than half a liter but less than one liter |           352 |\n",
      "| Less than half a liter                         |            84 |\n"
     ]
    },
    {
     "data": {
      "image/png": "[encoded data removed]",
      "text/plain": [
       "<Figure size 432x288 with 1 Axes>"
      ]
     },
     "metadata": {},
     "output_type": "display_data"
    },
    {
     "name": "stdout",
     "output_type": "stream",
     "text": [
      "---------------------------------------------------------------------------------------------\n",
      "|                                        |   Checkup |\n",
      "|:---------------------------------------|----------:|\n",
      "| More than 3 years                      |       429 |\n",
      "| Not sure                               |       312 |\n",
      "| Less than 3 years but more than 1 year |        53 |\n",
      "| Less than three months                 |         6 |\n"
     ]
    },
    {
     "data": {
      "image/png": "[encoded data removed]",
      "text/plain": [
       "<Figure size 432x288 with 1 Axes>"
      ]
     },
     "metadata": {},
     "output_type": "display_data"
    },
    {
     "name": "stdout",
     "output_type": "stream",
     "text": [
      "---------------------------------------------------------------------------------------------\n",
      "|                                                                            |   Diabetes |\n",
      "|:---------------------------------------------------------------------------|-----------:|\n",
      "| Neither I nor my immediate family have diabetes.                           |        392 |\n",
      "| I have/had pregnancy diabetes or borderline diabetes                       |        206 |\n",
      "| I do have diabetes                                                         |        144 |\n",
      "| I don't have diabetes, but I have direct family members who have diabetes. |         58 |\n"
     ]
    },
    {
     "data": {
      "image/png": "[encoded data removed]",
      "text/plain": [
       "<Figure size 432x288 with 1 Axes>"
      ]
     },
     "metadata": {},
     "output_type": "display_data"
    },
    {
     "name": "stdout",
     "output_type": "stream",
     "text": [
      "---------------------------------------------------------------------------------------------\n"
     ]
    }
   ],
   "source": [
    "# Print value counts for each category and plot the distribution of the feature\n",
    "# Select only the categorical features except name feature\n",
    "categorical_features = [feature for feature in train_data.columns if train_data[feature].dtypes == 'O' and feature not in ['Name']]\n",
    "\n",
    "for col in train_data[categorical_features]:\n",
    "    print(train_data[col].value_counts().to_markdown())\n",
    "    plt.title('Distribution of {}'.format(col))\n",
    "    sns.countplot(y = col, data = train_data[categorical_features], color = 'cornflowerblue')\n",
    "    plt.ylabel('')\n",
    "    plt.show()\n",
    "    print('---------------------------------------------------------------------------------------------')"
   ]
  },
  {
   "cell_type": "markdown",
   "metadata": {},
   "source": [
    "### Numerical"
   ]
  },
  {
   "cell_type": "code",
   "execution_count": 163,
   "metadata": {},
   "outputs": [
    {
     "data": {
      "image/png": "[encoded data removed]",
      "text/plain": [
       "<Figure size 1440x792 with 8 Axes>"
      ]
     },
     "metadata": {},
     "output_type": "display_data"
    }
   ],
   "source": [
    "# Plot all the numerical features distribution in one plot\n",
    "# Select only the numerical features\n",
    "numerical_features = [feature for feature in train_data.columns if train_data[feature].dtypes != 'O']\n",
    "\n",
    "# All Numeric Variables' Histograms in one figure\n",
    "sns.set()\n",
    "\n",
    "# Prepare figure. Create individual axes where each histogram will be placed\n",
    "fig, axes = plt.subplots(2, ceil(len(numerical_features) / 2), figsize=(20, 11))\n",
    "\n",
    "# Plot data\n",
    "# Iterate across axes objects and associate each histogram:\n",
    "for ax, feat in zip(axes.flatten(), numerical_features):\n",
    "    ax.hist(train_data[feat])\n",
    "    ax.set_title(feat, y=-0.13)\n",
    "    \n",
    "# Layout\n",
    "# Add a centered title to the figure:\n",
    "title = \"Numeric Variables' Histograms\"\n",
    "\n",
    "plt.suptitle(title)\n",
    "\n",
    "plt.show()"
   ]
  },
  {
   "cell_type": "markdown",
   "metadata": {},
   "source": [
    "### Duplicated rows"
   ]
  },
  {
   "cell_type": "code",
   "execution_count": 164,
   "metadata": {},
   "outputs": [
    {
     "name": "stdout",
     "output_type": "stream",
     "text": [
      "There are no duplicated data in the training data\n"
     ]
    }
   ],
   "source": [
    "# Find out if there are any missing values in the training data\n",
    "if train_data.duplicated().sum() > 0:\n",
    "    print('There are duplicated data in the training data')\n",
    "else:\n",
    "    print('There are no duplicated data in the training data')\n"
   ]
  },
  {
   "cell_type": "markdown",
   "metadata": {},
   "source": [
    "## 3.4. Coherance check <a class=\"anchor\" id=\"3.4\"></a>"
   ]
  },
  {
   "cell_type": "code",
   "execution_count": 165,
   "metadata": {},
   "outputs": [
    {
     "name": "stdout",
     "output_type": "stream",
     "text": [
      "PatientID is unique in the training data\n"
     ]
    }
   ],
   "source": [
    "# Find out if there is duplicated index in the training data\n",
    "if train_data.index.is_unique == True:\n",
    "    print('PatientID is unique in the training data')\n",
    "else:\n",
    "    print('PatientID is not unique in the training data')"
   ]
  },
  {
   "cell_type": "code",
   "execution_count": 166,
   "metadata": {},
   "outputs": [
    {
     "name": "stdout",
     "output_type": "stream",
     "text": [
      "Name is not unique in the training data\n"
     ]
    }
   ],
   "source": [
    "# Find out if there is duplicated names in the training data\n",
    "if train_data['Name'].is_unique == True:\n",
    "    print('Name is unique in the training data')\n",
    "else:\n",
    "    print('Name is not unique in the training data')"
   ]
  },
  {
   "cell_type": "code",
   "execution_count": 167,
   "metadata": {},
   "outputs": [
    {
     "data": {
      "text/html": [
       "<div>\n",
       "<style scoped>\n",
       "    .dataframe tbody tr th:only-of-type {\n",
       "        vertical-align: middle;\n",
       "    }\n",
       "\n",
       "    .dataframe tbody tr th {\n",
       "        vertical-align: top;\n",
       "    }\n",
       "\n",
       "    .dataframe thead th {\n",
       "        text-align: right;\n",
       "    }\n",
       "</style>\n",
       "<table border=\"1\" class=\"dataframe\">\n",
       "  <thead>\n",
       "    <tr style=\"text-align: right;\">\n",
       "      <th></th>\n",
       "      <th>Name</th>\n",
       "      <th>Birth_Year</th>\n",
       "      <th>Region</th>\n",
       "      <th>Education</th>\n",
       "      <th>Disease</th>\n",
       "      <th>Smoking_Habit</th>\n",
       "      <th>Drinking_Habit</th>\n",
       "      <th>Exercise</th>\n",
       "      <th>Fruit_Habit</th>\n",
       "      <th>Water_Habit</th>\n",
       "      <th>Height</th>\n",
       "      <th>Weight</th>\n",
       "      <th>High_Cholesterol</th>\n",
       "      <th>Blood_Pressure</th>\n",
       "      <th>Mental_Health</th>\n",
       "      <th>Physical_Health</th>\n",
       "      <th>Checkup</th>\n",
       "      <th>Diabetes</th>\n",
       "    </tr>\n",
       "    <tr>\n",
       "      <th>PatientID</th>\n",
       "      <th></th>\n",
       "      <th></th>\n",
       "      <th></th>\n",
       "      <th></th>\n",
       "      <th></th>\n",
       "      <th></th>\n",
       "      <th></th>\n",
       "      <th></th>\n",
       "      <th></th>\n",
       "      <th></th>\n",
       "      <th></th>\n",
       "      <th></th>\n",
       "      <th></th>\n",
       "      <th></th>\n",
       "      <th></th>\n",
       "      <th></th>\n",
       "      <th></th>\n",
       "      <th></th>\n",
       "    </tr>\n",
       "  </thead>\n",
       "  <tbody>\n",
       "    <tr>\n",
       "      <th>1221</th>\n",
       "      <td>Mr. Gary Miller</td>\n",
       "      <td>1959</td>\n",
       "      <td>North West</td>\n",
       "      <td>University Complete (3 or more years)</td>\n",
       "      <td>0</td>\n",
       "      <td>No</td>\n",
       "      <td>I consider myself a social drinker</td>\n",
       "      <td>No</td>\n",
       "      <td>1 to 2 pieces of fruit in average</td>\n",
       "      <td>Less than half a liter</td>\n",
       "      <td>172</td>\n",
       "      <td>65</td>\n",
       "      <td>258</td>\n",
       "      <td>130</td>\n",
       "      <td>17</td>\n",
       "      <td>6</td>\n",
       "      <td>Not sure</td>\n",
       "      <td>Neither I nor my immediate family have diabetes.</td>\n",
       "    </tr>\n",
       "    <tr>\n",
       "      <th>1694</th>\n",
       "      <td>Mr. Gary Miller</td>\n",
       "      <td>1983</td>\n",
       "      <td>South West</td>\n",
       "      <td>I never attended school / Other</td>\n",
       "      <td>0</td>\n",
       "      <td>No</td>\n",
       "      <td>I usually consume alcohol every day</td>\n",
       "      <td>No</td>\n",
       "      <td>Less than 1. I do not consume fruits every day.</td>\n",
       "      <td>More than half a liter but less than one liter</td>\n",
       "      <td>178</td>\n",
       "      <td>61</td>\n",
       "      <td>223</td>\n",
       "      <td>118</td>\n",
       "      <td>15</td>\n",
       "      <td>5</td>\n",
       "      <td>Not sure</td>\n",
       "      <td>Neither I nor my immediate family have diabetes.</td>\n",
       "    </tr>\n",
       "  </tbody>\n",
       "</table>\n",
       "</div>"
      ],
      "text/plain": [
       "                      Name  Birth_Year      Region  \\\n",
       "PatientID                                            \n",
       "1221       Mr. Gary Miller        1959  North West   \n",
       "1694       Mr. Gary Miller        1983  South West   \n",
       "\n",
       "                                       Education  Disease Smoking_Habit  \\\n",
       "PatientID                                                                 \n",
       "1221       University Complete (3 or more years)        0            No   \n",
       "1694             I never attended school / Other        0            No   \n",
       "\n",
       "                                Drinking_Habit Exercise  \\\n",
       "PatientID                                                 \n",
       "1221        I consider myself a social drinker       No   \n",
       "1694       I usually consume alcohol every day       No   \n",
       "\n",
       "                                               Fruit_Habit  \\\n",
       "PatientID                                                    \n",
       "1221                     1 to 2 pieces of fruit in average   \n",
       "1694       Less than 1. I do not consume fruits every day.   \n",
       "\n",
       "                                              Water_Habit  Height  Weight  \\\n",
       "PatientID                                                                   \n",
       "1221                               Less than half a liter     172      65   \n",
       "1694       More than half a liter but less than one liter     178      61   \n",
       "\n",
       "           High_Cholesterol  Blood_Pressure  Mental_Health  Physical_Health  \\\n",
       "PatientID                                                                     \n",
       "1221                    258             130             17                6   \n",
       "1694                    223             118             15                5   \n",
       "\n",
       "            Checkup                                          Diabetes  \n",
       "PatientID                                                              \n",
       "1221       Not sure  Neither I nor my immediate family have diabetes.  \n",
       "1694       Not sure  Neither I nor my immediate family have diabetes.  "
      ]
     },
     "execution_count": 167,
     "metadata": {},
     "output_type": "execute_result"
    }
   ],
   "source": [
    "# Show duplicated Name rows\n",
    "train_data[train_data['Name'].duplicated(keep = False)]"
   ]
  },
  {
   "cell_type": "markdown",
   "metadata": {},
   "source": [
    "Even though Name has duplicated values, is not a problem because these two rows are different people with the same name."
   ]
  },
  {
   "cell_type": "code",
   "execution_count": 168,
   "metadata": {},
   "outputs": [
    {
     "name": "stdout",
     "output_type": "stream",
     "text": [
      "There are no values greater than 30 in Mental_Health feature\n"
     ]
    }
   ],
   "source": [
    "# if in Mental_Health feature exists values greater than 30\n",
    "if train_data['Mental_Health'].max() > 30:\n",
    "    print('There are values greater than 30 in Mental_Health feature')\n",
    "else:\n",
    "    print('There are no values greater than 30 in Mental_Health feature')"
   ]
  },
  {
   "cell_type": "code",
   "execution_count": 169,
   "metadata": {},
   "outputs": [
    {
     "name": "stdout",
     "output_type": "stream",
     "text": [
      "There are no values greater than 30 in Physical_Health feature\n"
     ]
    }
   ],
   "source": [
    "# if in Physical_Health feature exists values greater than 30\n",
    "if train_data['Physical_Health'].max() > 30:\n",
    "    print('There are values greater than 30 in Physical_Health feature')\n",
    "else:\n",
    "    print('There are no values greater than 30 in Physical_Health feature')"
   ]
  },
  {
   "cell_type": "markdown",
   "metadata": {},
   "source": [
    "## 3.5. Outliers Check <a class=\"anchor\" id=\"3.5\"></a>"
   ]
  },
  {
   "cell_type": "code",
   "execution_count": 170,
   "metadata": {},
   "outputs": [],
   "source": [
    "# Define metric and non-metric datasets\n",
    "metric = train_data.drop(columns='Disease').select_dtypes(include=np.number)\n",
    "non_metric = train_data.select_dtypes(exclude=np.number)"
   ]
  },
  {
   "cell_type": "code",
   "execution_count": 171,
   "metadata": {},
   "outputs": [
    {
     "data": {
      "image/png": "[encoded data removed]",
      "text/plain": [
       "<Figure size 1080x576 with 7 Axes>"
      ]
     },
     "metadata": {},
     "output_type": "display_data"
    }
   ],
   "source": [
    "# Box plots for the numeric variables\n",
    "sns.set(style=\"whitegrid\")\n",
    "\n",
    "data = pd.melt(metric)\n",
    "plot_features = metric.columns\n",
    "\n",
    "#Prepare figure layout\n",
    "fig, axes = plt.subplots(1, len(plot_features), figsize=(15,8), constrained_layout=True)\n",
    "    \n",
    "# Draw the boxplots\n",
    "for i in zip(axes, plot_features):\n",
    "    sns.boxplot(x=\"variable\", y=\"value\", data=data.loc[data[\"variable\"]==i[1]], ax=i[0], color='cornflowerblue')\n",
    "    i[0].set_xlabel(\"\")\n",
    "    i[0].set_ylabel(\"\")\n",
    "\n",
    "# Finalize the plot\n",
    "plt.suptitle(\"Numeric variables' box plots\", fontsize=25)\n",
    "sns.despine(bottom=True)\n",
    "\n",
    "plt.show()"
   ]
  },
  {
   "cell_type": "markdown",
   "metadata": {},
   "source": [
    "<a class=\"anchor\" id=\"forth-bullet\">     \n",
    "\n",
    "# 4. Data Preprocessing\n",
    "    \n",
    "</a>\n",
    "</div>\n"
   ]
  },
  {
   "cell_type": "markdown",
   "metadata": {},
   "source": [
    "##  4.1. Outliers Treatment <a class=\"anchor\" id=\"4.1\"></a>"
   ]
  },
  {
   "cell_type": "markdown",
   "metadata": {},
   "source": [
    "### Detection Methods"
   ]
  },
  {
   "cell_type": "code",
   "execution_count": 172,
   "metadata": {},
   "outputs": [],
   "source": [
    "# Outlier detection for Mental Health feature using IQR method\n",
    "def outlier_detection_iqr(data, feature):\n",
    "    q1 = data[feature].quantile(0.25)\n",
    "    q3 = data[feature].quantile(0.75)\n",
    "    iqr = q3 - q1\n",
    "    lower = q1 - 1.5 * iqr\n",
    "    upper = q3 + 1.5 * iqr\n",
    "    return lower, upper"
   ]
  },
  {
   "cell_type": "code",
   "execution_count": 173,
   "metadata": {},
   "outputs": [],
   "source": [
    "# Mean and stardard deviation method for outlier detection\n",
    "def outlier_detection_normal(data, feature):\n",
    "    mean = data[feature].mean()\n",
    "    std = data[feature].std()\n",
    "    lower = mean - 3 * std\n",
    "    upper = mean + 3 * std\n",
    "    return lower, upper"
   ]
  },
  {
   "cell_type": "code",
   "execution_count": 174,
   "metadata": {},
   "outputs": [],
   "source": [
    "def printoutliers(listoutliers, feature):\n",
    "# porcentage of outliers in high cholesterol feature over the total number of observations\n",
    "    print('There are {} outliers in {} feature, which is {}% of the total number of observations'\\\n",
    "    .format(len(listoutliers), feature, round(len(listoutliers) / len(train_data) * 100, 2)))"
   ]
  },
  {
   "cell_type": "markdown",
   "metadata": {},
   "source": [
    "### Birth Year Feature"
   ]
  },
  {
   "cell_type": "code",
   "execution_count": 175,
   "metadata": {},
   "outputs": [
    {
     "name": "stdout",
     "output_type": "stream",
     "text": [
      "There are 12 outliers in Birth_Year feature, which is 1.5% of the total number of observations\n"
     ]
    }
   ],
   "source": [
    "# Outlier detection for Birth_Year feature\n",
    "lower, upper = outlier_detection_iqr(train_data, 'Birth_Year')\n",
    "\n",
    "# Outliers in Birth_Year feature\n",
    "outliers_birth_year = train_data[(train_data['Birth_Year'] < lower) | (train_data['Birth_Year'] > upper)]\n",
    "\n",
    "# Create a list of outliers indexes\n",
    "outliers_birth_year_index_iqr = outliers_birth_year.index\n",
    "\n",
    "#call the function printoutliers\n",
    "printoutliers(outliers_birth_year_index_iqr, 'Birth_Year')"
   ]
  },
  {
   "cell_type": "code",
   "execution_count": 176,
   "metadata": {},
   "outputs": [
    {
     "name": "stdout",
     "output_type": "stream",
     "text": [
      "There are 12 outliers in Birth_Year feature, which is 1.5% of the total number of observations\n"
     ]
    }
   ],
   "source": [
    "# Outlier detection for Birth_Year feature\n",
    "lower, upper = outlier_detection_normal(train_data, 'Birth_Year')\n",
    "\n",
    "# Outliers in Birth_Year feature\n",
    "outliers_birth_year = train_data[(train_data['Birth_Year'] < lower) | (train_data['Birth_Year'] > upper)]\n",
    "\n",
    "# Create a list of outliers indexes\n",
    "outliers_birth_year_index_norm = outliers_birth_year.index\n",
    "\n",
    "#call the function printoutliers\n",
    "printoutliers(outliers_birth_year_index_norm, 'Birth_Year')"
   ]
  },
  {
   "cell_type": "markdown",
   "metadata": {},
   "source": [
    "### High Cholesterol Feature"
   ]
  },
  {
   "cell_type": "code",
   "execution_count": 177,
   "metadata": {},
   "outputs": [
    {
     "name": "stdout",
     "output_type": "stream",
     "text": [
      "There are 11 outliers in High_Cholesterol feature, which is 1.38% of the total number of observations\n"
     ]
    }
   ],
   "source": [
    "# Outlier detection for High Cholesterol feature\n",
    "lower, upper = outlier_detection_iqr(train_data, 'High_Cholesterol')\n",
    "\n",
    "# Outliers in high cholesterol feature\n",
    "outliers_high_ch = train_data[(train_data['High_Cholesterol'] < lower) | (train_data['High_Cholesterol'] > upper)]\n",
    "\n",
    "# Create a list of outliers indexes\n",
    "outliers_high_ch_index_iqr = outliers_high_ch.index\n",
    "\n",
    "#call the function printoutliers\n",
    "printoutliers(outliers_high_ch_index_iqr, 'High_Cholesterol')"
   ]
  },
  {
   "cell_type": "code",
   "execution_count": 178,
   "metadata": {},
   "outputs": [
    {
     "name": "stdout",
     "output_type": "stream",
     "text": [
      "There are 9 outliers in High_Cholesterol feature, which is 1.12% of the total number of observations\n"
     ]
    }
   ],
   "source": [
    "# Outlier detection for High Cholesterol feature\n",
    "lower, upper = outlier_detection_normal(train_data, 'High_Cholesterol')\n",
    "\n",
    "# Outliers in high cholesterol feature\n",
    "outliers_high_ch = train_data[(train_data['High_Cholesterol'] < lower) | (train_data['High_Cholesterol'] > upper)]\n",
    "\n",
    "# Create a list of outliers indexes\n",
    "outliers_high_ch_index_norm = outliers_high_ch.index\n",
    "\n",
    "#call the function printoutliers\n",
    "printoutliers(outliers_high_ch_index_norm, 'High_Cholesterol')"
   ]
  },
  {
   "cell_type": "markdown",
   "metadata": {},
   "source": [
    "### Blood Pressure"
   ]
  },
  {
   "cell_type": "code",
   "execution_count": 179,
   "metadata": {},
   "outputs": [
    {
     "name": "stdout",
     "output_type": "stream",
     "text": [
      "There are 19 outliers in Blood_Pressure feature, which is 2.38% of the total number of observations\n"
     ]
    }
   ],
   "source": [
    "# Outlier detection for Blood Pressure feature\n",
    "lower, upper = outlier_detection_iqr(train_data, 'Blood_Pressure')\n",
    "\n",
    "# Outliers in high cholesterol feature\n",
    "outliers_blood = train_data[(train_data['Blood_Pressure'] < lower) | (train_data['Blood_Pressure'] > upper)]\n",
    "\n",
    "# Create a list of outliers indexes\n",
    "outliers_blood_index_iqr = outliers_blood.index\n",
    "\n",
    "#call the function printoutliers\n",
    "printoutliers(outliers_blood_index_iqr, 'Blood_Pressure')"
   ]
  },
  {
   "cell_type": "code",
   "execution_count": 180,
   "metadata": {},
   "outputs": [
    {
     "name": "stdout",
     "output_type": "stream",
     "text": [
      "There are 6 outliers in Blood_Pressure feature, which is 0.75% of the total number of observations\n"
     ]
    }
   ],
   "source": [
    "# Outlier detection for Blood Pressure feature\n",
    "lower, upper = outlier_detection_normal(train_data, 'Blood_Pressure')\n",
    "\n",
    "# Outliers in high cholesterol feature\n",
    "outliers_blood = train_data[(train_data['Blood_Pressure'] < lower) | (train_data['Blood_Pressure'] > upper)]\n",
    "\n",
    "# Create a list of outliers indexes\n",
    "outliers_blood_index_norm = outliers_blood.index\n",
    "\n",
    "#call the function printoutliers\n",
    "printoutliers(outliers_blood_index_norm, 'Blood_Pressure')"
   ]
  },
  {
   "cell_type": "markdown",
   "metadata": {},
   "source": [
    "### Mental_Health"
   ]
  },
  {
   "cell_type": "code",
   "execution_count": 181,
   "metadata": {},
   "outputs": [
    {
     "name": "stdout",
     "output_type": "stream",
     "text": [
      "There are 4 outliers in Mental_Health feature, which is 0.5% of the total number of observations\n"
     ]
    }
   ],
   "source": [
    "# Outlier detection for Mental_Health feature\n",
    "lower, upper = outlier_detection_iqr(train_data, 'Mental_Health')\n",
    "\n",
    "# Outliers in Mental_Health feature\n",
    "outliers_mental = train_data[(train_data['Mental_Health'] < lower) | (train_data['Mental_Health'] > upper)]\n",
    "\n",
    "# Create a list of outliers indexes\n",
    "outliers_mental_index_iqr = outliers_mental.index\n",
    "\n",
    "#call the function printoutliers\n",
    "printoutliers(outliers_mental_index_iqr, 'Mental_Health')"
   ]
  },
  {
   "cell_type": "code",
   "execution_count": 182,
   "metadata": {},
   "outputs": [
    {
     "name": "stdout",
     "output_type": "stream",
     "text": [
      "There are 4 outliers in Mental_Health feature, which is 0.5% of the total number of observations\n"
     ]
    }
   ],
   "source": [
    "# Outlier detection for Mental_Health feature\n",
    "lower, upper = outlier_detection_normal(train_data, 'Mental_Health')\n",
    "\n",
    "# Outliers in Mental_Health feature\n",
    "outliers_mental = train_data[(train_data['Mental_Health'] < lower) | (train_data['Mental_Health'] > upper)]\n",
    "\n",
    "# Create a list of outliers indexes\n",
    "outliers_mental_index_norm = outliers_mental.index\n",
    "\n",
    "#call the function printoutliers\n",
    "printoutliers(outliers_mental_index_norm, 'Mental_Health')"
   ]
  },
  {
   "cell_type": "markdown",
   "metadata": {},
   "source": [
    "### Physical_Health"
   ]
  },
  {
   "cell_type": "code",
   "execution_count": 183,
   "metadata": {},
   "outputs": [
    {
     "name": "stdout",
     "output_type": "stream",
     "text": [
      "There are 25 outliers in Physical_Health feature, which is 3.12% of the total number of observations\n"
     ]
    }
   ],
   "source": [
    "# Outlier detection for Physical_Health feature\n",
    "lower, upper = outlier_detection_iqr(train_data, 'Physical_Health')\n",
    "\n",
    "# Outliers in Physical_Health feature\n",
    "outliers_physical = train_data[(train_data['Physical_Health'] < lower) | (train_data['Physical_Health'] > upper)]\n",
    "\n",
    "# Create a list of outliers indexes\n",
    "outliers_physical_index_iqr = outliers_physical.index\n",
    "\n",
    "#call the function printoutliers\n",
    "printoutliers(outliers_physical_index_iqr, 'Physical_Health')"
   ]
  },
  {
   "cell_type": "code",
   "execution_count": 184,
   "metadata": {},
   "outputs": [
    {
     "name": "stdout",
     "output_type": "stream",
     "text": [
      "There are 8 outliers in Physical_Health feature, which is 1.0% of the total number of observations\n"
     ]
    }
   ],
   "source": [
    "# Outlier detection for Physical_Health feature\n",
    "lower, upper = outlier_detection_normal(train_data, 'Physical_Health')\n",
    "\n",
    "# Outliers in Physical_Health feature\n",
    "outliers_physical = train_data[(train_data['Physical_Health'] < lower) | (train_data['Physical_Health'] > upper)]\n",
    "\n",
    "# Create a list of outliers indexes\n",
    "outliers_physical_index_norm = outliers_physical.index\n",
    "\n",
    "#call the function printoutliers\n",
    "printoutliers(outliers_physical_index_norm, 'Physical_Health')"
   ]
  },
  {
   "cell_type": "markdown",
   "metadata": {},
   "source": [
    "### Height"
   ]
  },
  {
   "cell_type": "code",
   "execution_count": 185,
   "metadata": {},
   "outputs": [
    {
     "name": "stdout",
     "output_type": "stream",
     "text": [
      "There are 0 outliers in Height feature, which is 0.0% of the total number of observations\n"
     ]
    }
   ],
   "source": [
    "# Outlier detection for Height feature\n",
    "lower, upper = outlier_detection_iqr(train_data, 'Height')\n",
    "\n",
    "# Outliers in Height feature\n",
    "outliers_height = train_data[(train_data['Height'] < lower) | (train_data['Height'] > upper)]\n",
    "\n",
    "# Create a list of outliers indexes\n",
    "outliers_height_index_iqr = outliers_height.index\n",
    "\n",
    "#call the function printoutliers\n",
    "printoutliers(outliers_height_index_iqr, 'Height')\n"
   ]
  },
  {
   "cell_type": "code",
   "execution_count": 186,
   "metadata": {},
   "outputs": [
    {
     "name": "stdout",
     "output_type": "stream",
     "text": [
      "There are 0 outliers in Height feature, which is 0.0% of the total number of observations\n"
     ]
    }
   ],
   "source": [
    "# Outlier detection for Height feature\n",
    "lower, upper = outlier_detection_normal(train_data, 'Height')\n",
    "\n",
    "# Outliers in Height feature\n",
    "outliers_height = train_data[(train_data['Height'] < lower) | (train_data['Height'] > upper)]\n",
    "\n",
    "# Create a list of outliers indexes\n",
    "outliers_height_index_norm = outliers_height.index\n",
    "\n",
    "#call the function printoutliers\n",
    "printoutliers(outliers_height_index_norm, 'Height')"
   ]
  },
  {
   "cell_type": "markdown",
   "metadata": {},
   "source": [
    "### Weight"
   ]
  },
  {
   "cell_type": "code",
   "execution_count": 187,
   "metadata": {},
   "outputs": [
    {
     "name": "stdout",
     "output_type": "stream",
     "text": [
      "There are 0 outliers in Weight feature, which is 0.0% of the total number of observations\n"
     ]
    }
   ],
   "source": [
    "# Outlier detection for Weight feature\n",
    "lower, upper = outlier_detection_iqr(train_data, 'Weight')\n",
    "\n",
    "# Outliers in Weight feature\n",
    "outliers_weight = train_data[(train_data['Weight'] < lower) | (train_data['Weight'] > upper)]\n",
    "\n",
    "# Create a list of outliers indexes\n",
    "outliers_weight_index_iqr = outliers_weight.index\n",
    "\n",
    "#call the function printoutliers\n",
    "printoutliers(outliers_weight_index_iqr, 'Weight')"
   ]
  },
  {
   "cell_type": "code",
   "execution_count": 188,
   "metadata": {},
   "outputs": [
    {
     "name": "stdout",
     "output_type": "stream",
     "text": [
      "There are 0 outliers in Weight feature, which is 0.0% of the total number of observations\n"
     ]
    }
   ],
   "source": [
    "# Outlier detection for Weight feature\n",
    "lower, upper = outlier_detection_normal(train_data, 'Weight')\n",
    "\n",
    "# Outliers in Weight feature\n",
    "outliers_weight = train_data[(train_data['Weight'] < lower) | (train_data['Weight'] > upper)]\n",
    "\n",
    "# Create a list of outliers indexes\n",
    "outliers_weight_index_norm = outliers_weight.index\n",
    "\n",
    "#call the function printoutliers\n",
    "printoutliers(outliers_weight_index_norm, 'Weight')"
   ]
  },
  {
   "cell_type": "markdown",
   "metadata": {},
   "source": [
    "### Outliers Elimination"
   ]
  },
  {
   "cell_type": "code",
   "execution_count": 189,
   "metadata": {},
   "outputs": [],
   "source": [
    "def outlier_elimination(list_outliers):\n",
    "    # Save train_data shape before dropping outliers\n",
    "    train_data_bef_out = train_data.shape\n",
    "    # for each outlier in the list, drop the row\n",
    "    for i in list_outliers:\n",
    "        # if i is not in train_data.index, it means that the row has already been dropped\n",
    "        if i in train_data.index:\n",
    "            train_data.drop(i, inplace = True)\n",
    "        else:\n",
    "            continue\n",
    "    # print the shape of train_data after dropping outliers\n",
    "    print('The shape of train_data after dropping outliers is {}'.format(train_data.shape))\n",
    "    # print the quantity of rows dropped\n",
    "    print('The quantity of rows dropped is {}'.format(train_data_bef_out[0] - train_data.shape[0]))\n",
    "    # print the porcentage of rows dropped\n",
    "    print('The porcentage of rows dropped is {}%'.format(round((train_data_bef_out[0] - train_data.shape[0]) / train_data_bef_out[0] * 100, 2)))"
   ]
  },
  {
   "cell_type": "code",
   "execution_count": 190,
   "metadata": {},
   "outputs": [
    {
     "name": "stdout",
     "output_type": "stream",
     "text": [
      "The shape of train_data after dropping outliers is (785, 18)\n",
      "The quantity of rows dropped is 15\n",
      "The porcentage of rows dropped is 1.88%\n"
     ]
    }
   ],
   "source": [
    "# Create a list of all outliers\n",
    "list_outliers = list(set(#outliers_high_ch_index_iqr.tolist() +\\\n",
    "                        outliers_high_ch_index_norm.tolist() +\\\n",
    "                        outliers_blood_index_norm.tolist()\n",
    "                    ))\n",
    "# Eliminate outliers\n",
    "outlier_elimination(list_outliers)"
   ]
  },
  {
   "cell_type": "markdown",
   "metadata": {},
   "source": [
    "##  4.2. Data Split <a class=\"anchor\" id=\"4.2\"></a>"
   ]
  },
  {
   "cell_type": "code",
   "execution_count": 191,
   "metadata": {},
   "outputs": [],
   "source": [
    "# Separate data and target\n",
    "X = train_data.drop('Disease', axis = 1)\n",
    "y = train_data['Disease']"
   ]
  },
  {
   "cell_type": "code",
   "execution_count": 192,
   "metadata": {},
   "outputs": [],
   "source": [
    "# Split data into training and validation sets\n",
    "X_train, X_val, y_train, y_val = train_test_split(X, y, test_size = 0.3, random_state = 0, stratify = y, shuffle=True)"
   ]
  },
  {
   "cell_type": "code",
   "execution_count": 193,
   "metadata": {},
   "outputs": [
    {
     "name": "stdout",
     "output_type": "stream",
     "text": [
      "The shape of the training set is (549, 17)\n",
      "The shape of the validation set is (236, 17)\n"
     ]
    }
   ],
   "source": [
    "# Print the shape of the training and validation sets\n",
    "print('The shape of the training set is {}'.format(X_train.shape))\n",
    "print('The shape of the validation set is {}'.format(X_val.shape))"
   ]
  },
  {
   "cell_type": "markdown",
   "metadata": {},
   "source": [
    "\n",
    "##  4.3. Feature Engineering <a class=\"anchor\" id=\"4.3\"></a>"
   ]
  },
  {
   "cell_type": "code",
   "execution_count": 194,
   "metadata": {},
   "outputs": [],
   "source": [
    "# transform region feature to lower case\n",
    "X_train['Region'] = X_train['Region'].str.lower()\n",
    "X_val['Region'] = X_val['Region'].str.lower()\n",
    "test_data['Region'] = test_data['Region'].str.lower()"
   ]
  },
  {
   "cell_type": "code",
   "execution_count": 195,
   "metadata": {},
   "outputs": [],
   "source": [
    "# Create Age feature using Birth Year in training, validation and test sets\n",
    "X_train['Age'] = 2022 - X_train['Birth_Year']\n",
    "X_val['Age'] = 2022 - X_val['Birth_Year']\n",
    "test_data['Age'] = 2022 - test_data['Birth_Year']\n",
    "\n",
    "# Drop Birth_Year feature\n",
    "X_train.drop('Birth_Year', axis = 1, inplace = True)\n",
    "X_val.drop('Birth_Year', axis = 1, inplace = True)\n",
    "test_data.drop('Birth_Year', axis = 1, inplace = True)"
   ]
  },
  {
   "cell_type": "code",
   "execution_count": 196,
   "metadata": {},
   "outputs": [],
   "source": [
    "# Replace with nan all the values greater than 100 in the Age feature\n",
    "X_train.loc[X_train['Age'] > 100, 'Age'] = np.nan\n",
    "X_val.loc[X_val['Age'] > 100, 'Age'] = np.nan\n",
    "test_data.loc[test_data['Age'] > 100, 'Age'] = np.nan\n",
    "\n",
    "# Replace nan values with the mean of the Age feature\n",
    "X_train['Age'].fillna(X_train['Age'].mean(), inplace = True)\n",
    "X_val['Age'].fillna(X_train['Age'].mean(), inplace = True)\n",
    "test_data['Age'].fillna(X_train['Age'].mean(), inplace = True)"
   ]
  },
  {
   "cell_type": "code",
   "execution_count": 197,
   "metadata": {},
   "outputs": [],
   "source": [
    "# Create BMI feature using Weight and Height in training, validation and test sets\n",
    "X_train['BMI'] = X_train['Weight'] / ((X_train['Height']/100)**2)\n",
    "X_val['BMI'] = X_val['Weight'] / ((X_val['Height']/100)**2)\n",
    "test_data['BMI'] = test_data['Weight'] / ((test_data['Height']/100)**2)\n",
    "\n",
    "# Drop Weight and Height features\n",
    "X_train.drop(['Weight', 'Height'], axis = 1, inplace = True)\n",
    "X_val.drop(['Weight', 'Height'], axis = 1, inplace = True)\n",
    "test_data.drop(['Weight', 'Height'], axis = 1, inplace = True)"
   ]
  },
  {
   "cell_type": "code",
   "execution_count": 198,
   "metadata": {},
   "outputs": [],
   "source": [
    "# Create a new feature called 'Gender' using 'Name' feature\n",
    "# Create a pandas dataframe that contains the split values of the 'Name' feature using dot as separator in X_train and X_val datasets\n",
    "name_df = X_train['Name'].str.split('.', expand=True)\n",
    "name_df_val = X_val['Name'].str.split('.', expand=True)\n",
    "name_df_test = test_data['Name'].str.split('.', expand=True)\n",
    "# create a new feature called 'Gender' in X_train and X_val datasets using the first column of name_df\n",
    "X_train['Gender'] = name_df[0]\n",
    "X_val['Gender'] = name_df_val[0]\n",
    "test_data['Gender'] = name_df_test[0]\n",
    "# Drop the 'Name' feature in X_train and X_val datasets\n",
    "X_train.drop(columns='Name', inplace=True)\n",
    "X_val.drop(columns='Name', inplace=True)\n",
    "test_data.drop(columns='Name', inplace=True)\n",
    "\n",
    "# Replace the values in Gender feature with 0 and 1, where 0 represents 'Mr' and 1 represents 'Mrs' in X_train and X_val datasets\n",
    "datasets = [X_train, X_val, test_data]\n",
    "for dataset in datasets:\n",
    "    dataset.loc[dataset['Gender'] == 'Mr', 'Gender'] = 0\n",
    "    dataset.loc[dataset['Gender'] == 'Mrs', 'Gender'] = 1\n",
    "\n",
    "# Set Gender feature as object\n",
    "X_train['Gender'] = X_train['Gender'].astype('O')\n",
    "X_val['Gender'] = X_val['Gender'].astype('O')\n",
    "test_data['Gender'] = test_data['Gender'].astype('O')"
   ]
  },
  {
   "cell_type": "markdown",
   "metadata": {},
   "source": [
    "##  4.4. NaN values Handling <a class=\"anchor\" id=\"4.4\"></a>"
   ]
  },
  {
   "cell_type": "code",
   "execution_count": 199,
   "metadata": {},
   "outputs": [],
   "source": [
    "# In Education feature, drop nan values\n",
    "# Join x_train and y_train\n",
    "train_data = pd.concat([X_train, y_train], axis = 1)\n",
    "train_data.dropna(subset = ['Education'], inplace=True)\n",
    "\n",
    "# Join x_val and y_val\n",
    "val_data = pd.concat([X_val, y_val], axis = 1)\n",
    "val_data.dropna(subset = ['Education'], inplace=True)\n",
    "\n",
    "# drop nan values in test_data\n",
    "test_data.dropna(subset = ['Education'], inplace=True)\n",
    "\n",
    "# Separate train_data and val_data into data and target\n",
    "X_train = train_data.drop('Disease', axis = 1)\n",
    "y_train = train_data['Disease']\n",
    "X_val = val_data.drop('Disease', axis = 1)\n",
    "y_val = val_data['Disease']"
   ]
  },
  {
   "cell_type": "markdown",
   "metadata": {},
   "source": [
    "##  4.5. Scaling <a class=\"anchor\" id=\"4.5\"></a>"
   ]
  },
  {
   "cell_type": "code",
   "execution_count": 200,
   "metadata": {},
   "outputs": [],
   "source": [
    "# Separate categorical and numerical features in X_train, X_val and test_data datasets\n",
    "cat_features = X_train.select_dtypes(exclude= ['float64', 'int64']).columns\n",
    "num_features = X_train.select_dtypes(include= ['float64', 'int64']).columns\n",
    "\n",
    "# Create a new dataframe called 'X_train_cat' that contains the categorical features in X_train dataset\n",
    "X_train_cat = X_train[cat_features]\n",
    "# Create a new dataframe called 'X_train_num' that contains the metric features in X_train dataset\n",
    "X_train_num = X_train[num_features]\n",
    "\n",
    "# Create a new dataframe called 'X_val_cat' that contains the categorical features in X_val dataset\n",
    "X_val_cat = X_val[cat_features]\n",
    "# Create a new dataframe called 'X_val_num' that contains the metric features in X_val dataset\n",
    "X_val_num = X_val[num_features]\n",
    "\n",
    "# Create a new dataframe called 'test_data_cat' that contains the categorical features in test_data dataset\n",
    "test_data_cat = test_data[cat_features]\n",
    "# Create a new dataframe called 'test_data_num' that contains the metric features in test_data dataset\n",
    "test_data_num = test_data[num_features]"
   ]
  },
  {
   "cell_type": "code",
   "execution_count": 201,
   "metadata": {},
   "outputs": [],
   "source": [
    "# Apply scaling to the metric features in train_data_num and test_data_num datasets\n",
    "scaler = RobustScaler()\n",
    "X_train_num_scaled = pd.DataFrame(scaler.fit_transform(X_train_num), columns = X_train_num.columns, index = X_train_num.index)\n",
    "X_val_num_scaled = pd.DataFrame(scaler.transform(X_val_num), columns = X_val_num.columns, index = X_val_num.index)\n",
    "test_data_num_scaled = pd.DataFrame(scaler.transform(test_data_num), columns = test_data_num.columns, index = test_data_num.index)"
   ]
  },
  {
   "cell_type": "code",
   "execution_count": 202,
   "metadata": {},
   "outputs": [
    {
     "data": {
      "text/html": [
       "<div>\n",
       "<style scoped>\n",
       "    .dataframe tbody tr th:only-of-type {\n",
       "        vertical-align: middle;\n",
       "    }\n",
       "\n",
       "    .dataframe tbody tr th {\n",
       "        vertical-align: top;\n",
       "    }\n",
       "\n",
       "    .dataframe thead th {\n",
       "        text-align: right;\n",
       "    }\n",
       "</style>\n",
       "<table border=\"1\" class=\"dataframe\">\n",
       "  <thead>\n",
       "    <tr style=\"text-align: right;\">\n",
       "      <th></th>\n",
       "      <th>High_Cholesterol</th>\n",
       "      <th>Blood_Pressure</th>\n",
       "      <th>Mental_Health</th>\n",
       "      <th>Physical_Health</th>\n",
       "      <th>Age</th>\n",
       "      <th>BMI</th>\n",
       "    </tr>\n",
       "    <tr>\n",
       "      <th>PatientID</th>\n",
       "      <th></th>\n",
       "      <th></th>\n",
       "      <th></th>\n",
       "      <th></th>\n",
       "      <th></th>\n",
       "      <th></th>\n",
       "    </tr>\n",
       "  </thead>\n",
       "  <tbody>\n",
       "    <tr>\n",
       "      <th>1363</th>\n",
       "      <td>0.112</td>\n",
       "      <td>0.00</td>\n",
       "      <td>0.625</td>\n",
       "      <td>-0.285714</td>\n",
       "      <td>-0.214286</td>\n",
       "      <td>0.476469</td>\n",
       "    </tr>\n",
       "    <tr>\n",
       "      <th>1376</th>\n",
       "      <td>-0.288</td>\n",
       "      <td>0.50</td>\n",
       "      <td>0.375</td>\n",
       "      <td>-0.285714</td>\n",
       "      <td>0.214286</td>\n",
       "      <td>0.303283</td>\n",
       "    </tr>\n",
       "    <tr>\n",
       "      <th>2016</th>\n",
       "      <td>0.688</td>\n",
       "      <td>0.40</td>\n",
       "      <td>0.625</td>\n",
       "      <td>0.571429</td>\n",
       "      <td>0.642857</td>\n",
       "      <td>-0.330659</td>\n",
       "    </tr>\n",
       "    <tr>\n",
       "      <th>1482</th>\n",
       "      <td>0.944</td>\n",
       "      <td>0.50</td>\n",
       "      <td>-0.875</td>\n",
       "      <td>2.571429</td>\n",
       "      <td>-0.357143</td>\n",
       "      <td>-0.849192</td>\n",
       "    </tr>\n",
       "    <tr>\n",
       "      <th>1877</th>\n",
       "      <td>-0.416</td>\n",
       "      <td>-0.40</td>\n",
       "      <td>0.375</td>\n",
       "      <td>-0.285714</td>\n",
       "      <td>-0.928571</td>\n",
       "      <td>0.078192</td>\n",
       "    </tr>\n",
       "    <tr>\n",
       "      <th>...</th>\n",
       "      <td>...</td>\n",
       "      <td>...</td>\n",
       "      <td>...</td>\n",
       "      <td>...</td>\n",
       "      <td>...</td>\n",
       "      <td>...</td>\n",
       "    </tr>\n",
       "    <tr>\n",
       "      <th>1346</th>\n",
       "      <td>0.064</td>\n",
       "      <td>1.00</td>\n",
       "      <td>-0.625</td>\n",
       "      <td>1.428571</td>\n",
       "      <td>-0.428571</td>\n",
       "      <td>-0.835847</td>\n",
       "    </tr>\n",
       "    <tr>\n",
       "      <th>1906</th>\n",
       "      <td>-0.208</td>\n",
       "      <td>0.50</td>\n",
       "      <td>0.750</td>\n",
       "      <td>-0.285714</td>\n",
       "      <td>-1.000000</td>\n",
       "      <td>0.798442</td>\n",
       "    </tr>\n",
       "    <tr>\n",
       "      <th>1852</th>\n",
       "      <td>0.256</td>\n",
       "      <td>-0.10</td>\n",
       "      <td>0.250</td>\n",
       "      <td>-0.285714</td>\n",
       "      <td>-0.285714</td>\n",
       "      <td>0.799320</td>\n",
       "    </tr>\n",
       "    <tr>\n",
       "      <th>1030</th>\n",
       "      <td>-1.120</td>\n",
       "      <td>-0.50</td>\n",
       "      <td>-0.250</td>\n",
       "      <td>1.571429</td>\n",
       "      <td>-0.857143</td>\n",
       "      <td>-1.137786</td>\n",
       "    </tr>\n",
       "    <tr>\n",
       "      <th>1266</th>\n",
       "      <td>0.688</td>\n",
       "      <td>-0.35</td>\n",
       "      <td>-1.625</td>\n",
       "      <td>1.000000</td>\n",
       "      <td>-0.214286</td>\n",
       "      <td>-0.615639</td>\n",
       "    </tr>\n",
       "  </tbody>\n",
       "</table>\n",
       "<p>539 rows × 6 columns</p>\n",
       "</div>"
      ],
      "text/plain": [
       "           High_Cholesterol  Blood_Pressure  Mental_Health  Physical_Health  \\\n",
       "PatientID                                                                     \n",
       "1363                  0.112            0.00          0.625        -0.285714   \n",
       "1376                 -0.288            0.50          0.375        -0.285714   \n",
       "2016                  0.688            0.40          0.625         0.571429   \n",
       "1482                  0.944            0.50         -0.875         2.571429   \n",
       "1877                 -0.416           -0.40          0.375        -0.285714   \n",
       "...                     ...             ...            ...              ...   \n",
       "1346                  0.064            1.00         -0.625         1.428571   \n",
       "1906                 -0.208            0.50          0.750        -0.285714   \n",
       "1852                  0.256           -0.10          0.250        -0.285714   \n",
       "1030                 -1.120           -0.50         -0.250         1.571429   \n",
       "1266                  0.688           -0.35         -1.625         1.000000   \n",
       "\n",
       "                Age       BMI  \n",
       "PatientID                      \n",
       "1363      -0.214286  0.476469  \n",
       "1376       0.214286  0.303283  \n",
       "2016       0.642857 -0.330659  \n",
       "1482      -0.357143 -0.849192  \n",
       "1877      -0.928571  0.078192  \n",
       "...             ...       ...  \n",
       "1346      -0.428571 -0.835847  \n",
       "1906      -1.000000  0.798442  \n",
       "1852      -0.285714  0.799320  \n",
       "1030      -0.857143 -1.137786  \n",
       "1266      -0.214286 -0.615639  \n",
       "\n",
       "[539 rows x 6 columns]"
      ]
     },
     "execution_count": 202,
     "metadata": {},
     "output_type": "execute_result"
    }
   ],
   "source": [
    "# Scaled X_train\n",
    "X_train_num_scaled"
   ]
  },
  {
   "cell_type": "markdown",
   "metadata": {},
   "source": [
    "##  4.6. Feature Selection <a class=\"anchor\" id=\"4.6\"></a>\n"
   ]
  },
  {
   "cell_type": "markdown",
   "metadata": {},
   "source": [
    "## Numerical Variables"
   ]
  },
  {
   "cell_type": "markdown",
   "metadata": {},
   "source": [
    "### Univariate Variables"
   ]
  },
  {
   "cell_type": "code",
   "execution_count": 203,
   "metadata": {},
   "outputs": [],
   "source": [
    "# Univariate Selection\n",
    "X_train_num_scaled.var()\n",
    "# create a list of features with variance different than 0\n",
    "selected_features_var = X_train_num_scaled.var()[X_train_num_scaled.var() != 0].index"
   ]
  },
  {
   "cell_type": "markdown",
   "metadata": {},
   "source": [
    "### Spearman Correlation"
   ]
  },
  {
   "cell_type": "code",
   "execution_count": 204,
   "metadata": {},
   "outputs": [
    {
     "data": {
      "text/html": [
       "<div>\n",
       "<style scoped>\n",
       "    .dataframe tbody tr th:only-of-type {\n",
       "        vertical-align: middle;\n",
       "    }\n",
       "\n",
       "    .dataframe tbody tr th {\n",
       "        vertical-align: top;\n",
       "    }\n",
       "\n",
       "    .dataframe thead th {\n",
       "        text-align: right;\n",
       "    }\n",
       "</style>\n",
       "<table border=\"1\" class=\"dataframe\">\n",
       "  <thead>\n",
       "    <tr style=\"text-align: right;\">\n",
       "      <th></th>\n",
       "      <th>High_Cholesterol</th>\n",
       "      <th>Blood_Pressure</th>\n",
       "      <th>Mental_Health</th>\n",
       "      <th>Physical_Health</th>\n",
       "      <th>Age</th>\n",
       "      <th>BMI</th>\n",
       "      <th>Disease</th>\n",
       "    </tr>\n",
       "    <tr>\n",
       "      <th>PatientID</th>\n",
       "      <th></th>\n",
       "      <th></th>\n",
       "      <th></th>\n",
       "      <th></th>\n",
       "      <th></th>\n",
       "      <th></th>\n",
       "      <th></th>\n",
       "    </tr>\n",
       "  </thead>\n",
       "  <tbody>\n",
       "    <tr>\n",
       "      <th>1363</th>\n",
       "      <td>0.112</td>\n",
       "      <td>0.00</td>\n",
       "      <td>0.625</td>\n",
       "      <td>-0.285714</td>\n",
       "      <td>-0.214286</td>\n",
       "      <td>0.476469</td>\n",
       "      <td>1</td>\n",
       "    </tr>\n",
       "    <tr>\n",
       "      <th>1376</th>\n",
       "      <td>-0.288</td>\n",
       "      <td>0.50</td>\n",
       "      <td>0.375</td>\n",
       "      <td>-0.285714</td>\n",
       "      <td>0.214286</td>\n",
       "      <td>0.303283</td>\n",
       "      <td>1</td>\n",
       "    </tr>\n",
       "    <tr>\n",
       "      <th>2016</th>\n",
       "      <td>0.688</td>\n",
       "      <td>0.40</td>\n",
       "      <td>0.625</td>\n",
       "      <td>0.571429</td>\n",
       "      <td>0.642857</td>\n",
       "      <td>-0.330659</td>\n",
       "      <td>0</td>\n",
       "    </tr>\n",
       "    <tr>\n",
       "      <th>1482</th>\n",
       "      <td>0.944</td>\n",
       "      <td>0.50</td>\n",
       "      <td>-0.875</td>\n",
       "      <td>2.571429</td>\n",
       "      <td>-0.357143</td>\n",
       "      <td>-0.849192</td>\n",
       "      <td>0</td>\n",
       "    </tr>\n",
       "    <tr>\n",
       "      <th>1877</th>\n",
       "      <td>-0.416</td>\n",
       "      <td>-0.40</td>\n",
       "      <td>0.375</td>\n",
       "      <td>-0.285714</td>\n",
       "      <td>-0.928571</td>\n",
       "      <td>0.078192</td>\n",
       "      <td>1</td>\n",
       "    </tr>\n",
       "    <tr>\n",
       "      <th>...</th>\n",
       "      <td>...</td>\n",
       "      <td>...</td>\n",
       "      <td>...</td>\n",
       "      <td>...</td>\n",
       "      <td>...</td>\n",
       "      <td>...</td>\n",
       "      <td>...</td>\n",
       "    </tr>\n",
       "    <tr>\n",
       "      <th>1346</th>\n",
       "      <td>0.064</td>\n",
       "      <td>1.00</td>\n",
       "      <td>-0.625</td>\n",
       "      <td>1.428571</td>\n",
       "      <td>-0.428571</td>\n",
       "      <td>-0.835847</td>\n",
       "      <td>0</td>\n",
       "    </tr>\n",
       "    <tr>\n",
       "      <th>1906</th>\n",
       "      <td>-0.208</td>\n",
       "      <td>0.50</td>\n",
       "      <td>0.750</td>\n",
       "      <td>-0.285714</td>\n",
       "      <td>-1.000000</td>\n",
       "      <td>0.798442</td>\n",
       "      <td>1</td>\n",
       "    </tr>\n",
       "    <tr>\n",
       "      <th>1852</th>\n",
       "      <td>0.256</td>\n",
       "      <td>-0.10</td>\n",
       "      <td>0.250</td>\n",
       "      <td>-0.285714</td>\n",
       "      <td>-0.285714</td>\n",
       "      <td>0.799320</td>\n",
       "      <td>0</td>\n",
       "    </tr>\n",
       "    <tr>\n",
       "      <th>1030</th>\n",
       "      <td>-1.120</td>\n",
       "      <td>-0.50</td>\n",
       "      <td>-0.250</td>\n",
       "      <td>1.571429</td>\n",
       "      <td>-0.857143</td>\n",
       "      <td>-1.137786</td>\n",
       "      <td>0</td>\n",
       "    </tr>\n",
       "    <tr>\n",
       "      <th>1266</th>\n",
       "      <td>0.688</td>\n",
       "      <td>-0.35</td>\n",
       "      <td>-1.625</td>\n",
       "      <td>1.000000</td>\n",
       "      <td>-0.214286</td>\n",
       "      <td>-0.615639</td>\n",
       "      <td>0</td>\n",
       "    </tr>\n",
       "  </tbody>\n",
       "</table>\n",
       "<p>539 rows × 7 columns</p>\n",
       "</div>"
      ],
      "text/plain": [
       "           High_Cholesterol  Blood_Pressure  Mental_Health  Physical_Health  \\\n",
       "PatientID                                                                     \n",
       "1363                  0.112            0.00          0.625        -0.285714   \n",
       "1376                 -0.288            0.50          0.375        -0.285714   \n",
       "2016                  0.688            0.40          0.625         0.571429   \n",
       "1482                  0.944            0.50         -0.875         2.571429   \n",
       "1877                 -0.416           -0.40          0.375        -0.285714   \n",
       "...                     ...             ...            ...              ...   \n",
       "1346                  0.064            1.00         -0.625         1.428571   \n",
       "1906                 -0.208            0.50          0.750        -0.285714   \n",
       "1852                  0.256           -0.10          0.250        -0.285714   \n",
       "1030                 -1.120           -0.50         -0.250         1.571429   \n",
       "1266                  0.688           -0.35         -1.625         1.000000   \n",
       "\n",
       "                Age       BMI  Disease  \n",
       "PatientID                               \n",
       "1363      -0.214286  0.476469        1  \n",
       "1376       0.214286  0.303283        1  \n",
       "2016       0.642857 -0.330659        0  \n",
       "1482      -0.357143 -0.849192        0  \n",
       "1877      -0.928571  0.078192        1  \n",
       "...             ...       ...      ...  \n",
       "1346      -0.428571 -0.835847        0  \n",
       "1906      -1.000000  0.798442        1  \n",
       "1852      -0.285714  0.799320        0  \n",
       "1030      -0.857143 -1.137786        0  \n",
       "1266      -0.214286 -0.615639        0  \n",
       "\n",
       "[539 rows x 7 columns]"
      ]
     },
     "execution_count": 204,
     "metadata": {},
     "output_type": "execute_result"
    }
   ],
   "source": [
    "# Add target variable to X_train_num\n",
    "all_train_num = X_train_num_scaled.join(y_train)\n",
    "all_train_num"
   ]
  },
  {
   "cell_type": "code",
   "execution_count": 205,
   "metadata": {},
   "outputs": [
    {
     "data": {
      "text/plain": [
       "<AxesSubplot:>"
      ]
     },
     "execution_count": 205,
     "metadata": {},
     "output_type": "execute_result"
    },
    {
     "data": {
      "image/png": "[encoded data removed]",
      "text/plain": [
       "<Figure size 1440x720 with 2 Axes>"
      ]
     },
     "metadata": {},
     "output_type": "display_data"
    }
   ],
   "source": [
    "# Plot spearman correlation\n",
    "plt.figure(figsize=(20,10))\n",
    "sns.heatmap(all_train_num.corr(method='spearman'), annot=True, cmap='coolwarm')"
   ]
  },
  {
   "cell_type": "code",
   "execution_count": 206,
   "metadata": {},
   "outputs": [
    {
     "data": {
      "text/plain": [
       "[]"
      ]
     },
     "execution_count": 206,
     "metadata": {},
     "output_type": "execute_result"
    }
   ],
   "source": [
    "# list of features with high correlation with target variable, threshold = 0.7, except target variable\n",
    "threshold = 0.7\n",
    "selected_feature_spearman = all_train_num.corr(method='spearman')['Disease'].abs().sort_values(ascending=False)\\\n",
    "            [all_train_num.corr(method='spearman')['Disease'].abs().sort_values(ascending=False) > threshold]\n",
    "selected_feature_spearman = list(selected_feature_spearman.index)\n",
    "selected_feature_spearman.remove('Disease')\n",
    "selected_feature_spearman"
   ]
  },
  {
   "cell_type": "markdown",
   "metadata": {},
   "source": [
    "### RFE"
   ]
  },
  {
   "cell_type": "code",
   "execution_count": 207,
   "metadata": {},
   "outputs": [
    {
     "name": "stdout",
     "output_type": "stream",
     "text": [
      "Optimum number of features: 3\n",
      "Score with 3 features: 0.759657\n"
     ]
    }
   ],
   "source": [
    "# Create a logistic regression model\n",
    "model = LogisticRegression()\n",
    "\n",
    "#no of features\n",
    "nof_list=list(range(1,11))\n",
    "high_score=0\n",
    "#Variable to store the optimum features\n",
    "nof=0           \n",
    "score_list =[]\n",
    "for n in nof_list:\n",
    "    model = LogisticRegression()\n",
    "    rfe = RFE(model,n_features_to_select = n)\n",
    "    X_train_rfe = rfe.fit_transform(X_train_num_scaled,y_train)\n",
    "    X_val_rfe = rfe.transform(X_val_num_scaled)\n",
    "    model.fit(X_train_rfe,y_train)\n",
    "    \n",
    "    score = model.score(X_val_rfe,y_val)\n",
    "    score_list.append(score)\n",
    "    \n",
    "    if(score>high_score):\n",
    "        high_score = score\n",
    "        nof = nof_list[n]\n",
    "print(\"Optimum number of features: %d\" %nof)\n",
    "print(\"Score with %d features: %f\" % (nof, high_score))"
   ]
  },
  {
   "cell_type": "code",
   "execution_count": 208,
   "metadata": {},
   "outputs": [
    {
     "data": {
      "text/plain": [
       "['High_Cholesterol', 'Mental_Health', 'Physical_Health']"
      ]
     },
     "execution_count": 208,
     "metadata": {},
     "output_type": "execute_result"
    }
   ],
   "source": [
    "# Create the RFE model and select 3 attributes\n",
    "rfe = RFE(estimator = model, n_features_to_select = nof)\n",
    "X_rfe = rfe.fit_transform(X = X_train_num_scaled, y = y_train)\n",
    "\n",
    "selected_features_rfe = pd.Series(rfe.support_, index = X_train_num_scaled.columns)\n",
    "# Create a list of the selected features\n",
    "selected_features_rfe = list(selected_features_rfe[selected_features_rfe==True].index)\n",
    "selected_features_rfe"
   ]
  },
  {
   "cell_type": "markdown",
   "metadata": {},
   "source": [
    "### Lasso Regression"
   ]
  },
  {
   "cell_type": "code",
   "execution_count": 209,
   "metadata": {},
   "outputs": [],
   "source": [
    "# Plotting function for feature importance\n",
    "def plot_importance(coef,name):\n",
    "    imp_coef = coef.sort_values()\n",
    "    plt.figure(figsize=(8,10))\n",
    "    imp_coef.plot(kind = \"barh\")\n",
    "    plt.title(\"Feature importance using \" + name + \" Model\")\n",
    "    plt.show()"
   ]
  },
  {
   "cell_type": "code",
   "execution_count": 210,
   "metadata": {},
   "outputs": [
    {
     "name": "stdout",
     "output_type": "stream",
     "text": [
      "Lasso picked 6 variables and eliminated the other 0 variables\n"
     ]
    },
    {
     "data": {
      "image/png": "[encoded data removed]",
      "text/plain": [
       "<Figure size 576x720 with 1 Axes>"
      ]
     },
     "metadata": {},
     "output_type": "display_data"
    }
   ],
   "source": [
    "# Create a Lasso model\n",
    "reg = LassoCV()\n",
    "reg.fit(X_train_num_scaled, y_train)\n",
    "coef = pd.Series(reg.coef_, index = X_train_num_scaled.columns)\n",
    "\n",
    "print(\"Lasso picked \" + str(sum(coef != 0)) + \" variables and eliminated the other \" +  str(sum(coef == 0)) + \" variables\")\n",
    "\n",
    "coef.sort_values()\n",
    "\n",
    "plot_importance(coef,'Lasso')"
   ]
  },
  {
   "cell_type": "code",
   "execution_count": 211,
   "metadata": {},
   "outputs": [
    {
     "data": {
      "text/plain": [
       "['Mental_Health', 'Physical_Health']"
      ]
     },
     "execution_count": 211,
     "metadata": {},
     "output_type": "execute_result"
    }
   ],
   "source": [
    "# with lasso coefficients, select features greater than threshold\n",
    "threshold = 0.1\n",
    "selected_features_greater = pd.Series(coef > threshold, index = X_train_num_scaled.columns)\n",
    "selected_features_less = pd.Series(coef < -threshold, index = X_train_num_scaled.columns)\n",
    "# combine the two series\n",
    "selected_features = selected_features_greater | selected_features_less\n",
    "# Create a list only with the selected features\n",
    "selected_features_lasso = list(selected_features[selected_features == True].index)\n",
    "selected_features_lasso"
   ]
  },
  {
   "cell_type": "markdown",
   "metadata": {},
   "source": [
    "### Sequential Forward Selection (SFS)"
   ]
  },
  {
   "cell_type": "code",
   "execution_count": 212,
   "metadata": {},
   "outputs": [
    {
     "data": {
      "text/html": [
       "<div>\n",
       "<style scoped>\n",
       "    .dataframe tbody tr th:only-of-type {\n",
       "        vertical-align: middle;\n",
       "    }\n",
       "\n",
       "    .dataframe tbody tr th {\n",
       "        vertical-align: top;\n",
       "    }\n",
       "\n",
       "    .dataframe thead th {\n",
       "        text-align: right;\n",
       "    }\n",
       "</style>\n",
       "<table border=\"1\" class=\"dataframe\">\n",
       "  <thead>\n",
       "    <tr style=\"text-align: right;\">\n",
       "      <th></th>\n",
       "      <th>feature_idx</th>\n",
       "      <th>avg_score</th>\n",
       "      <th>feature_names</th>\n",
       "    </tr>\n",
       "  </thead>\n",
       "  <tbody>\n",
       "    <tr>\n",
       "      <th>1</th>\n",
       "      <td>(2,)</td>\n",
       "      <td>0.679035</td>\n",
       "      <td>(Mental_Health,)</td>\n",
       "    </tr>\n",
       "    <tr>\n",
       "      <th>2</th>\n",
       "      <td>(2, 3)</td>\n",
       "      <td>0.716141</td>\n",
       "      <td>(Mental_Health, Physical_Health)</td>\n",
       "    </tr>\n",
       "    <tr>\n",
       "      <th>3</th>\n",
       "      <td>(0, 2, 3)</td>\n",
       "      <td>0.719852</td>\n",
       "      <td>(High_Cholesterol, Mental_Health, Physical_Hea...</td>\n",
       "    </tr>\n",
       "    <tr>\n",
       "      <th>4</th>\n",
       "      <td>(0, 1, 2, 3)</td>\n",
       "      <td>0.729128</td>\n",
       "      <td>(High_Cholesterol, Blood_Pressure, Mental_Heal...</td>\n",
       "    </tr>\n",
       "    <tr>\n",
       "      <th>5</th>\n",
       "      <td>(0, 1, 2, 3, 4)</td>\n",
       "      <td>0.729128</td>\n",
       "      <td>(High_Cholesterol, Blood_Pressure, Mental_Heal...</td>\n",
       "    </tr>\n",
       "    <tr>\n",
       "      <th>6</th>\n",
       "      <td>(0, 1, 2, 3, 4, 5)</td>\n",
       "      <td>0.725417</td>\n",
       "      <td>(High_Cholesterol, Blood_Pressure, Mental_Heal...</td>\n",
       "    </tr>\n",
       "  </tbody>\n",
       "</table>\n",
       "</div>"
      ],
      "text/plain": [
       "          feature_idx avg_score  \\\n",
       "1                (2,)  0.679035   \n",
       "2              (2, 3)  0.716141   \n",
       "3           (0, 2, 3)  0.719852   \n",
       "4        (0, 1, 2, 3)  0.729128   \n",
       "5     (0, 1, 2, 3, 4)  0.729128   \n",
       "6  (0, 1, 2, 3, 4, 5)  0.725417   \n",
       "\n",
       "                                       feature_names  \n",
       "1                                   (Mental_Health,)  \n",
       "2                   (Mental_Health, Physical_Health)  \n",
       "3  (High_Cholesterol, Mental_Health, Physical_Hea...  \n",
       "4  (High_Cholesterol, Blood_Pressure, Mental_Heal...  \n",
       "5  (High_Cholesterol, Blood_Pressure, Mental_Heal...  \n",
       "6  (High_Cholesterol, Blood_Pressure, Mental_Heal...  "
      ]
     },
     "execution_count": 212,
     "metadata": {},
     "output_type": "execute_result"
    }
   ],
   "source": [
    "# Get metrics features\n",
    "metric_features = X_train_num_scaled.columns.to_list()\n",
    "# Define data and target\n",
    "data = X_train_num_scaled[metric_features]\n",
    "target = y_train\n",
    "# Secuential Feature Selection Algorithm\n",
    "model = LogisticRegression()\n",
    "# Stop when all features have been selected\n",
    "forward = SFS(model, k_features=len(metric_features), forward=True, scoring=\"accuracy\", cv = None)\n",
    "forward.fit(data, target)\n",
    "# Checking the features added at each step\n",
    "forward_table = pd.DataFrame.from_dict(forward.get_metric_dict()).T.drop(columns=['cv_scores', 'ci_bound', 'std_dev', 'std_err'])\n",
    "forward_table"
   ]
  },
  {
   "cell_type": "code",
   "execution_count": 213,
   "metadata": {},
   "outputs": [
    {
     "data": {
      "text/plain": [
       "0.7291280148423006"
      ]
     },
     "execution_count": 213,
     "metadata": {},
     "output_type": "execute_result"
    }
   ],
   "source": [
    "# Iteration with the highest score\n",
    "forward_table_max = forward_table['avg_score'].max()\n",
    "forward_table_max"
   ]
  },
  {
   "cell_type": "code",
   "execution_count": 214,
   "metadata": {},
   "outputs": [
    {
     "data": {
      "text/plain": [
       "['High_Cholesterol', 'Blood_Pressure', 'Mental_Health', 'Physical_Health']"
      ]
     },
     "execution_count": 214,
     "metadata": {},
     "output_type": "execute_result"
    }
   ],
   "source": [
    "# Convert to list without tuple\n",
    "selected_features_sfs = forward_table[forward_table['avg_score']==forward_table_max]['feature_names'].values\n",
    "selected_features_sfs = list(selected_features_sfs[0])\n",
    "selected_features_sfs"
   ]
  },
  {
   "cell_type": "markdown",
   "metadata": {},
   "source": [
    "### Sequential Backward Selection (SBS)"
   ]
  },
  {
   "cell_type": "code",
   "execution_count": 215,
   "metadata": {},
   "outputs": [
    {
     "data": {
      "text/html": [
       "<div>\n",
       "<style scoped>\n",
       "    .dataframe tbody tr th:only-of-type {\n",
       "        vertical-align: middle;\n",
       "    }\n",
       "\n",
       "    .dataframe tbody tr th {\n",
       "        vertical-align: top;\n",
       "    }\n",
       "\n",
       "    .dataframe thead th {\n",
       "        text-align: right;\n",
       "    }\n",
       "</style>\n",
       "<table border=\"1\" class=\"dataframe\">\n",
       "  <thead>\n",
       "    <tr style=\"text-align: right;\">\n",
       "      <th></th>\n",
       "      <th>feature_idx</th>\n",
       "      <th>avg_score</th>\n",
       "      <th>feature_names</th>\n",
       "    </tr>\n",
       "  </thead>\n",
       "  <tbody>\n",
       "    <tr>\n",
       "      <th>6</th>\n",
       "      <td>(0, 1, 2, 3, 4, 5)</td>\n",
       "      <td>0.725417</td>\n",
       "      <td>(High_Cholesterol, Blood_Pressure, Mental_Heal...</td>\n",
       "    </tr>\n",
       "    <tr>\n",
       "      <th>5</th>\n",
       "      <td>(0, 1, 2, 3, 4)</td>\n",
       "      <td>0.729128</td>\n",
       "      <td>(High_Cholesterol, Blood_Pressure, Mental_Heal...</td>\n",
       "    </tr>\n",
       "    <tr>\n",
       "      <th>4</th>\n",
       "      <td>(0, 1, 2, 3)</td>\n",
       "      <td>0.729128</td>\n",
       "      <td>(High_Cholesterol, Blood_Pressure, Mental_Heal...</td>\n",
       "    </tr>\n",
       "    <tr>\n",
       "      <th>3</th>\n",
       "      <td>(0, 2, 3)</td>\n",
       "      <td>0.719852</td>\n",
       "      <td>(High_Cholesterol, Mental_Health, Physical_Hea...</td>\n",
       "    </tr>\n",
       "    <tr>\n",
       "      <th>2</th>\n",
       "      <td>(2, 3)</td>\n",
       "      <td>0.716141</td>\n",
       "      <td>(Mental_Health, Physical_Health)</td>\n",
       "    </tr>\n",
       "    <tr>\n",
       "      <th>1</th>\n",
       "      <td>(2,)</td>\n",
       "      <td>0.679035</td>\n",
       "      <td>(Mental_Health,)</td>\n",
       "    </tr>\n",
       "  </tbody>\n",
       "</table>\n",
       "</div>"
      ],
      "text/plain": [
       "          feature_idx avg_score  \\\n",
       "6  (0, 1, 2, 3, 4, 5)  0.725417   \n",
       "5     (0, 1, 2, 3, 4)  0.729128   \n",
       "4        (0, 1, 2, 3)  0.729128   \n",
       "3           (0, 2, 3)  0.719852   \n",
       "2              (2, 3)  0.716141   \n",
       "1                (2,)  0.679035   \n",
       "\n",
       "                                       feature_names  \n",
       "6  (High_Cholesterol, Blood_Pressure, Mental_Heal...  \n",
       "5  (High_Cholesterol, Blood_Pressure, Mental_Heal...  \n",
       "4  (High_Cholesterol, Blood_Pressure, Mental_Heal...  \n",
       "3  (High_Cholesterol, Mental_Health, Physical_Hea...  \n",
       "2                   (Mental_Health, Physical_Health)  \n",
       "1                                   (Mental_Health,)  "
      ]
     },
     "execution_count": 215,
     "metadata": {},
     "output_type": "execute_result"
    }
   ],
   "source": [
    "# Stop when only one feature remains\n",
    "model = LogisticRegression()\n",
    "backward = SFS(model, k_features=1, forward=False, scoring=\"accuracy\", cv = None)\n",
    "backward.fit(data, target)\n",
    "\n",
    "# Checking the features removed at each step\n",
    "backward_table = pd.DataFrame.from_dict(backward.get_metric_dict()).T.drop(columns=['cv_scores', 'ci_bound', 'std_dev', 'std_err'])\n",
    "backward_table"
   ]
  },
  {
   "cell_type": "code",
   "execution_count": 216,
   "metadata": {},
   "outputs": [
    {
     "data": {
      "text/plain": [
       "0.7291280148423006"
      ]
     },
     "execution_count": 216,
     "metadata": {},
     "output_type": "execute_result"
    }
   ],
   "source": [
    "# Iteration with the highest score\n",
    "backward_table_max = backward_table['avg_score'].max()\n",
    "backward_table_max"
   ]
  },
  {
   "cell_type": "code",
   "execution_count": 217,
   "metadata": {},
   "outputs": [
    {
     "data": {
      "text/plain": [
       "['High_Cholesterol',\n",
       " 'Blood_Pressure',\n",
       " 'Mental_Health',\n",
       " 'Physical_Health',\n",
       " 'Age']"
      ]
     },
     "execution_count": 217,
     "metadata": {},
     "output_type": "execute_result"
    }
   ],
   "source": [
    "# Convert to list without tuple\n",
    "selected_features_sbs = backward_table[backward_table['avg_score']==backward_table_max]['feature_names'].values\n",
    "selected_features_sbs = list(selected_features_sbs[0])\n",
    "selected_features_sbs"
   ]
  },
  {
   "cell_type": "markdown",
   "metadata": {},
   "source": [
    "### Selected Features"
   ]
  },
  {
   "cell_type": "code",
   "execution_count": 218,
   "metadata": {},
   "outputs": [
    {
     "data": {
      "text/html": [
       "<div>\n",
       "<style scoped>\n",
       "    .dataframe tbody tr th:only-of-type {\n",
       "        vertical-align: middle;\n",
       "    }\n",
       "\n",
       "    .dataframe tbody tr th {\n",
       "        vertical-align: top;\n",
       "    }\n",
       "\n",
       "    .dataframe thead th {\n",
       "        text-align: right;\n",
       "    }\n",
       "</style>\n",
       "<table border=\"1\" class=\"dataframe\">\n",
       "  <thead>\n",
       "    <tr style=\"text-align: right;\">\n",
       "      <th></th>\n",
       "      <th>Var</th>\n",
       "      <th>Spearman</th>\n",
       "      <th>RFE</th>\n",
       "      <th>Lasso</th>\n",
       "      <th>SFS</th>\n",
       "      <th>SBS</th>\n",
       "      <th>Selected</th>\n",
       "    </tr>\n",
       "  </thead>\n",
       "  <tbody>\n",
       "    <tr>\n",
       "      <th>High_Cholesterol</th>\n",
       "      <td>Keep</td>\n",
       "      <td>Discard</td>\n",
       "      <td>Keep</td>\n",
       "      <td>Discard</td>\n",
       "      <td>Keep</td>\n",
       "      <td>Keep</td>\n",
       "      <td>Keep</td>\n",
       "    </tr>\n",
       "    <tr>\n",
       "      <th>Blood_Pressure</th>\n",
       "      <td>Keep</td>\n",
       "      <td>Discard</td>\n",
       "      <td>Discard</td>\n",
       "      <td>Discard</td>\n",
       "      <td>Keep</td>\n",
       "      <td>Keep</td>\n",
       "      <td>Discard</td>\n",
       "    </tr>\n",
       "    <tr>\n",
       "      <th>Mental_Health</th>\n",
       "      <td>Keep</td>\n",
       "      <td>Discard</td>\n",
       "      <td>Keep</td>\n",
       "      <td>Keep</td>\n",
       "      <td>Keep</td>\n",
       "      <td>Keep</td>\n",
       "      <td>Keep</td>\n",
       "    </tr>\n",
       "    <tr>\n",
       "      <th>Physical_Health</th>\n",
       "      <td>Keep</td>\n",
       "      <td>Discard</td>\n",
       "      <td>Keep</td>\n",
       "      <td>Keep</td>\n",
       "      <td>Keep</td>\n",
       "      <td>Keep</td>\n",
       "      <td>Keep</td>\n",
       "    </tr>\n",
       "    <tr>\n",
       "      <th>Age</th>\n",
       "      <td>Keep</td>\n",
       "      <td>Discard</td>\n",
       "      <td>Discard</td>\n",
       "      <td>Discard</td>\n",
       "      <td>Discard</td>\n",
       "      <td>Keep</td>\n",
       "      <td>Discard</td>\n",
       "    </tr>\n",
       "    <tr>\n",
       "      <th>BMI</th>\n",
       "      <td>Keep</td>\n",
       "      <td>Discard</td>\n",
       "      <td>Discard</td>\n",
       "      <td>Discard</td>\n",
       "      <td>Discard</td>\n",
       "      <td>Discard</td>\n",
       "      <td>Discard</td>\n",
       "    </tr>\n",
       "  </tbody>\n",
       "</table>\n",
       "</div>"
      ],
      "text/plain": [
       "                   Var Spearman      RFE    Lasso      SFS      SBS Selected\n",
       "High_Cholesterol  Keep  Discard     Keep  Discard     Keep     Keep     Keep\n",
       "Blood_Pressure    Keep  Discard  Discard  Discard     Keep     Keep  Discard\n",
       "Mental_Health     Keep  Discard     Keep     Keep     Keep     Keep     Keep\n",
       "Physical_Health   Keep  Discard     Keep     Keep     Keep     Keep     Keep\n",
       "Age               Keep  Discard  Discard  Discard  Discard     Keep  Discard\n",
       "BMI               Keep  Discard  Discard  Discard  Discard  Discard  Discard"
      ]
     },
     "execution_count": 218,
     "metadata": {},
     "output_type": "execute_result"
    }
   ],
   "source": [
    "# Create a list of the selected features\n",
    "selected_features_list = [selected_features_var, selected_feature_spearman, selected_features_rfe, selected_features_lasso\\\n",
    "                        , selected_features_sfs, selected_features_sbs]\n",
    "# Create a dataframe and set numeric features as index\n",
    "selected_features_df = pd.DataFrame(index = X_train_num_scaled.columns)\n",
    "# create a column for each selected features\n",
    "for i in range(len(selected_features_list)):\n",
    "    selected_features_df[i] = selected_features_df.index.isin(selected_features_list[i])\n",
    "# Replace True with Keep and False with Discard\n",
    "selected_features_df = selected_features_df.replace({True:'Keep', False:'Discard'})\n",
    "# Replace column name with the selected features name\n",
    "selected_features_df.columns = ['Var','Spearman', 'RFE', 'Lasso', 'SFS', 'SBS']\n",
    "# Create a list of the selected features\n",
    "\n",
    "# For each row in selected_features_df, set the mode of the row as a new column called 'Selected'\n",
    "selected_features_df['Selected'] = selected_features_df.mode(axis=1)[0]\n",
    "selected_features_num = selected_features_df[selected_features_df['Selected']=='Keep'].index.to_list()\n",
    "selected_features_df"
   ]
  },
  {
   "cell_type": "markdown",
   "metadata": {},
   "source": [
    "## Categorical Variables"
   ]
  },
  {
   "cell_type": "markdown",
   "metadata": {},
   "source": [
    "### Chi-square"
   ]
  },
  {
   "cell_type": "code",
   "execution_count": 219,
   "metadata": {},
   "outputs": [],
   "source": [
    "selected_features_chi2 = []\n",
    "\n",
    "def TestIndependence(X,y,var,alpha=0.05):        \n",
    "    dfObserved = pd.crosstab(y,X) \n",
    "    chi2, p, dof, expected = chi2_contingency(dfObserved.values)\n",
    "    dfExpected = pd.DataFrame(expected, columns=dfObserved.columns, index = dfObserved.index)\n",
    "    if p<alpha:\n",
    "        # store the feature name in the list\n",
    "        selected_features_chi2.append(var)\n",
    "    return selected_features_chi2"
   ]
  },
  {
   "cell_type": "code",
   "execution_count": 220,
   "metadata": {},
   "outputs": [
    {
     "data": {
      "text/plain": [
       "['Drinking_Habit', 'Exercise', 'Fruit_Habit', 'Checkup', 'Diabetes', 'Gender']"
      ]
     },
     "execution_count": 220,
     "metadata": {},
     "output_type": "execute_result"
    }
   ],
   "source": [
    "for var in X_train_cat:\n",
    "    TestIndependence(X_train_cat[var],y_train, var)\n",
    "# print the list of selected features\n",
    "selected_features_chi2"
   ]
  },
  {
   "cell_type": "markdown",
   "metadata": {},
   "source": [
    "### Dependent Variable Visualization"
   ]
  },
  {
   "cell_type": "code",
   "execution_count": 221,
   "metadata": {},
   "outputs": [],
   "source": [
    "# first join all the training data\n",
    "all_train = X_train.join(y_train)\n",
    "\n",
    "def bar_charts_categorical(df, feature, target):\n",
    "    cont_tab = pd.crosstab(df[feature], df[target], margins = True)\n",
    "    categories = cont_tab.index[:-1]\n",
    "        \n",
    "    fig = plt.figure(figsize=(15, 5))\n",
    "    \n",
    "    plt.subplot(121)\n",
    "    p1 = plt.bar(categories, cont_tab.iloc[:-1, 0].values, 0.55, color=\"gray\")\n",
    "    p2 = plt.bar(categories, cont_tab.iloc[:-1, 1].values, 0.55, bottom=cont_tab.iloc[:-1, 0], color=\"yellowgreen\")\n",
    "    plt.legend((p2[0], p1[0]), ('$y_i=1$', '$y_i=0$'))\n",
    "    plt.title(\"Frequency bar chart\")\n",
    "    plt.xlabel(feature)\n",
    "    plt.ylabel(\"$Frequency$\")\n",
    "    plt.xticks(rotation=90)\n",
    "\n",
    "    # auxiliary data for 122\n",
    "    obs_pct = np.array([np.divide(cont_tab.iloc[:-1, 0].values, cont_tab.iloc[:-1, 2].values), \n",
    "                        np.divide(cont_tab.iloc[:-1, 1].values, cont_tab.iloc[:-1, 2].values)])\n",
    "      \n",
    "    plt.subplot(122)\n",
    "    p1 = plt.bar(categories, obs_pct[0], 0.55, color=\"gray\")\n",
    "    p2 = plt.bar(categories, obs_pct[1], 0.55, bottom=obs_pct[0], color=\"yellowgreen\")\n",
    "    plt.legend((p2[0], p1[0]), ('$y_i=1$', '$y_i=0$'))\n",
    "    plt.title(\"Proportion bar chart\")\n",
    "    plt.xlabel(feature)\n",
    "    plt.ylabel(\"$p$\")\n",
    "    plt.xticks(rotation=90)\n",
    "\n",
    "\n",
    "    plt.show()"
   ]
  },
  {
   "cell_type": "code",
   "execution_count": 222,
   "metadata": {},
   "outputs": [
    {
     "data": {
      "image/png": "[encoded data removed]",
      "text/plain": [
       "<Figure size 1080x360 with 2 Axes>"
      ]
     },
     "metadata": {},
     "output_type": "display_data"
    }
   ],
   "source": [
    "bar_charts_categorical(all_train, \"Region\", \"Disease\")"
   ]
  },
  {
   "cell_type": "code",
   "execution_count": 223,
   "metadata": {},
   "outputs": [
    {
     "data": {
      "image/png": "[encoded data removed]",
      "text/plain": [
       "<Figure size 1080x360 with 2 Axes>"
      ]
     },
     "metadata": {},
     "output_type": "display_data"
    }
   ],
   "source": [
    "bar_charts_categorical(all_train, \"Education\", \"Disease\")"
   ]
  },
  {
   "cell_type": "code",
   "execution_count": 224,
   "metadata": {},
   "outputs": [
    {
     "data": {
      "image/png": "[encoded data removed]",
      "text/plain": [
       "<Figure size 1080x360 with 2 Axes>"
      ]
     },
     "metadata": {},
     "output_type": "display_data"
    }
   ],
   "source": [
    "bar_charts_categorical(all_train, \"Smoking_Habit\", \"Disease\")"
   ]
  },
  {
   "cell_type": "code",
   "execution_count": 225,
   "metadata": {},
   "outputs": [
    {
     "data": {
      "image/png": "[encoded data removed]",
      "text/plain": [
       "<Figure size 1080x360 with 2 Axes>"
      ]
     },
     "metadata": {},
     "output_type": "display_data"
    }
   ],
   "source": [
    "bar_charts_categorical(all_train, \"Drinking_Habit\", \"Disease\")"
   ]
  },
  {
   "cell_type": "code",
   "execution_count": 226,
   "metadata": {},
   "outputs": [
    {
     "data": {
      "image/png": "[encoded data removed]",
      "text/plain": [
       "<Figure size 1080x360 with 2 Axes>"
      ]
     },
     "metadata": {},
     "output_type": "display_data"
    }
   ],
   "source": [
    "bar_charts_categorical(all_train, \"Exercise\", \"Disease\")"
   ]
  },
  {
   "cell_type": "code",
   "execution_count": 227,
   "metadata": {},
   "outputs": [
    {
     "data": {
      "image/png": "[encoded data removed]",
      "text/plain": [
       "<Figure size 1080x360 with 2 Axes>"
      ]
     },
     "metadata": {},
     "output_type": "display_data"
    }
   ],
   "source": [
    "bar_charts_categorical(all_train, \"Fruit_Habit\", \"Disease\")"
   ]
  },
  {
   "cell_type": "code",
   "execution_count": 228,
   "metadata": {},
   "outputs": [
    {
     "data": {
      "image/png": "[encoded data removed]",
      "text/plain": [
       "<Figure size 1080x360 with 2 Axes>"
      ]
     },
     "metadata": {},
     "output_type": "display_data"
    }
   ],
   "source": [
    "bar_charts_categorical(all_train, \"Water_Habit\", \"Disease\")"
   ]
  },
  {
   "cell_type": "code",
   "execution_count": 229,
   "metadata": {},
   "outputs": [
    {
     "data": {
      "image/png": "[encoded data removed]",
      "text/plain": [
       "<Figure size 1080x360 with 2 Axes>"
      ]
     },
     "metadata": {},
     "output_type": "display_data"
    }
   ],
   "source": [
    "bar_charts_categorical(all_train, \"Checkup\", \"Disease\")"
   ]
  },
  {
   "cell_type": "code",
   "execution_count": 230,
   "metadata": {
    "scrolled": true
   },
   "outputs": [
    {
     "data": {
      "image/png": "[encoded data removed]",
      "text/plain": [
       "<Figure size 1080x360 with 2 Axes>"
      ]
     },
     "metadata": {},
     "output_type": "display_data"
    }
   ],
   "source": [
    "bar_charts_categorical(all_train, \"Diabetes\", \"Disease\")"
   ]
  },
  {
   "cell_type": "code",
   "execution_count": 231,
   "metadata": {},
   "outputs": [
    {
     "data": {
      "image/png": "[encoded data removed]",
      "text/plain": [
       "<Figure size 1080x360 with 2 Axes>"
      ]
     },
     "metadata": {},
     "output_type": "display_data"
    }
   ],
   "source": [
    "bar_charts_categorical(all_train, \"Gender\", \"Disease\")"
   ]
  },
  {
   "cell_type": "markdown",
   "metadata": {},
   "source": [
    "### Selected Features"
   ]
  },
  {
   "cell_type": "code",
   "execution_count": 232,
   "metadata": {},
   "outputs": [
    {
     "data": {
      "text/html": [
       "<div>\n",
       "<style scoped>\n",
       "    .dataframe tbody tr th:only-of-type {\n",
       "        vertical-align: middle;\n",
       "    }\n",
       "\n",
       "    .dataframe tbody tr th {\n",
       "        vertical-align: top;\n",
       "    }\n",
       "\n",
       "    .dataframe thead th {\n",
       "        text-align: right;\n",
       "    }\n",
       "</style>\n",
       "<table border=\"1\" class=\"dataframe\">\n",
       "  <thead>\n",
       "    <tr style=\"text-align: right;\">\n",
       "      <th></th>\n",
       "      <th>Chi2</th>\n",
       "      <th>Selected</th>\n",
       "    </tr>\n",
       "  </thead>\n",
       "  <tbody>\n",
       "    <tr>\n",
       "      <th>Region</th>\n",
       "      <td>Discard</td>\n",
       "      <td>Discard</td>\n",
       "    </tr>\n",
       "    <tr>\n",
       "      <th>Education</th>\n",
       "      <td>Discard</td>\n",
       "      <td>Discard</td>\n",
       "    </tr>\n",
       "    <tr>\n",
       "      <th>Smoking_Habit</th>\n",
       "      <td>Discard</td>\n",
       "      <td>Discard</td>\n",
       "    </tr>\n",
       "    <tr>\n",
       "      <th>Drinking_Habit</th>\n",
       "      <td>Keep</td>\n",
       "      <td>Keep</td>\n",
       "    </tr>\n",
       "    <tr>\n",
       "      <th>Exercise</th>\n",
       "      <td>Keep</td>\n",
       "      <td>Keep</td>\n",
       "    </tr>\n",
       "    <tr>\n",
       "      <th>Fruit_Habit</th>\n",
       "      <td>Keep</td>\n",
       "      <td>Keep</td>\n",
       "    </tr>\n",
       "    <tr>\n",
       "      <th>Water_Habit</th>\n",
       "      <td>Discard</td>\n",
       "      <td>Discard</td>\n",
       "    </tr>\n",
       "    <tr>\n",
       "      <th>Checkup</th>\n",
       "      <td>Keep</td>\n",
       "      <td>Keep</td>\n",
       "    </tr>\n",
       "    <tr>\n",
       "      <th>Diabetes</th>\n",
       "      <td>Keep</td>\n",
       "      <td>Keep</td>\n",
       "    </tr>\n",
       "    <tr>\n",
       "      <th>Gender</th>\n",
       "      <td>Keep</td>\n",
       "      <td>Keep</td>\n",
       "    </tr>\n",
       "  </tbody>\n",
       "</table>\n",
       "</div>"
      ],
      "text/plain": [
       "                   Chi2 Selected\n",
       "Region          Discard  Discard\n",
       "Education       Discard  Discard\n",
       "Smoking_Habit   Discard  Discard\n",
       "Drinking_Habit     Keep     Keep\n",
       "Exercise           Keep     Keep\n",
       "Fruit_Habit        Keep     Keep\n",
       "Water_Habit     Discard  Discard\n",
       "Checkup            Keep     Keep\n",
       "Diabetes           Keep     Keep\n",
       "Gender             Keep     Keep"
      ]
     },
     "execution_count": 232,
     "metadata": {},
     "output_type": "execute_result"
    }
   ],
   "source": [
    "# Create a list of the selected features\n",
    "selected_features_list = [selected_features_chi2]\n",
    "# Create a dataframe and set numeric features as index\n",
    "selected_features_df = pd.DataFrame(index = X_train_cat.columns)\n",
    "# create a column for each selected features\n",
    "for i in range(len(selected_features_list)):\n",
    "    selected_features_df[i] = selected_features_df.index.isin(selected_features_list[i])\n",
    "# Replace True with Keep and False with Discard\n",
    "selected_features_df = selected_features_df.replace({True:'Keep', False:'Discard'})\n",
    "# Replace column name with the selected features name\n",
    "selected_features_df.columns = ['Chi2']\n",
    "\n",
    "# For each row in selected_features_df, set the mode of the row as a new column called 'Selected'\n",
    "selected_features_df['Selected'] = selected_features_df.mode(axis=1)[0]\n",
    "# Create a list of the selected features\n",
    "selected_features_cat = selected_features_df[selected_features_df['Selected']=='Keep'].index.to_list()\n",
    "selected_features_df"
   ]
  },
  {
   "cell_type": "markdown",
   "metadata": {},
   "source": [
    "### Encoding Categorical Features"
   ]
  },
  {
   "cell_type": "code",
   "execution_count": 233,
   "metadata": {},
   "outputs": [],
   "source": [
    "# Keep only numerical_selected from X_train_num_scaled, X_val_num_scaled and test_data_num_scaled\n",
    "X_train_num_scaled = X_train_num_scaled[selected_features_num]\n",
    "X_val_num_scaled = X_val_num_scaled[selected_features_num]\n",
    "test_data_num_scaled = test_data_num_scaled[selected_features_num]"
   ]
  },
  {
   "cell_type": "code",
   "execution_count": 234,
   "metadata": {},
   "outputs": [],
   "source": [
    "# Keep only categorical_selected from X_train_cat, X_val_cat and test_data_cat\n",
    "X_train_cat = X_train_cat[selected_features_cat]\n",
    "X_val_cat = X_val_cat[selected_features_cat]\n",
    "test_data_cat = test_data_cat[selected_features_cat]"
   ]
  },
  {
   "cell_type": "code",
   "execution_count": 235,
   "metadata": {},
   "outputs": [],
   "source": [
    "# one hot encoding using OneHotEncoder\n",
    "encoder = OneHotEncoder(handle_unknown='ignore')\n",
    "encoder.fit(X_train_cat)\n",
    "X_train_cat_encoded = encoder.transform(X_train_cat)\n",
    "X_val_cat_encoded = encoder.transform(X_val_cat)\n",
    "test_data_cat_encoded = encoder.transform(test_data_cat)\n",
    "\n",
    "# Convert to dataframe\n",
    "X_train_cat_encoded = pd.DataFrame(X_train_cat_encoded.toarray(), columns=encoder.get_feature_names(), index=X_train_cat.index)\n",
    "X_val_cat_encoded = pd.DataFrame(X_val_cat_encoded.toarray(), columns=encoder.get_feature_names(), index=X_val_cat.index)\n",
    "test_data_cat_encoded = pd.DataFrame(test_data_cat_encoded.toarray(), columns=encoder.get_feature_names(),index=test_data_cat.index)"
   ]
  },
  {
   "cell_type": "code",
   "execution_count": 236,
   "metadata": {},
   "outputs": [],
   "source": [
    "# Concatenate the numerical and categorical features\n",
    "X_train = pd.concat([X_train_num_scaled, X_train_cat_encoded], axis = 1)\n",
    "X_val = pd.concat([X_val_num_scaled, X_val_cat_encoded], axis = 1)\n",
    "test_data = pd.concat([test_data_num_scaled, test_data_cat_encoded], axis = 1)"
   ]
  },
  {
   "cell_type": "markdown",
   "metadata": {},
   "source": [
    "<a class=\"anchor\" id=\"fifth-bullet\">     \n",
    "\n",
    "# 5. Modeling\n",
    "       \n",
    "</a>\n",
    "</div>"
   ]
  },
  {
   "cell_type": "markdown",
   "metadata": {},
   "source": [
    "##  5.1. Model Training <a class=\"anchor\" id=\"5.1\"></a>"
   ]
  },
  {
   "cell_type": "code",
   "execution_count": 237,
   "metadata": {},
   "outputs": [],
   "source": [
    "def metrics(y_train, pred_train , y_val, pred_val):\n",
    "    print('___________________________________________________________________________________________________________')\n",
    "    print('                                                     TRAIN                                                 ')\n",
    "    print('-----------------------------------------------------------------------------------------------------------')\n",
    "    print(classification_report(y_train, pred_train, digits=4))\n",
    "    print(confusion_matrix(y_train, pred_train))\n",
    "\n",
    "\n",
    "    print('___________________________________________________________________________________________________________')\n",
    "    print('                                                VALIDATION                                                 ')\n",
    "    print('-----------------------------------------------------------------------------------------------------------')\n",
    "    print(classification_report(y_val, pred_val, digits=4))\n",
    "    print(confusion_matrix(y_val, pred_val))"
   ]
  },
  {
   "cell_type": "code",
   "execution_count": 238,
   "metadata": {},
   "outputs": [],
   "source": [
    "def model_training(model):\n",
    "    # Fit the model\n",
    "    model.fit(X_train, y_train)\n",
    "    # Predict the labels of the training set\n",
    "    labels_train = model.predict(X_train)\n",
    "    labels_val = model.predict(X_val)\n",
    "    # Print the metrics\n",
    "    return metrics(y_train, labels_train, y_val, labels_val)"
   ]
  },
  {
   "cell_type": "markdown",
   "metadata": {},
   "source": [
    "## Decision Tree Classifier"
   ]
  },
  {
   "cell_type": "code",
   "execution_count": 239,
   "metadata": {},
   "outputs": [
    {
     "name": "stdout",
     "output_type": "stream",
     "text": [
      "___________________________________________________________________________________________________________\n",
      "                                                     TRAIN                                                 \n",
      "-----------------------------------------------------------------------------------------------------------\n",
      "              precision    recall  f1-score   support\n",
      "\n",
      "           0     1.0000    1.0000    1.0000       261\n",
      "           1     1.0000    1.0000    1.0000       278\n",
      "\n",
      "    accuracy                         1.0000       539\n",
      "   macro avg     1.0000    1.0000    1.0000       539\n",
      "weighted avg     1.0000    1.0000    1.0000       539\n",
      "\n",
      "[[261   0]\n",
      " [  0 278]]\n",
      "___________________________________________________________________________________________________________\n",
      "                                                VALIDATION                                                 \n",
      "-----------------------------------------------------------------------------------------------------------\n",
      "              precision    recall  f1-score   support\n",
      "\n",
      "           0     0.9658    1.0000    0.9826       113\n",
      "           1     1.0000    0.9667    0.9831       120\n",
      "\n",
      "    accuracy                         0.9828       233\n",
      "   macro avg     0.9829    0.9833    0.9828       233\n",
      "weighted avg     0.9834    0.9828    0.9828       233\n",
      "\n",
      "[[113   0]\n",
      " [  4 116]]\n"
     ]
    }
   ],
   "source": [
    "# Create a Decision tree classifier model\n",
    "dtc = DecisionTreeClassifier(random_state=15)\n",
    "model_training(dtc)"
   ]
  },
  {
   "cell_type": "markdown",
   "metadata": {},
   "source": [
    "## Random Forest Classifier"
   ]
  },
  {
   "cell_type": "code",
   "execution_count": 240,
   "metadata": {},
   "outputs": [
    {
     "name": "stdout",
     "output_type": "stream",
     "text": [
      "___________________________________________________________________________________________________________\n",
      "                                                     TRAIN                                                 \n",
      "-----------------------------------------------------------------------------------------------------------\n",
      "              precision    recall  f1-score   support\n",
      "\n",
      "           0     1.0000    1.0000    1.0000       261\n",
      "           1     1.0000    1.0000    1.0000       278\n",
      "\n",
      "    accuracy                         1.0000       539\n",
      "   macro avg     1.0000    1.0000    1.0000       539\n",
      "weighted avg     1.0000    1.0000    1.0000       539\n",
      "\n",
      "[[261   0]\n",
      " [  0 278]]\n",
      "___________________________________________________________________________________________________________\n",
      "                                                VALIDATION                                                 \n",
      "-----------------------------------------------------------------------------------------------------------\n",
      "              precision    recall  f1-score   support\n",
      "\n",
      "           0     0.9741    1.0000    0.9869       113\n",
      "           1     1.0000    0.9750    0.9873       120\n",
      "\n",
      "    accuracy                         0.9871       233\n",
      "   macro avg     0.9871    0.9875    0.9871       233\n",
      "weighted avg     0.9875    0.9871    0.9871       233\n",
      "\n",
      "[[113   0]\n",
      " [  3 117]]\n"
     ]
    }
   ],
   "source": [
    "# Create a Random Forest classifier model\n",
    "rf = RandomForestClassifier(random_state = 15)\n",
    "model_training(rf)"
   ]
  },
  {
   "cell_type": "markdown",
   "metadata": {},
   "source": [
    "## Bagging Classifier"
   ]
  },
  {
   "cell_type": "code",
   "execution_count": 241,
   "metadata": {},
   "outputs": [
    {
     "name": "stdout",
     "output_type": "stream",
     "text": [
      "___________________________________________________________________________________________________________\n",
      "                                                     TRAIN                                                 \n",
      "-----------------------------------------------------------------------------------------------------------\n",
      "              precision    recall  f1-score   support\n",
      "\n",
      "           0     0.9962    1.0000    0.9981       261\n",
      "           1     1.0000    0.9964    0.9982       278\n",
      "\n",
      "    accuracy                         0.9981       539\n",
      "   macro avg     0.9981    0.9982    0.9981       539\n",
      "weighted avg     0.9982    0.9981    0.9981       539\n",
      "\n",
      "[[261   0]\n",
      " [  1 277]]\n",
      "___________________________________________________________________________________________________________\n",
      "                                                VALIDATION                                                 \n",
      "-----------------------------------------------------------------------------------------------------------\n",
      "              precision    recall  f1-score   support\n",
      "\n",
      "           0     0.9826    1.0000    0.9912       113\n",
      "           1     1.0000    0.9833    0.9916       120\n",
      "\n",
      "    accuracy                         0.9914       233\n",
      "   macro avg     0.9913    0.9917    0.9914       233\n",
      "weighted avg     0.9916    0.9914    0.9914       233\n",
      "\n",
      "[[113   0]\n",
      " [  2 118]]\n"
     ]
    }
   ],
   "source": [
    "# Create a bagging classifier model\n",
    "bc = BaggingClassifier(random_state=15)\n",
    "model_training(bc)"
   ]
  },
  {
   "cell_type": "markdown",
   "metadata": {},
   "source": [
    "## Extra Trees Classifier"
   ]
  },
  {
   "cell_type": "code",
   "execution_count": 242,
   "metadata": {},
   "outputs": [
    {
     "name": "stdout",
     "output_type": "stream",
     "text": [
      "___________________________________________________________________________________________________________\n",
      "                                                     TRAIN                                                 \n",
      "-----------------------------------------------------------------------------------------------------------\n",
      "              precision    recall  f1-score   support\n",
      "\n",
      "           0     1.0000    1.0000    1.0000       261\n",
      "           1     1.0000    1.0000    1.0000       278\n",
      "\n",
      "    accuracy                         1.0000       539\n",
      "   macro avg     1.0000    1.0000    1.0000       539\n",
      "weighted avg     1.0000    1.0000    1.0000       539\n",
      "\n",
      "[[261   0]\n",
      " [  0 278]]\n",
      "___________________________________________________________________________________________________________\n",
      "                                                VALIDATION                                                 \n",
      "-----------------------------------------------------------------------------------------------------------\n",
      "              precision    recall  f1-score   support\n",
      "\n",
      "           0     0.9741    1.0000    0.9869       113\n",
      "           1     1.0000    0.9750    0.9873       120\n",
      "\n",
      "    accuracy                         0.9871       233\n",
      "   macro avg     0.9871    0.9875    0.9871       233\n",
      "weighted avg     0.9875    0.9871    0.9871       233\n",
      "\n",
      "[[113   0]\n",
      " [  3 117]]\n"
     ]
    }
   ],
   "source": [
    "# Create an extra trees classifier model\n",
    "etc = ExtraTreesClassifier(random_state = 15)\n",
    "model_training(etc)"
   ]
  },
  {
   "cell_type": "markdown",
   "metadata": {},
   "source": [
    "## Histogram Gradient Boosting Classifier"
   ]
  },
  {
   "cell_type": "code",
   "execution_count": 243,
   "metadata": {},
   "outputs": [
    {
     "name": "stdout",
     "output_type": "stream",
     "text": [
      "___________________________________________________________________________________________________________\n",
      "                                                     TRAIN                                                 \n",
      "-----------------------------------------------------------------------------------------------------------\n",
      "              precision    recall  f1-score   support\n",
      "\n",
      "           0     1.0000    1.0000    1.0000       261\n",
      "           1     1.0000    1.0000    1.0000       278\n",
      "\n",
      "    accuracy                         1.0000       539\n",
      "   macro avg     1.0000    1.0000    1.0000       539\n",
      "weighted avg     1.0000    1.0000    1.0000       539\n",
      "\n",
      "[[261   0]\n",
      " [  0 278]]\n",
      "___________________________________________________________________________________________________________\n",
      "                                                VALIDATION                                                 \n",
      "-----------------------------------------------------------------------------------------------------------\n",
      "              precision    recall  f1-score   support\n",
      "\n",
      "           0     1.0000    1.0000    1.0000       113\n",
      "           1     1.0000    1.0000    1.0000       120\n",
      "\n",
      "    accuracy                         1.0000       233\n",
      "   macro avg     1.0000    1.0000    1.0000       233\n",
      "weighted avg     1.0000    1.0000    1.0000       233\n",
      "\n",
      "[[113   0]\n",
      " [  0 120]]\n"
     ]
    }
   ],
   "source": [
    "# Create Histogram Gradient Boosting Classifier model\n",
    "hgbc = HistGradientBoostingClassifier(random_state = 15)\n",
    "model_training(hgbc)"
   ]
  },
  {
   "cell_type": "markdown",
   "metadata": {},
   "source": [
    "## Logistic Regression"
   ]
  },
  {
   "cell_type": "code",
   "execution_count": 244,
   "metadata": {},
   "outputs": [
    {
     "name": "stdout",
     "output_type": "stream",
     "text": [
      "___________________________________________________________________________________________________________\n",
      "                                                     TRAIN                                                 \n",
      "-----------------------------------------------------------------------------------------------------------\n",
      "              precision    recall  f1-score   support\n",
      "\n",
      "           0     0.9024    0.8506    0.8757       261\n",
      "           1     0.8669    0.9137    0.8897       278\n",
      "\n",
      "    accuracy                         0.8831       539\n",
      "   macro avg     0.8847    0.8821    0.8827       539\n",
      "weighted avg     0.8841    0.8831    0.8829       539\n",
      "\n",
      "[[222  39]\n",
      " [ 24 254]]\n",
      "___________________________________________________________________________________________________________\n",
      "                                                VALIDATION                                                 \n",
      "-----------------------------------------------------------------------------------------------------------\n",
      "              precision    recall  f1-score   support\n",
      "\n",
      "           0     0.8846    0.8142    0.8479       113\n",
      "           1     0.8372    0.9000    0.8675       120\n",
      "\n",
      "    accuracy                         0.8584       233\n",
      "   macro avg     0.8609    0.8571    0.8577       233\n",
      "weighted avg     0.8602    0.8584    0.8580       233\n",
      "\n",
      "[[ 92  21]\n",
      " [ 12 108]]\n"
     ]
    }
   ],
   "source": [
    "# Create a logistic regression model\n",
    "lreg = LogisticRegression(random_state = 15)\n",
    "model_training(lreg)"
   ]
  },
  {
   "cell_type": "markdown",
   "metadata": {},
   "source": [
    "## Gradient Boosting Classifier"
   ]
  },
  {
   "cell_type": "code",
   "execution_count": 245,
   "metadata": {},
   "outputs": [
    {
     "name": "stdout",
     "output_type": "stream",
     "text": [
      "___________________________________________________________________________________________________________\n",
      "                                                     TRAIN                                                 \n",
      "-----------------------------------------------------------------------------------------------------------\n",
      "              precision    recall  f1-score   support\n",
      "\n",
      "           0     0.9844    0.9693    0.9768       261\n",
      "           1     0.9716    0.9856    0.9786       278\n",
      "\n",
      "    accuracy                         0.9777       539\n",
      "   macro avg     0.9780    0.9775    0.9777       539\n",
      "weighted avg     0.9778    0.9777    0.9777       539\n",
      "\n",
      "[[253   8]\n",
      " [  4 274]]\n",
      "___________________________________________________________________________________________________________\n",
      "                                                VALIDATION                                                 \n",
      "-----------------------------------------------------------------------------------------------------------\n",
      "              precision    recall  f1-score   support\n",
      "\n",
      "           0     0.9478    0.9646    0.9561       113\n",
      "           1     0.9661    0.9500    0.9580       120\n",
      "\n",
      "    accuracy                         0.9571       233\n",
      "   macro avg     0.9570    0.9573    0.9571       233\n",
      "weighted avg     0.9572    0.9571    0.9571       233\n",
      "\n",
      "[[109   4]\n",
      " [  6 114]]\n"
     ]
    }
   ],
   "source": [
    "# Create a gradient boosting model\n",
    "gbc = GradientBoostingClassifier(random_state = 15)\n",
    "model_training(gbc)"
   ]
  },
  {
   "cell_type": "markdown",
   "metadata": {},
   "source": [
    "## KNeigbors Classifier"
   ]
  },
  {
   "cell_type": "code",
   "execution_count": 246,
   "metadata": {},
   "outputs": [
    {
     "name": "stdout",
     "output_type": "stream",
     "text": [
      "___________________________________________________________________________________________________________\n",
      "                                                     TRAIN                                                 \n",
      "-----------------------------------------------------------------------------------------------------------\n",
      "              precision    recall  f1-score   support\n",
      "\n",
      "           0     0.9331    0.9080    0.9204       261\n",
      "           1     0.9158    0.9388    0.9272       278\n",
      "\n",
      "    accuracy                         0.9239       539\n",
      "   macro avg     0.9244    0.9234    0.9238       539\n",
      "weighted avg     0.9242    0.9239    0.9239       539\n",
      "\n",
      "[[237  24]\n",
      " [ 17 261]]\n",
      "___________________________________________________________________________________________________________\n",
      "                                                VALIDATION                                                 \n",
      "-----------------------------------------------------------------------------------------------------------\n",
      "              precision    recall  f1-score   support\n",
      "\n",
      "           0     0.8829    0.8673    0.8750       113\n",
      "           1     0.8770    0.8917    0.8843       120\n",
      "\n",
      "    accuracy                         0.8798       233\n",
      "   macro avg     0.8800    0.8795    0.8796       233\n",
      "weighted avg     0.8799    0.8798    0.8798       233\n",
      "\n",
      "[[ 98  15]\n",
      " [ 13 107]]\n"
     ]
    }
   ],
   "source": [
    "# Create a KNN model\n",
    "knc = KNeighborsClassifier()\n",
    "model_training(knc)"
   ]
  },
  {
   "cell_type": "markdown",
   "metadata": {},
   "source": [
    "## Support Vector Machine Classifier"
   ]
  },
  {
   "cell_type": "code",
   "execution_count": 247,
   "metadata": {},
   "outputs": [
    {
     "name": "stdout",
     "output_type": "stream",
     "text": [
      "___________________________________________________________________________________________________________\n",
      "                                                     TRAIN                                                 \n",
      "-----------------------------------------------------------------------------------------------------------\n",
      "              precision    recall  f1-score   support\n",
      "\n",
      "           0     0.9360    0.8966    0.9159       261\n",
      "           1     0.9066    0.9424    0.9242       278\n",
      "\n",
      "    accuracy                         0.9202       539\n",
      "   macro avg     0.9213    0.9195    0.9200       539\n",
      "weighted avg     0.9208    0.9202    0.9201       539\n",
      "\n",
      "[[234  27]\n",
      " [ 16 262]]\n",
      "___________________________________________________________________________________________________________\n",
      "                                                VALIDATION                                                 \n",
      "-----------------------------------------------------------------------------------------------------------\n",
      "              precision    recall  f1-score   support\n",
      "\n",
      "           0     0.8750    0.8673    0.8711       113\n",
      "           1     0.8760    0.8833    0.8797       120\n",
      "\n",
      "    accuracy                         0.8755       233\n",
      "   macro avg     0.8755    0.8753    0.8754       233\n",
      "weighted avg     0.8755    0.8755    0.8755       233\n",
      "\n",
      "[[ 98  15]\n",
      " [ 14 106]]\n"
     ]
    }
   ],
   "source": [
    "# Create a SVM model\n",
    "svc = SVC(random_state = 15)\n",
    "model_training(svc)"
   ]
  },
  {
   "cell_type": "markdown",
   "metadata": {},
   "source": [
    "## Gaussian Naive Bayes"
   ]
  },
  {
   "cell_type": "code",
   "execution_count": 248,
   "metadata": {},
   "outputs": [
    {
     "name": "stdout",
     "output_type": "stream",
     "text": [
      "___________________________________________________________________________________________________________\n",
      "                                                     TRAIN                                                 \n",
      "-----------------------------------------------------------------------------------------------------------\n",
      "              precision    recall  f1-score   support\n",
      "\n",
      "           0     0.8400    0.8046    0.8219       261\n",
      "           1     0.8235    0.8561    0.8395       278\n",
      "\n",
      "    accuracy                         0.8312       539\n",
      "   macro avg     0.8318    0.8304    0.8307       539\n",
      "weighted avg     0.8315    0.8312    0.8310       539\n",
      "\n",
      "[[210  51]\n",
      " [ 40 238]]\n",
      "___________________________________________________________________________________________________________\n",
      "                                                VALIDATION                                                 \n",
      "-----------------------------------------------------------------------------------------------------------\n",
      "              precision    recall  f1-score   support\n",
      "\n",
      "           0     0.8692    0.8230    0.8455       113\n",
      "           1     0.8413    0.8833    0.8618       120\n",
      "\n",
      "    accuracy                         0.8541       233\n",
      "   macro avg     0.8552    0.8532    0.8536       233\n",
      "weighted avg     0.8548    0.8541    0.8539       233\n",
      "\n",
      "[[ 93  20]\n",
      " [ 14 106]]\n"
     ]
    }
   ],
   "source": [
    "# Create a Naive Bayes model\n",
    "gnb = GaussianNB()\n",
    "model_training(gnb)"
   ]
  },
  {
   "cell_type": "markdown",
   "metadata": {},
   "source": [
    "## Multi-layer Perceptron classifier"
   ]
  },
  {
   "cell_type": "code",
   "execution_count": 249,
   "metadata": {},
   "outputs": [
    {
     "name": "stdout",
     "output_type": "stream",
     "text": [
      "___________________________________________________________________________________________________________\n",
      "                                                     TRAIN                                                 \n",
      "-----------------------------------------------------------------------------------------------------------\n",
      "              precision    recall  f1-score   support\n",
      "\n",
      "           0     0.9531    0.9349    0.9439       261\n",
      "           1     0.9399    0.9568    0.9483       278\n",
      "\n",
      "    accuracy                         0.9462       539\n",
      "   macro avg     0.9465    0.9459    0.9461       539\n",
      "weighted avg     0.9463    0.9462    0.9462       539\n",
      "\n",
      "[[244  17]\n",
      " [ 12 266]]\n",
      "___________________________________________________________________________________________________________\n",
      "                                                VALIDATION                                                 \n",
      "-----------------------------------------------------------------------------------------------------------\n",
      "              precision    recall  f1-score   support\n",
      "\n",
      "           0     0.9123    0.9204    0.9163       113\n",
      "           1     0.9244    0.9167    0.9205       120\n",
      "\n",
      "    accuracy                         0.9185       233\n",
      "   macro avg     0.9183    0.9185    0.9184       233\n",
      "weighted avg     0.9185    0.9185    0.9185       233\n",
      "\n",
      "[[104   9]\n",
      " [ 10 110]]\n"
     ]
    }
   ],
   "source": [
    "# Create a Neural Network model\n",
    "mlpc = MLPClassifier(random_state = 15)\n",
    "model_training(mlpc)"
   ]
  },
  {
   "cell_type": "markdown",
   "metadata": {},
   "source": [
    "## AdaBoost Classifier"
   ]
  },
  {
   "cell_type": "code",
   "execution_count": 250,
   "metadata": {},
   "outputs": [
    {
     "name": "stdout",
     "output_type": "stream",
     "text": [
      "___________________________________________________________________________________________________________\n",
      "                                                     TRAIN                                                 \n",
      "-----------------------------------------------------------------------------------------------------------\n",
      "              precision    recall  f1-score   support\n",
      "\n",
      "           0     0.9147    0.9042    0.9094       261\n",
      "           1     0.9110    0.9209    0.9159       278\n",
      "\n",
      "    accuracy                         0.9128       539\n",
      "   macro avg     0.9129    0.9125    0.9127       539\n",
      "weighted avg     0.9128    0.9128    0.9128       539\n",
      "\n",
      "[[236  25]\n",
      " [ 22 256]]\n",
      "___________________________________________________________________________________________________________\n",
      "                                                VALIDATION                                                 \n",
      "-----------------------------------------------------------------------------------------------------------\n",
      "              precision    recall  f1-score   support\n",
      "\n",
      "           0     0.8707    0.8938    0.8821       113\n",
      "           1     0.8974    0.8750    0.8861       120\n",
      "\n",
      "    accuracy                         0.8841       233\n",
      "   macro avg     0.8841    0.8844    0.8841       233\n",
      "weighted avg     0.8845    0.8841    0.8841       233\n",
      "\n",
      "[[101  12]\n",
      " [ 15 105]]\n"
     ]
    }
   ],
   "source": [
    "# Create an AdaBoost Classifier model\n",
    "abc = AdaBoostClassifier(random_state = 15)\n",
    "model_training(abc)"
   ]
  },
  {
   "cell_type": "markdown",
   "metadata": {},
   "source": [
    "## Stochastic Gradient Descent Classifier"
   ]
  },
  {
   "cell_type": "code",
   "execution_count": 251,
   "metadata": {},
   "outputs": [
    {
     "name": "stdout",
     "output_type": "stream",
     "text": [
      "___________________________________________________________________________________________________________\n",
      "                                                     TRAIN                                                 \n",
      "-----------------------------------------------------------------------------------------------------------\n",
      "              precision    recall  f1-score   support\n",
      "\n",
      "           0     0.8866    0.8391    0.8622       261\n",
      "           1     0.8562    0.8993    0.8772       278\n",
      "\n",
      "    accuracy                         0.8701       539\n",
      "   macro avg     0.8714    0.8692    0.8697       539\n",
      "weighted avg     0.8709    0.8701    0.8699       539\n",
      "\n",
      "[[219  42]\n",
      " [ 28 250]]\n",
      "___________________________________________________________________________________________________________\n",
      "                                                VALIDATION                                                 \n",
      "-----------------------------------------------------------------------------------------------------------\n",
      "              precision    recall  f1-score   support\n",
      "\n",
      "           0     0.8922    0.8053    0.8465       113\n",
      "           1     0.8321    0.9083    0.8685       120\n",
      "\n",
      "    accuracy                         0.8584       233\n",
      "   macro avg     0.8621    0.8568    0.8575       233\n",
      "weighted avg     0.8612    0.8584    0.8578       233\n",
      "\n",
      "[[ 91  22]\n",
      " [ 11 109]]\n"
     ]
    }
   ],
   "source": [
    "# Create a SGD Classifier model\n",
    "sgdc = SGDClassifier(random_state = 15)\n",
    "model_training(sgdc)"
   ]
  },
  {
   "cell_type": "markdown",
   "metadata": {},
   "source": [
    "## Voting Classifier"
   ]
  },
  {
   "cell_type": "code",
   "execution_count": 252,
   "metadata": {},
   "outputs": [
    {
     "name": "stdout",
     "output_type": "stream",
     "text": [
      "___________________________________________________________________________________________________________\n",
      "                                                     TRAIN                                                 \n",
      "-----------------------------------------------------------------------------------------------------------\n",
      "              precision    recall  f1-score   support\n",
      "\n",
      "           0     0.9658    0.9732    0.9695       261\n",
      "           1     0.9746    0.9676    0.9711       278\n",
      "\n",
      "    accuracy                         0.9703       539\n",
      "   macro avg     0.9702    0.9704    0.9703       539\n",
      "weighted avg     0.9703    0.9703    0.9703       539\n",
      "\n",
      "[[254   7]\n",
      " [  9 269]]\n",
      "___________________________________________________________________________________________________________\n",
      "                                                VALIDATION                                                 \n",
      "-----------------------------------------------------------------------------------------------------------\n",
      "              precision    recall  f1-score   support\n",
      "\n",
      "           0     0.9478    0.9646    0.9561       113\n",
      "           1     0.9661    0.9500    0.9580       120\n",
      "\n",
      "    accuracy                         0.9571       233\n",
      "   macro avg     0.9570    0.9573    0.9571       233\n",
      "weighted avg     0.9572    0.9571    0.9571       233\n",
      "\n",
      "[[109   4]\n",
      " [  6 114]]\n"
     ]
    }
   ],
   "source": [
    "# Create a Voting Classifier model\n",
    "estimators = [('lr', LogisticRegression()), ('rf', RandomForestClassifier()),\\\n",
    "            ('gb', GradientBoostingClassifier()), ('knn', KNeighborsClassifier()),\\\n",
    "            ('svm', SVC()), ('nb', GaussianNB()), ('nn', MLPClassifier()),\\\n",
    "            ('dtc', DecisionTreeClassifier()), ('etc', ExtraTreesClassifier()),\\\n",
    "            ('hgbc', HistGradientBoostingClassifier()), ('abc', AdaBoostClassifier()),\\\n",
    "            ('sgdc', SGDClassifier()), ('bc', BaggingClassifier())]\n",
    "vc = VotingClassifier(estimators,voting='hard')\n",
    "model_training(vc)"
   ]
  },
  {
   "cell_type": "markdown",
   "metadata": {},
   "source": [
    "## Stacking Classifier"
   ]
  },
  {
   "cell_type": "code",
   "execution_count": 253,
   "metadata": {
    "scrolled": true
   },
   "outputs": [
    {
     "name": "stdout",
     "output_type": "stream",
     "text": [
      "___________________________________________________________________________________________________________\n",
      "                                                     TRAIN                                                 \n",
      "-----------------------------------------------------------------------------------------------------------\n",
      "              precision    recall  f1-score   support\n",
      "\n",
      "           0     1.0000    1.0000    1.0000       261\n",
      "           1     1.0000    1.0000    1.0000       278\n",
      "\n",
      "    accuracy                         1.0000       539\n",
      "   macro avg     1.0000    1.0000    1.0000       539\n",
      "weighted avg     1.0000    1.0000    1.0000       539\n",
      "\n",
      "[[261   0]\n",
      " [  0 278]]\n",
      "___________________________________________________________________________________________________________\n",
      "                                                VALIDATION                                                 \n",
      "-----------------------------------------------------------------------------------------------------------\n",
      "              precision    recall  f1-score   support\n",
      "\n",
      "           0     1.0000    1.0000    1.0000       113\n",
      "           1     1.0000    1.0000    1.0000       120\n",
      "\n",
      "    accuracy                         1.0000       233\n",
      "   macro avg     1.0000    1.0000    1.0000       233\n",
      "weighted avg     1.0000    1.0000    1.0000       233\n",
      "\n",
      "[[113   0]\n",
      " [  0 120]]\n"
     ]
    }
   ],
   "source": [
    "# Create a Stacking Classifier model\n",
    "sc = StackingClassifier(estimators)\n",
    "model_training(sc)"
   ]
  },
  {
   "cell_type": "markdown",
   "metadata": {},
   "source": [
    "##  5.2. Model Performance Summary <a class=\"anchor\" id=\"5.2\"></a>"
   ]
  },
  {
   "cell_type": "code",
   "execution_count": 254,
   "metadata": {},
   "outputs": [],
   "source": [
    "def best_model(models, model_names):\n",
    "    # Create a dataframe with the results\n",
    "    results = pd.DataFrame(columns = ['Model', 'F1 Score', 'Precision', 'Recall', 'Accuracy'])\n",
    "\n",
    "    # Iterate over the models and store the results in the dataframe\n",
    "    for i in range(len(models)):\n",
    "        model = models[i]\n",
    "        model.fit(X_train, y_train)\n",
    "        y_pred = model.predict(X_val)\n",
    "        f1 = f1_score(y_val, y_pred)\n",
    "        precision = precision_score(y_val, y_pred, average='weighted')\n",
    "        recall = recall_score(y_val, y_pred, average='weighted')\n",
    "        accuracy = accuracy_score(y_val, y_pred)\n",
    "        results.loc[i] = [model_names[i], f1, precision, recall, accuracy]\n",
    "\n",
    "    # Sort the dataframe by the F1 score\n",
    "    results.sort_values(by = 'F1 Score', ascending = False, inplace = True)\n",
    "    # Set column 'Model' as the index\n",
    "    results.set_index('Model', inplace = True)\n",
    "\n",
    "    # Print the results\n",
    "    return results"
   ]
  },
  {
   "cell_type": "code",
   "execution_count": 255,
   "metadata": {},
   "outputs": [
    {
     "data": {
      "text/html": [
       "<div>\n",
       "<style scoped>\n",
       "    .dataframe tbody tr th:only-of-type {\n",
       "        vertical-align: middle;\n",
       "    }\n",
       "\n",
       "    .dataframe tbody tr th {\n",
       "        vertical-align: top;\n",
       "    }\n",
       "\n",
       "    .dataframe thead th {\n",
       "        text-align: right;\n",
       "    }\n",
       "</style>\n",
       "<table border=\"1\" class=\"dataframe\">\n",
       "  <thead>\n",
       "    <tr style=\"text-align: right;\">\n",
       "      <th></th>\n",
       "      <th>F1 Score</th>\n",
       "      <th>Precision</th>\n",
       "      <th>Recall</th>\n",
       "      <th>Accuracy</th>\n",
       "    </tr>\n",
       "    <tr>\n",
       "      <th>Model</th>\n",
       "      <th></th>\n",
       "      <th></th>\n",
       "      <th></th>\n",
       "      <th></th>\n",
       "    </tr>\n",
       "  </thead>\n",
       "  <tbody>\n",
       "    <tr>\n",
       "      <th>Histogram Gradient Boosting Classifier</th>\n",
       "      <td>1.000000</td>\n",
       "      <td>1.000000</td>\n",
       "      <td>1.000000</td>\n",
       "      <td>1.000000</td>\n",
       "    </tr>\n",
       "    <tr>\n",
       "      <th>Stacking Classifier</th>\n",
       "      <td>0.995816</td>\n",
       "      <td>0.995746</td>\n",
       "      <td>0.995708</td>\n",
       "      <td>0.995708</td>\n",
       "    </tr>\n",
       "    <tr>\n",
       "      <th>Bagging Classifier</th>\n",
       "      <td>0.991597</td>\n",
       "      <td>0.991566</td>\n",
       "      <td>0.991416</td>\n",
       "      <td>0.991416</td>\n",
       "    </tr>\n",
       "    <tr>\n",
       "      <th>Random Forest</th>\n",
       "      <td>0.987342</td>\n",
       "      <td>0.987457</td>\n",
       "      <td>0.987124</td>\n",
       "      <td>0.987124</td>\n",
       "    </tr>\n",
       "    <tr>\n",
       "      <th>Extra Trees Classifier</th>\n",
       "      <td>0.987342</td>\n",
       "      <td>0.987457</td>\n",
       "      <td>0.987124</td>\n",
       "      <td>0.987124</td>\n",
       "    </tr>\n",
       "    <tr>\n",
       "      <th>Decision Tree</th>\n",
       "      <td>0.983051</td>\n",
       "      <td>0.983420</td>\n",
       "      <td>0.982833</td>\n",
       "      <td>0.982833</td>\n",
       "    </tr>\n",
       "    <tr>\n",
       "      <th>Gradient Boosting Classifier</th>\n",
       "      <td>0.957983</td>\n",
       "      <td>0.957238</td>\n",
       "      <td>0.957082</td>\n",
       "      <td>0.957082</td>\n",
       "    </tr>\n",
       "    <tr>\n",
       "      <th>Voting Classifier</th>\n",
       "      <td>0.954357</td>\n",
       "      <td>0.952811</td>\n",
       "      <td>0.952790</td>\n",
       "      <td>0.952790</td>\n",
       "    </tr>\n",
       "    <tr>\n",
       "      <th>Multi-layer Perceptron classifier</th>\n",
       "      <td>0.920502</td>\n",
       "      <td>0.918507</td>\n",
       "      <td>0.918455</td>\n",
       "      <td>0.918455</td>\n",
       "    </tr>\n",
       "    <tr>\n",
       "      <th>AdaBoost Classifier</th>\n",
       "      <td>0.886076</td>\n",
       "      <td>0.884465</td>\n",
       "      <td>0.884120</td>\n",
       "      <td>0.884120</td>\n",
       "    </tr>\n",
       "    <tr>\n",
       "      <th>KNN</th>\n",
       "      <td>0.884298</td>\n",
       "      <td>0.879878</td>\n",
       "      <td>0.879828</td>\n",
       "      <td>0.879828</td>\n",
       "    </tr>\n",
       "    <tr>\n",
       "      <th>SVM</th>\n",
       "      <td>0.879668</td>\n",
       "      <td>0.875532</td>\n",
       "      <td>0.875536</td>\n",
       "      <td>0.875536</td>\n",
       "    </tr>\n",
       "    <tr>\n",
       "      <th>SGD Classifier</th>\n",
       "      <td>0.868526</td>\n",
       "      <td>0.861206</td>\n",
       "      <td>0.858369</td>\n",
       "      <td>0.858369</td>\n",
       "    </tr>\n",
       "    <tr>\n",
       "      <th>Logistic Regression</th>\n",
       "      <td>0.867470</td>\n",
       "      <td>0.860200</td>\n",
       "      <td>0.858369</td>\n",
       "      <td>0.858369</td>\n",
       "    </tr>\n",
       "    <tr>\n",
       "      <th>Naive Bayes</th>\n",
       "      <td>0.861789</td>\n",
       "      <td>0.854795</td>\n",
       "      <td>0.854077</td>\n",
       "      <td>0.854077</td>\n",
       "    </tr>\n",
       "  </tbody>\n",
       "</table>\n",
       "</div>"
      ],
      "text/plain": [
       "                                        F1 Score  Precision    Recall  \\\n",
       "Model                                                                   \n",
       "Histogram Gradient Boosting Classifier  1.000000   1.000000  1.000000   \n",
       "Stacking Classifier                     0.995816   0.995746  0.995708   \n",
       "Bagging Classifier                      0.991597   0.991566  0.991416   \n",
       "Random Forest                           0.987342   0.987457  0.987124   \n",
       "Extra Trees Classifier                  0.987342   0.987457  0.987124   \n",
       "Decision Tree                           0.983051   0.983420  0.982833   \n",
       "Gradient Boosting Classifier            0.957983   0.957238  0.957082   \n",
       "Voting Classifier                       0.954357   0.952811  0.952790   \n",
       "Multi-layer Perceptron classifier       0.920502   0.918507  0.918455   \n",
       "AdaBoost Classifier                     0.886076   0.884465  0.884120   \n",
       "KNN                                     0.884298   0.879878  0.879828   \n",
       "SVM                                     0.879668   0.875532  0.875536   \n",
       "SGD Classifier                          0.868526   0.861206  0.858369   \n",
       "Logistic Regression                     0.867470   0.860200  0.858369   \n",
       "Naive Bayes                             0.861789   0.854795  0.854077   \n",
       "\n",
       "                                        Accuracy  \n",
       "Model                                             \n",
       "Histogram Gradient Boosting Classifier  1.000000  \n",
       "Stacking Classifier                     0.995708  \n",
       "Bagging Classifier                      0.991416  \n",
       "Random Forest                           0.987124  \n",
       "Extra Trees Classifier                  0.987124  \n",
       "Decision Tree                           0.982833  \n",
       "Gradient Boosting Classifier            0.957082  \n",
       "Voting Classifier                       0.952790  \n",
       "Multi-layer Perceptron classifier       0.918455  \n",
       "AdaBoost Classifier                     0.884120  \n",
       "KNN                                     0.879828  \n",
       "SVM                                     0.875536  \n",
       "SGD Classifier                          0.858369  \n",
       "Logistic Regression                     0.858369  \n",
       "Naive Bayes                             0.854077  "
      ]
     },
     "execution_count": 255,
     "metadata": {},
     "output_type": "execute_result"
    }
   ],
   "source": [
    "# Determine the best model\n",
    "models = [dtc, rf, sc, bc, etc, hgbc, lreg, gbc, knc, svc, gnb, mlpc, vc, abc, sgdc]\n",
    "model_names = ['Decision Tree', 'Random Forest', 'Stacking Classifier', 'Bagging Classifier',\\\n",
    "                'Extra Trees Classifier', 'Histogram Gradient Boosting Classifier', 'Logistic Regression',\\\n",
    "                'Gradient Boosting Classifier', 'KNN', 'SVM', 'Naive Bayes', 'Multi-layer Perceptron classifier',\\\n",
    "                'Voting Classifier', 'AdaBoost Classifier', 'SGD Classifier']\n",
    "best_model_df = best_model(models, model_names)\n",
    "best_model_df"
   ]
  },
  {
   "cell_type": "markdown",
   "metadata": {},
   "source": [
    "\n",
    "##  5.3. Hyper-parameters settings <a class=\"anchor\" id=\"5.3\"></a>"
   ]
  },
  {
   "cell_type": "markdown",
   "metadata": {},
   "source": [
    "### Ramdomized and Grid Search Functions"
   ]
  },
  {
   "cell_type": "code",
   "execution_count": 256,
   "metadata": {},
   "outputs": [],
   "source": [
    "def tuning_grid_search(model, parameter_grid, model_name):\n",
    "    # Set the conditions\n",
    "\n",
    "    cv = KFold(n_splits=5, shuffle=True, random_state=42)\n",
    "    gridsearch = GridSearchCV(estimator=model,\n",
    "                        param_grid=parameter_grid,\n",
    "                        cv=cv,\n",
    "                        scoring=['r2','neg_mean_squared_error'],\n",
    "                        refit='r2',\n",
    "                        verbose=2,\n",
    "                        n_jobs=-1)\n",
    "\n",
    "    # Perform the hyperparameter tuning\n",
    "    gridsearch.fit(X_train, y_train)\n",
    "    # find the best hyperparameters\n",
    "    best_parameters = gridsearch.best_params_\n",
    "    # storing the hyperparameters in a dataframe\n",
    "    best_param_df = pd.DataFrame.from_dict(best_parameters, orient='index', columns=['Assigned Value']).sort_index()\n",
    "    print(best_param_df.to_markdown())\n",
    "    return gridsearch.best_estimator_"
   ]
  },
  {
   "cell_type": "code",
   "execution_count": 257,
   "metadata": {},
   "outputs": [],
   "source": [
    "def tuning_random_search(model, parameter_grid, model_name):\n",
    "    # Set the conditions\n",
    "\n",
    "    cv = KFold(n_splits=5, shuffle=True, random_state=42)\n",
    "    randsearch = RandomizedSearchCV(estimator=model,\n",
    "                        param_distributions=parameter_grid,\n",
    "                        n_iter=500,\n",
    "                        cv=cv,\n",
    "                        scoring=['r2','neg_mean_squared_error'],\n",
    "                        refit='r2',\n",
    "                        verbose= 4,\n",
    "                        n_jobs=-1)\n",
    "\n",
    "    # Perform the hyperparameter tuning\n",
    "    randsearch.fit(X_train, y_train)\n",
    "    # find the best hyperparameters\n",
    "    best_parameters = randsearch.best_params_\n",
    "    # storing the hyperparameters in a dataframe\n",
    "    best_param_df = pd.DataFrame.from_dict(best_parameters, orient='index', columns=['Assigned Value']).sort_index()\n",
    "    print(best_param_df.to_markdown())\n",
    "    return randsearch.best_estimator_"
   ]
  },
  {
   "cell_type": "markdown",
   "metadata": {},
   "source": [
    "### Decision Tree Classifier"
   ]
  },
  {
   "cell_type": "code",
   "execution_count": 258,
   "metadata": {},
   "outputs": [
    {
     "data": {
      "text/plain": [
       "{'ccp_alpha': 0.0,\n",
       " 'class_weight': None,\n",
       " 'criterion': 'gini',\n",
       " 'max_depth': None,\n",
       " 'max_features': None,\n",
       " 'max_leaf_nodes': None,\n",
       " 'min_impurity_decrease': 0.0,\n",
       " 'min_samples_leaf': 1,\n",
       " 'min_samples_split': 2,\n",
       " 'min_weight_fraction_leaf': 0.0,\n",
       " 'random_state': 15,\n",
       " 'splitter': 'best'}"
      ]
     },
     "execution_count": 258,
     "metadata": {},
     "output_type": "execute_result"
    }
   ],
   "source": [
    "# Show default parameters\n",
    "dtc.get_params()"
   ]
  },
  {
   "cell_type": "code",
   "execution_count": 259,
   "metadata": {},
   "outputs": [],
   "source": [
    "# Create a grid for decision tree classifier\n",
    "param_grid_dtc = {'criterion': ['gini', 'entropy'],\n",
    "                'max_features': ['auto', 'sqrt', 'log2'],\n",
    "                'max_depth': range(0,500,10),\\\n",
    "                'min_samples_split': range(0,100,2),\\\n",
    "                'min_samples_leaf': range(0,100,2),\n",
    "                'random_state': [15]}"
   ]
  },
  {
   "cell_type": "code",
   "execution_count": 260,
   "metadata": {},
   "outputs": [
    {
     "name": "stdout",
     "output_type": "stream",
     "text": [
      "Best parameters for Decision Tree Classifier using Randomized search\n",
      "Fitting 5 folds for each of 500 candidates, totalling 2500 fits\n",
      "|                   | Assigned Value   |\n",
      "|:------------------|:-----------------|\n",
      "| criterion         | gini             |\n",
      "| max_depth         | 270              |\n",
      "| max_features      | sqrt             |\n",
      "| min_samples_leaf  | 2                |\n",
      "| min_samples_split | 4                |\n",
      "| random_state      | 15               |\n"
     ]
    }
   ],
   "source": [
    "# Find best parameters using Randomized search\n",
    "print('Best parameters for Decision Tree Classifier using Randomized search')\n",
    "model_grid_search_dtc_rs = tuning_random_search(DecisionTreeClassifier(), param_grid_dtc, 'Decision Tree Classifier')"
   ]
  },
  {
   "cell_type": "code",
   "execution_count": 261,
   "metadata": {},
   "outputs": [
    {
     "name": "stdout",
     "output_type": "stream",
     "text": [
      "___________________________________________________________________________________________________________\n",
      "                                                     TRAIN                                                 \n",
      "-----------------------------------------------------------------------------------------------------------\n",
      "              precision    recall  f1-score   support\n",
      "\n",
      "           0     0.9515    0.9770    0.9641       261\n",
      "           1     0.9779    0.9532    0.9654       278\n",
      "\n",
      "    accuracy                         0.9647       539\n",
      "   macro avg     0.9647    0.9651    0.9647       539\n",
      "weighted avg     0.9651    0.9647    0.9648       539\n",
      "\n",
      "[[255   6]\n",
      " [ 13 265]]\n",
      "___________________________________________________________________________________________________________\n",
      "                                                VALIDATION                                                 \n",
      "-----------------------------------------------------------------------------------------------------------\n",
      "              precision    recall  f1-score   support\n",
      "\n",
      "           0     0.8790    0.9646    0.9198       113\n",
      "           1     0.9633    0.8750    0.9170       120\n",
      "\n",
      "    accuracy                         0.9185       233\n",
      "   macro avg     0.9212    0.9198    0.9184       233\n",
      "weighted avg     0.9224    0.9185    0.9184       233\n",
      "\n",
      "[[109   4]\n",
      " [ 15 105]]\n"
     ]
    }
   ],
   "source": [
    "# Run model with best parameters using Randomized search\n",
    "model_grid_search_dtc_rs.fit(X_train, y_train)\n",
    "model_training(model_grid_search_dtc_rs)"
   ]
  },
  {
   "cell_type": "code",
   "execution_count": 262,
   "metadata": {},
   "outputs": [],
   "source": [
    "# Create a grid using the best parameters found in the previous step\n",
    "param_grid_dtc_rs = {'criterion': ['gini', 'entropy'],\n",
    "                'max_features': ['auto', 'sqrt', 'log2'],\n",
    "                'max_depth': [360,381,390],\n",
    "                'min_samples_split': [2,3,4],\n",
    "                'min_samples_leaf': [1,2,3,4,5],\n",
    "                'random_state': [15]}"
   ]
  },
  {
   "cell_type": "code",
   "execution_count": 263,
   "metadata": {},
   "outputs": [
    {
     "name": "stdout",
     "output_type": "stream",
     "text": [
      "Best parameters for Decision Tre Classifier using Grid search\n",
      "Fitting 5 folds for each of 270 candidates, totalling 1350 fits\n",
      "|                   | Assigned Value   |\n",
      "|:------------------|:-----------------|\n",
      "| criterion         | entropy          |\n",
      "| max_depth         | 360              |\n",
      "| max_features      | auto             |\n",
      "| min_samples_leaf  | 1                |\n",
      "| min_samples_split | 2                |\n",
      "| random_state      | 15               |\n"
     ]
    }
   ],
   "source": [
    "# Find best parameters using Grid search\n",
    "print('Best parameters for Decision Tre Classifier using Grid search')\n",
    "model_grid_search_dtc_gs = tuning_grid_search(DecisionTreeClassifier(), param_grid_dtc_rs, 'Decision Tree Classifier')"
   ]
  },
  {
   "cell_type": "code",
   "execution_count": 264,
   "metadata": {
    "scrolled": false
   },
   "outputs": [
    {
     "name": "stdout",
     "output_type": "stream",
     "text": [
      "___________________________________________________________________________________________________________\n",
      "                                                     TRAIN                                                 \n",
      "-----------------------------------------------------------------------------------------------------------\n",
      "              precision    recall  f1-score   support\n",
      "\n",
      "           0     1.0000    1.0000    1.0000       261\n",
      "           1     1.0000    1.0000    1.0000       278\n",
      "\n",
      "    accuracy                         1.0000       539\n",
      "   macro avg     1.0000    1.0000    1.0000       539\n",
      "weighted avg     1.0000    1.0000    1.0000       539\n",
      "\n",
      "[[261   0]\n",
      " [  0 278]]\n",
      "___________________________________________________________________________________________________________\n",
      "                                                VALIDATION                                                 \n",
      "-----------------------------------------------------------------------------------------------------------\n",
      "              precision    recall  f1-score   support\n",
      "\n",
      "           0     0.9741    1.0000    0.9869       113\n",
      "           1     1.0000    0.9750    0.9873       120\n",
      "\n",
      "    accuracy                         0.9871       233\n",
      "   macro avg     0.9871    0.9875    0.9871       233\n",
      "weighted avg     0.9875    0.9871    0.9871       233\n",
      "\n",
      "[[113   0]\n",
      " [  3 117]]\n"
     ]
    }
   ],
   "source": [
    "# Run model with best parameters\n",
    "model_grid_search_dtc_gs.fit(X_train, y_train)\n",
    "model_training(model_grid_search_dtc_gs)"
   ]
  },
  {
   "cell_type": "code",
   "execution_count": 265,
   "metadata": {},
   "outputs": [
    {
     "data": {
      "text/html": [
       "<div>\n",
       "<style scoped>\n",
       "    .dataframe tbody tr th:only-of-type {\n",
       "        vertical-align: middle;\n",
       "    }\n",
       "\n",
       "    .dataframe tbody tr th {\n",
       "        vertical-align: top;\n",
       "    }\n",
       "\n",
       "    .dataframe thead th {\n",
       "        text-align: right;\n",
       "    }\n",
       "</style>\n",
       "<table border=\"1\" class=\"dataframe\">\n",
       "  <thead>\n",
       "    <tr style=\"text-align: right;\">\n",
       "      <th></th>\n",
       "      <th>F1 Score</th>\n",
       "      <th>Precision</th>\n",
       "      <th>Recall</th>\n",
       "      <th>Accuracy</th>\n",
       "    </tr>\n",
       "    <tr>\n",
       "      <th>Model</th>\n",
       "      <th></th>\n",
       "      <th></th>\n",
       "      <th></th>\n",
       "      <th></th>\n",
       "    </tr>\n",
       "  </thead>\n",
       "  <tbody>\n",
       "    <tr>\n",
       "      <th>Decision Tree (Grid Search)</th>\n",
       "      <td>0.987342</td>\n",
       "      <td>0.987457</td>\n",
       "      <td>0.987124</td>\n",
       "      <td>0.987124</td>\n",
       "    </tr>\n",
       "    <tr>\n",
       "      <th>Decision Tree (Default values)</th>\n",
       "      <td>0.983051</td>\n",
       "      <td>0.983420</td>\n",
       "      <td>0.982833</td>\n",
       "      <td>0.982833</td>\n",
       "    </tr>\n",
       "    <tr>\n",
       "      <th>Decision Tree (Randomized Search)</th>\n",
       "      <td>0.917031</td>\n",
       "      <td>0.922433</td>\n",
       "      <td>0.918455</td>\n",
       "      <td>0.918455</td>\n",
       "    </tr>\n",
       "  </tbody>\n",
       "</table>\n",
       "</div>"
      ],
      "text/plain": [
       "                                   F1 Score  Precision    Recall  Accuracy\n",
       "Model                                                                     \n",
       "Decision Tree (Grid Search)        0.987342   0.987457  0.987124  0.987124\n",
       "Decision Tree (Default values)     0.983051   0.983420  0.982833  0.982833\n",
       "Decision Tree (Randomized Search)  0.917031   0.922433  0.918455  0.918455"
      ]
     },
     "execution_count": 265,
     "metadata": {},
     "output_type": "execute_result"
    }
   ],
   "source": [
    "# Create a dataframe that contains all results for the model\n",
    "dtc_models = [dtc, model_grid_search_dtc_rs, model_grid_search_dtc_gs]\n",
    "dtc_model_names = ['Decision Tree (Default values)' , 'Decision Tree (Randomized Search)', 'Decision Tree (Grid Search)']\n",
    "\n",
    "best_model(dtc_models, dtc_model_names)"
   ]
  },
  {
   "cell_type": "markdown",
   "metadata": {},
   "source": [
    "### Random Forest"
   ]
  },
  {
   "cell_type": "code",
   "execution_count": 266,
   "metadata": {},
   "outputs": [
    {
     "data": {
      "text/plain": [
       "{'bootstrap': True,\n",
       " 'ccp_alpha': 0.0,\n",
       " 'class_weight': None,\n",
       " 'criterion': 'gini',\n",
       " 'max_depth': None,\n",
       " 'max_features': 'sqrt',\n",
       " 'max_leaf_nodes': None,\n",
       " 'max_samples': None,\n",
       " 'min_impurity_decrease': 0.0,\n",
       " 'min_samples_leaf': 1,\n",
       " 'min_samples_split': 2,\n",
       " 'min_weight_fraction_leaf': 0.0,\n",
       " 'n_estimators': 100,\n",
       " 'n_jobs': None,\n",
       " 'oob_score': False,\n",
       " 'random_state': 15,\n",
       " 'verbose': 0,\n",
       " 'warm_start': False}"
      ]
     },
     "execution_count": 266,
     "metadata": {},
     "output_type": "execute_result"
    }
   ],
   "source": [
    "# Show default parameters\n",
    "rf.get_params()"
   ]
  },
  {
   "cell_type": "code",
   "execution_count": 267,
   "metadata": {},
   "outputs": [],
   "source": [
    "# Create a grid for random forest classifier\n",
    "param_grid_rf = {'bootstrap': [True, False],\n",
    "                'max_features': ['auto', 'sqrt', 'log2'],\n",
    "                'n_estimators': range(0,1000,100),\n",
    "                'max_depth': range(0,100,10),\n",
    "                'min_samples_split': range(0,20,2),\n",
    "                'min_samples_leaf': range(0,20,2),\n",
    "                'random_state': [15]}"
   ]
  },
  {
   "cell_type": "code",
   "execution_count": 268,
   "metadata": {
    "scrolled": false
   },
   "outputs": [
    {
     "name": "stdout",
     "output_type": "stream",
     "text": [
      "Best parameters for Random Forest Classifier using Randomized search\n",
      "Fitting 5 folds for each of 500 candidates, totalling 2500 fits\n",
      "|                   | Assigned Value   |\n",
      "|:------------------|:-----------------|\n",
      "| bootstrap         | False            |\n",
      "| max_depth         | 30               |\n",
      "| max_features      | log2             |\n",
      "| min_samples_leaf  | 2                |\n",
      "| min_samples_split | 4                |\n",
      "| n_estimators      | 600              |\n",
      "| random_state      | 15               |\n"
     ]
    }
   ],
   "source": [
    "# Find best parameters using Randomized search\n",
    "print('Best parameters for Random Forest Classifier using Randomized search')\n",
    "model_grid_search_rf_rs = tuning_random_search(RandomForestClassifier(), param_grid_rf, 'Random forest Classifier')"
   ]
  },
  {
   "cell_type": "code",
   "execution_count": 269,
   "metadata": {
    "scrolled": true
   },
   "outputs": [
    {
     "name": "stdout",
     "output_type": "stream",
     "text": [
      "___________________________________________________________________________________________________________\n",
      "                                                     TRAIN                                                 \n",
      "-----------------------------------------------------------------------------------------------------------\n",
      "              precision    recall  f1-score   support\n",
      "\n",
      "           0     0.9962    0.9962    0.9962       261\n",
      "           1     0.9964    0.9964    0.9964       278\n",
      "\n",
      "    accuracy                         0.9963       539\n",
      "   macro avg     0.9963    0.9963    0.9963       539\n",
      "weighted avg     0.9963    0.9963    0.9963       539\n",
      "\n",
      "[[260   1]\n",
      " [  1 277]]\n",
      "___________________________________________________________________________________________________________\n",
      "                                                VALIDATION                                                 \n",
      "-----------------------------------------------------------------------------------------------------------\n",
      "              precision    recall  f1-score   support\n",
      "\n",
      "           0     0.9741    1.0000    0.9869       113\n",
      "           1     1.0000    0.9750    0.9873       120\n",
      "\n",
      "    accuracy                         0.9871       233\n",
      "   macro avg     0.9871    0.9875    0.9871       233\n",
      "weighted avg     0.9875    0.9871    0.9871       233\n",
      "\n",
      "[[113   0]\n",
      " [  3 117]]\n"
     ]
    }
   ],
   "source": [
    "# Run model with best parameters using Randomized search\n",
    "model_grid_search_rf_rs.fit(X_train, y_train)\n",
    "model_training(model_grid_search_rf_rs)"
   ]
  },
  {
   "cell_type": "code",
   "execution_count": 270,
   "metadata": {},
   "outputs": [],
   "source": [
    "# Using the best parameters found in the previous step, create a grid for Grid search\n",
    "param_grid_rf_rs = {'bootstrap': [True, False],\n",
    "                'max_features': ['auto', 'sqrt', 'log2'],\n",
    "                'n_estimators': [180,190,200,210],\n",
    "                'max_depth': [60,65,71,75],\n",
    "                'min_samples_split': [5,6,7,8],\n",
    "                'min_samples_leaf': [1,2,3],\n",
    "                'random_state': [15]}"
   ]
  },
  {
   "cell_type": "code",
   "execution_count": null,
   "metadata": {},
   "outputs": [
    {
     "name": "stdout",
     "output_type": "stream",
     "text": [
      "Best parameters for Random Forest Classifier using Grid search\n",
      "Fitting 5 folds for each of 1152 candidates, totalling 5760 fits\n"
     ]
    }
   ],
   "source": [
    "# Find best parameters using Grid search\n",
    "print('Best parameters for Random Forest Classifier using Grid search')\n",
    "model_grid_search_rf_gs = tuning_grid_search(RandomForestClassifier(), param_grid_rf_rs, 'Random forest Classifier')"
   ]
  },
  {
   "cell_type": "code",
   "execution_count": null,
   "metadata": {
    "scrolled": true
   },
   "outputs": [],
   "source": [
    "# Run model with best parameters\n",
    "model_grid_search_rf_gs.fit(X_train, y_train)\n",
    "model_training(model_grid_search_rf_gs)"
   ]
  },
  {
   "cell_type": "code",
   "execution_count": null,
   "metadata": {},
   "outputs": [],
   "source": [
    "# Create a dataframe that contains all results for the model\n",
    "rf_models = [rf, model_grid_search_rf_rs, model_grid_search_rf_gs]\n",
    "rf_model_names = ['Random Forest (Default values)' , 'Random Forest (Randomized Search)', 'Random Forest (Grid Search)']\n",
    "\n",
    "best_model(rf_models, rf_model_names)"
   ]
  },
  {
   "cell_type": "markdown",
   "metadata": {},
   "source": [
    "### Bagging Classifier"
   ]
  },
  {
   "cell_type": "code",
   "execution_count": null,
   "metadata": {},
   "outputs": [],
   "source": [
    "# Show default parameters\n",
    "bc.get_params()"
   ]
  },
  {
   "cell_type": "code",
   "execution_count": null,
   "metadata": {},
   "outputs": [],
   "source": [
    "# Create a grid for Bagging classifier\n",
    "param_grid_bc = {'n_estimators': range(0,1000,100),\n",
    "                'max_samples': [0.1, 0.2, 0.3, 0.4, 0.5, 0.6, 0.7, 0.8, 0.9, 1.0],\n",
    "                'max_features': [0.1, 0.2, 0.3, 0.4, 0.5, 0.6, 0.7, 0.8, 0.9, 1.0],\n",
    "                'bootstrap': [True, False],\n",
    "                'bootstrap_features': [True, False],\n",
    "                'random_state': [15]}"
   ]
  },
  {
   "cell_type": "code",
   "execution_count": null,
   "metadata": {},
   "outputs": [],
   "source": [
    "# Find best parameters using Randomized search\n",
    "print('Best parameters for Bagging Classifier using Randomized search')\n",
    "model_grid_search_bc_rs = tuning_random_search(BaggingClassifier(), param_grid_bc, 'Bagging Classifier')"
   ]
  },
  {
   "cell_type": "code",
   "execution_count": null,
   "metadata": {},
   "outputs": [],
   "source": [
    "# Run model with best parameters using Randomized search\n",
    "model_grid_search_bc_rs.fit(X_train, y_train)\n",
    "model_training(model_grid_search_bc_rs)"
   ]
  },
  {
   "cell_type": "code",
   "execution_count": null,
   "metadata": {},
   "outputs": [],
   "source": [
    "# Using the best parameters found in the previous step, create a grid for Grid search\n",
    "param_grid_bc_rs = {'n_estimators': [250,300,350],\n",
    "                'max_samples': [0.8,0.9,1.0],\n",
    "                'max_features': [0.8,0.9,1.0],\n",
    "                'bootstrap': [True, False],\n",
    "                'bootstrap_features': [True, False],\n",
    "                'random_state': [15]}"
   ]
  },
  {
   "cell_type": "code",
   "execution_count": null,
   "metadata": {},
   "outputs": [],
   "source": [
    "# Find best parameters using Grid search\n",
    "print('Best parameters for Bagging Classifier using Grid search')\n",
    "model_grid_search_bc_gs = tuning_grid_search(BaggingClassifier(), param_grid_bc_rs, 'Bagging Classifier')"
   ]
  },
  {
   "cell_type": "code",
   "execution_count": null,
   "metadata": {
    "scrolled": true
   },
   "outputs": [],
   "source": [
    "# Run model with best parameters\n",
    "model_grid_search_bc_gs.fit(X_train, y_train)\n",
    "model_training(model_grid_search_bc_gs)"
   ]
  },
  {
   "cell_type": "code",
   "execution_count": null,
   "metadata": {
    "scrolled": true
   },
   "outputs": [],
   "source": [
    "# Create a dataframe that contains all results for the model\n",
    "bc_models = [bc, model_grid_search_bc_rs, model_grid_search_bc_gs]\n",
    "bc_model_names = ['Bagging Classifier (Default values)' , 'Bagging Classifier (Randomized Search)', 'Bagging Classifier (Grid Search)']\n",
    "\n",
    "best_model(bc_models, bc_model_names)"
   ]
  },
  {
   "cell_type": "markdown",
   "metadata": {},
   "source": [
    "### Extra Trees Classifier"
   ]
  },
  {
   "cell_type": "code",
   "execution_count": null,
   "metadata": {},
   "outputs": [],
   "source": [
    "# Show default parameters\n",
    "etc.get_params()"
   ]
  },
  {
   "cell_type": "code",
   "execution_count": null,
   "metadata": {},
   "outputs": [],
   "source": [
    "# create a grid for extra forest classifier                \n",
    "param_grid_etc = {'n_estimators': range(0,500,40),\n",
    "                'max_depth': range(0,100,5),\n",
    "                'min_samples_split': range(0,100,5),\n",
    "                'min_samples_leaf': range(0,100,5),\n",
    "                'max_features': ['auto', 'sqrt', 'log2'],\n",
    "                'criterion': ['gini', 'entropy'],\n",
    "                'bootstrap': [True, False],\n",
    "                'random_state': [15]}"
   ]
  },
  {
   "cell_type": "code",
   "execution_count": null,
   "metadata": {},
   "outputs": [],
   "source": [
    "# Find best parameters using Randomized search\n",
    "print('Best parameters for Extra Trees Classifier using Randomized search')\n",
    "model_grid_search_etc_rs = tuning_random_search(ExtraTreesClassifier(), param_grid_etc, 'Extra Trees Classifier')"
   ]
  },
  {
   "cell_type": "code",
   "execution_count": null,
   "metadata": {},
   "outputs": [],
   "source": [
    "# Run model with best parameters\n",
    "model_grid_search_etc_rs.fit(X_train, y_train)\n",
    "model_training(model_grid_search_etc_rs)"
   ]
  },
  {
   "cell_type": "code",
   "execution_count": null,
   "metadata": {},
   "outputs": [],
   "source": [
    "# Using the best parameters found in the previous step, create a grid for Grid search               \n",
    "param_grid_etc_rs = {'n_estimators': [200,300,320,400],\n",
    "                'max_depth': [10,16,20],\n",
    "                'min_samples_split': [5,6,10],\n",
    "                'min_samples_leaf': [1,2,3],\n",
    "                'max_features': ['auto', 'sqrt', 'log2'],\n",
    "                'criterion': ['gini', 'entropy'],\n",
    "                'bootstrap': [True, False],\n",
    "                'random_state': [15]}"
   ]
  },
  {
   "cell_type": "code",
   "execution_count": null,
   "metadata": {
    "scrolled": true
   },
   "outputs": [],
   "source": [
    "# Find best parameters using Grid search\n",
    "print('Best parameters for Extra Trees Classifier using Grid search')\n",
    "model_grid_search_etc_gs = tuning_grid_search(ExtraTreesClassifier(), param_grid_etc_rs, 'Extra Trees Classifier')"
   ]
  },
  {
   "cell_type": "code",
   "execution_count": null,
   "metadata": {
    "scrolled": true
   },
   "outputs": [],
   "source": [
    "# Run model with best parameters\n",
    "model_grid_search_etc_gs.fit(X_train, y_train)\n",
    "model_training(model_grid_search_etc_gs)"
   ]
  },
  {
   "cell_type": "code",
   "execution_count": null,
   "metadata": {},
   "outputs": [],
   "source": [
    "etc_models = [etc, model_grid_search_etc_rs, model_grid_search_etc_gs]\n",
    "etc_model_names = ['Extra Tree Classifier (Default values)' , 'Extra Tree Classifier (Randomized Search)', 'Extra Tree Classifier (Grid Search)']\n",
    "\n",
    "best_model(etc_models, etc_model_names)"
   ]
  },
  {
   "cell_type": "markdown",
   "metadata": {},
   "source": [
    "### Histogram Gradient Boosting Classifier"
   ]
  },
  {
   "cell_type": "code",
   "execution_count": null,
   "metadata": {},
   "outputs": [],
   "source": [
    "# Show default parameters\n",
    "hgbc.get_params()"
   ]
  },
  {
   "cell_type": "code",
   "execution_count": null,
   "metadata": {},
   "outputs": [],
   "source": [
    "# Create a grid for Histogram Gradient Boosting classifier\n",
    "param_grid_hgbc = {'loss':['log_loss', 'least_squares', 'least_absolute_deviation'],\n",
    "                'max_iter': range(0,1000,100),\n",
    "                'max_leaf_nodes': range(0,500,10),\n",
    "                'min_samples_leaf': range(0,500,10),\n",
    "                'max_depth': range(0,100,5),\n",
    "                'random_state': [15],\n",
    "                'learning_rate': [0.1, 0.2, 0.3, 0.4, 0.5, 0.6, 0.7, 0.8, 0.9, 1.0]}"
   ]
  },
  {
   "cell_type": "code",
   "execution_count": null,
   "metadata": {
    "scrolled": true
   },
   "outputs": [],
   "source": [
    "# Find best parameters using Randomized search\n",
    "print('Best parameters for Histogram Gradient Boosting Classifier using Randomized search')\n",
    "model_grid_search_hgbc_rs = tuning_random_search(HistGradientBoostingClassifier(), param_grid_hgbc, 'Histogram Gradient Boosting Classifier')"
   ]
  },
  {
   "cell_type": "code",
   "execution_count": null,
   "metadata": {},
   "outputs": [],
   "source": [
    "# Run model with best parameters\n",
    "model_grid_search_hgbc_rs.fit(X_train, y_train)\n",
    "model_training(model_grid_search_hgbc_rs)"
   ]
  },
  {
   "cell_type": "code",
   "execution_count": null,
   "metadata": {},
   "outputs": [],
   "source": [
    "# Using the best parameters found in the previous step, create a grid for Grid search\n",
    "param_grid_hgbc_rs = {'loss':['log_loss', 'least_squares', 'least_absolute_deviation'],\n",
    "                'max_iter': [450,500,550],\n",
    "                'max_leaf_nodes': [55,60,75],\n",
    "                'min_samples_leaf': [1,2,3],\n",
    "                'max_depth': [70,80,90],\n",
    "                'random_state': [15],\n",
    "                'learning_rate': [0.8,0.9,1]}"
   ]
  },
  {
   "cell_type": "code",
   "execution_count": null,
   "metadata": {},
   "outputs": [],
   "source": [
    "# Find best parameters using Grid search\n",
    "print('Best parameters for Histogram Gradient Boosting Classifier using Grid search')\n",
    "model_grid_search_hgbc_gs = tuning_grid_search(HistGradientBoostingClassifier(), param_grid_hgbc_rs, 'Histogram Gradient Boosting Classifier')"
   ]
  },
  {
   "cell_type": "code",
   "execution_count": null,
   "metadata": {
    "scrolled": false
   },
   "outputs": [],
   "source": [
    "# Run model with best parameters\n",
    "model_grid_search_hgbc_gs.fit(X_train, y_train)\n",
    "model_training(model_grid_search_hgbc_gs)"
   ]
  },
  {
   "cell_type": "code",
   "execution_count": null,
   "metadata": {},
   "outputs": [],
   "source": [
    "hgbc_models = [hgbc, model_grid_search_hgbc_rs, model_grid_search_hgbc_gs]\n",
    "hgbc_model_names = ['Histogram Gradient Boosting classifier (Default values)' , 'Histogram Gradient Boosting classifier (Randomized Search)', 'Histogram Gradient Boosting classifier (Grid Search)']\n",
    "\n",
    "best_model(hgbc_models, hgbc_model_names)"
   ]
  },
  {
   "cell_type": "markdown",
   "metadata": {},
   "source": [
    "### Logistic Regression"
   ]
  },
  {
   "cell_type": "code",
   "execution_count": null,
   "metadata": {},
   "outputs": [],
   "source": [
    "# Show default parameters\n",
    "lreg.get_params()"
   ]
  },
  {
   "cell_type": "code",
   "execution_count": null,
   "metadata": {},
   "outputs": [],
   "source": [
    "# create a grid for Logistic Regression classifier                         \n",
    "param_grid_lreg = {'penalty': ['l1', 'l2', 'elasticnet', 'none'],\\\n",
    "                    'solver': ['newton-cg', 'lbfgs', 'liblinear', 'sag', 'saga'],\\\n",
    "                    'max_iter': range(0,1000,50),\\\n",
    "                    'multi_class': ['auto', 'ovr', 'multinomial'],\\\n",
    "                    'fit_intercept': [True, False],\\\n",
    "                    'dual': [True, False],\\\n",
    "                    'C': [0.25, 0.5, 0.75, 1.0],\n",
    "                    'warm_start': [True, False],\\\n",
    "                    'intercept_scaling': range(0,100,10)}"
   ]
  },
  {
   "cell_type": "code",
   "execution_count": null,
   "metadata": {
    "scrolled": false
   },
   "outputs": [],
   "source": [
    "# Find best parameters using Randomized search\n",
    "print('Best parameters for Logistic Regression using Randomized search')\n",
    "model_grid_search_lreg_rs = tuning_random_search(LogisticRegression(), param_grid_lreg, 'Logistic Regression')"
   ]
  },
  {
   "cell_type": "code",
   "execution_count": null,
   "metadata": {},
   "outputs": [],
   "source": [
    "# Run model with best parameters\n",
    "model_grid_search_lreg_rs.fit(X_train, y_train)\n",
    "model_training(model_grid_search_lreg_rs)"
   ]
  },
  {
   "cell_type": "code",
   "execution_count": null,
   "metadata": {},
   "outputs": [],
   "source": [
    "# Using the best parameters found in the previous step, create a grid for Grid search\n",
    "param_grid_lreg_rs = {'penalty': ['l1', 'l2', 'elasticnet', 'none'],\\\n",
    "                    'solver': ['newton-cg', 'lbfgs', 'liblinear', 'sag', 'saga'],\\\n",
    "                    'max_iter': [500,550,600],\\\n",
    "                    'multi_class': ['auto', 'ovr', 'multinomial'],\\\n",
    "                    'fit_intercept': [True, False],\\\n",
    "                    'dual': [True, False],\\\n",
    "                    'C': [0,25,0.50,0.75,1],\n",
    "                    'warm_start': [True, False],\\\n",
    "                    'intercept_scaling': [10,20,30]}"
   ]
  },
  {
   "cell_type": "code",
   "execution_count": null,
   "metadata": {
    "scrolled": true
   },
   "outputs": [],
   "source": [
    "# Find best parameters using Grid search\n",
    "print('Best parameters for Logistic Regression using Grid search')\n",
    "model_grid_search_lreg_gs = tuning_grid_search(LogisticRegression(), param_grid_lreg_rs, 'Logistic Regressionr')"
   ]
  },
  {
   "cell_type": "code",
   "execution_count": null,
   "metadata": {
    "scrolled": false
   },
   "outputs": [],
   "source": [
    "# Run model with best parameters\n",
    "model_grid_search_lreg_gs.fit(X_train, y_train)\n",
    "model_training(model_grid_search_lreg_gs)"
   ]
  },
  {
   "cell_type": "code",
   "execution_count": null,
   "metadata": {},
   "outputs": [],
   "source": [
    "lreg_models = [lreg, model_grid_search_lreg_rs, model_grid_search_lreg_gs]\n",
    "lreg_model_names = ['Logistic Regression (Default values)' , 'Logistic Regression (Randomized Search)', 'Logistic Regression (Grid Search)']\n",
    "\n",
    "best_model(lreg_models, lreg_model_names)"
   ]
  },
  {
   "cell_type": "markdown",
   "metadata": {},
   "source": [
    "### Gradient Boosting Classifier"
   ]
  },
  {
   "cell_type": "code",
   "execution_count": null,
   "metadata": {},
   "outputs": [],
   "source": [
    "# Show default parameters\n",
    "gbc.get_params()"
   ]
  },
  {
   "cell_type": "code",
   "execution_count": null,
   "metadata": {},
   "outputs": [],
   "source": [
    "# create a grid for gradient boost classifier                \n",
    "param_grid_gbc = {'n_estimators': range(0,1000,5),\\\n",
    "                'max_depth': range(0,100,5),\\\n",
    "                'min_samples_split': range(0,100,5),\\\n",
    "                'min_samples_leaf': range(0,100,5),\\\n",
    "                'max_features': ['auto', 'sqrt', 'log2'],\n",
    "                'random_state': [15]}"
   ]
  },
  {
   "cell_type": "code",
   "execution_count": null,
   "metadata": {
    "scrolled": true
   },
   "outputs": [],
   "source": [
    "# Find best parameters using Randomized search\n",
    "print('Best parameters for Gradient Boosting Classifier using Randomized search')\n",
    "model_grid_search_gbc_rs = tuning_random_search(GradientBoostingClassifier(), param_grid_gbc, 'Gradient Boosting Classifier')"
   ]
  },
  {
   "cell_type": "code",
   "execution_count": null,
   "metadata": {},
   "outputs": [],
   "source": [
    "# Run model with best parameters\n",
    "model_grid_search_gbc_rs.fit(X_train, y_train)\n",
    "model_training(model_grid_search_gbc_rs)"
   ]
  },
  {
   "cell_type": "code",
   "execution_count": null,
   "metadata": {},
   "outputs": [],
   "source": [
    "# Using the best parameters found in the previous step, create a grid for Grid search             \n",
    "param_grid_gbc_rs = {'n_estimators': [350,370,400],\\\n",
    "                'max_depth': [40,46,55],\\\n",
    "                'min_samples_split': [10,16,20],\\\n",
    "                'min_samples_leaf': [15,20,25],\\\n",
    "                'max_features': ['auto', 'sqrt', 'log2'],\n",
    "                'random_state': [15]}"
   ]
  },
  {
   "cell_type": "code",
   "execution_count": null,
   "metadata": {
    "scrolled": true
   },
   "outputs": [],
   "source": [
    "# Find best parameters using Grid search\n",
    "print('Best parameters for Gradient Boosting Classifier using Grid search')\n",
    "model_grid_search_gbc_gs = tuning_grid_search(GradientBoostingClassifier(), param_grid_gbc_rs, 'Gradient Boosting Classifier')"
   ]
  },
  {
   "cell_type": "code",
   "execution_count": null,
   "metadata": {},
   "outputs": [],
   "source": [
    "# Run model with best parameters\n",
    "model_grid_search_gbc_gs.fit(X_train, y_train)\n",
    "model_training(model_grid_search_gbc_gs)"
   ]
  },
  {
   "cell_type": "code",
   "execution_count": null,
   "metadata": {},
   "outputs": [],
   "source": [
    "gbc_models = [gbc, model_grid_search_gbc_rs, model_grid_search_gbc_gs]\n",
    "gbc_model_names = ['Gradient Boosting Classifier (Default values)' , 'Gradient Boosting Classifier (Randomized Search)', 'Gradient Boosting Classifier (Grid Search)']\n",
    "\n",
    "best_model(gbc_models, gbc_model_names)"
   ]
  },
  {
   "cell_type": "markdown",
   "metadata": {},
   "source": [
    "### KNeigbors Classifier"
   ]
  },
  {
   "cell_type": "code",
   "execution_count": null,
   "metadata": {},
   "outputs": [],
   "source": [
    "# Show default parameters\n",
    "knc.get_params()"
   ]
  },
  {
   "cell_type": "code",
   "execution_count": null,
   "metadata": {},
   "outputs": [],
   "source": [
    "# create a grid for KNN classifier\n",
    "param_grid_knc = {'n_neighbors': range(0,100,5),\\\n",
    "                'weights': ['uniform', 'distance'],\n",
    "                'algorithm': ['auto', 'ball_tree', 'kd_tree', 'brute'],\n",
    "                'leaf_size': range(0,1000,10),\n",
    "                'p': [1, 2], \n",
    "                'metric': ['minkowski', 'euclidean', 'manhattan']}"
   ]
  },
  {
   "cell_type": "code",
   "execution_count": null,
   "metadata": {},
   "outputs": [],
   "source": [
    "# Find best parameters using Randomized search\n",
    "print('Best parameters for KNeighbors Classifier using Randomized search')\n",
    "model_grid_search_knc_rs = tuning_random_search(KNeighborsClassifier(), param_grid_knc, 'KNeighbors Classifier')"
   ]
  },
  {
   "cell_type": "code",
   "execution_count": null,
   "metadata": {},
   "outputs": [],
   "source": [
    "# Run model with best parameters\n",
    "model_grid_search_knc_rs.fit(X_train, y_train)\n",
    "model_training(model_grid_search_knc_rs)"
   ]
  },
  {
   "cell_type": "code",
   "execution_count": null,
   "metadata": {},
   "outputs": [],
   "source": [
    "# Using the best parameters found in the previous step, create a grid for Grid search\n",
    "param_grid_knc_rs = {'n_neighbors': [50,55,60],\\\n",
    "                'weights': ['uniform', 'distance'],\n",
    "                'algorithm': ['auto', 'ball_tree', 'kd_tree', 'brute'],\n",
    "                'leaf_size':[220,240,260],\n",
    "                'p': [1, 2], \n",
    "                'metric': ['minkowski', 'euclidean', 'manhattan']}"
   ]
  },
  {
   "cell_type": "code",
   "execution_count": null,
   "metadata": {
    "scrolled": true
   },
   "outputs": [],
   "source": [
    "# Find best parameters using Grid search\n",
    "print('Best parameters for KNeighbors Classifier using Grid search')\n",
    "model_grid_search_knc_gs = tuning_grid_search(KNeighborsClassifier(), param_grid_knc_rs, 'KNeighbors Classifier')"
   ]
  },
  {
   "cell_type": "code",
   "execution_count": null,
   "metadata": {},
   "outputs": [],
   "source": [
    "# Run model with best parameters\n",
    "model_grid_search_knc_gs.fit(X_train, y_train)\n",
    "model_training(model_grid_search_knc_gs)"
   ]
  },
  {
   "cell_type": "code",
   "execution_count": null,
   "metadata": {},
   "outputs": [],
   "source": [
    "knc_models = [knc, model_grid_search_knc_rs, model_grid_search_knc_gs]\n",
    "knc_model_names = ['KNeighbors Classifier (Default values)' , 'KNeighbors Classifier (Randomized Search)', 'KNeighbors Classifier (Grid Search)']\n",
    "\n",
    "best_model(knc_models, knc_model_names)"
   ]
  },
  {
   "cell_type": "markdown",
   "metadata": {},
   "source": [
    "### Support Vector Machine Classifier"
   ]
  },
  {
   "cell_type": "code",
   "execution_count": null,
   "metadata": {},
   "outputs": [],
   "source": [
    "# Show default parameters\n",
    "svc.get_params()"
   ]
  },
  {
   "cell_type": "code",
   "execution_count": null,
   "metadata": {},
   "outputs": [],
   "source": [
    "# create a grid for Support Vector Machine classifier\n",
    "param_grid_svm = {'kernel': ['linear', 'poly', 'rbf', 'sigmoid'],\n",
    "                    'degree': [1, 2, 3, 4, 5, 6, 7, 8, 9, 10],\n",
    "                    'coef0': [0.0, 0.1, 0.2, 0.3, 0.4, 0.5, 0.6, 0.7, 0.8, 0.9, 1.0],\n",
    "                    'tol': [0.001, 0.0001, 0.00001],\n",
    "                    'cache_size': range(0,1000,10),\n",
    "                    'max_iter': [-1, 100, 200, 300, 400, 500, 600, 700, 800, 900, 1000],\n",
    "                    'random_state': [15],\n",
    "                    'C': [0.1, 1, 10, 100, 1000],\n",
    "                    'probability': [True, False]}"
   ]
  },
  {
   "cell_type": "code",
   "execution_count": null,
   "metadata": {},
   "outputs": [],
   "source": [
    "# Find best parameters using Randomized search\n",
    "print('Best parameters for Support Vector Machine Classifier using Randomized search')\n",
    "model_grid_search_svc_rs = tuning_random_search(SVC(), param_grid_svm, 'Support Vector Machine Classifier')"
   ]
  },
  {
   "cell_type": "code",
   "execution_count": null,
   "metadata": {},
   "outputs": [],
   "source": [
    "# Run model with best parameters\n",
    "model_grid_search_svc_rs.fit(X_train, y_train)\n",
    "model_training(model_grid_search_svc_rs)"
   ]
  },
  {
   "cell_type": "code",
   "execution_count": null,
   "metadata": {},
   "outputs": [],
   "source": [
    "# Using the best parameters found in the previous step, create a grid for Grid search\n",
    "param_grid_svm_rs = {'kernel': ['linear', 'poly', 'rbf', 'sigmoid'],\n",
    "                    'degree': [4,5,6],\n",
    "                    'coef0': [0.7,0.8,0.9],\n",
    "                    'tol': [0.001, 0.0001, 0.00001],\n",
    "                    'cache_size': [320,340,360],\n",
    "                    'max_iter': [700,800,900],\n",
    "                    'random_state': [15],\n",
    "                    'C': [50,100,150]}"
   ]
  },
  {
   "cell_type": "code",
   "execution_count": null,
   "metadata": {},
   "outputs": [],
   "source": [
    "# Find best parameters using Grid search\n",
    "print('Best parameters for Support Vector Machine Classifier using Grid search')\n",
    "model_grid_search_svc_gs = tuning_grid_search(SVC(), param_grid_svm_rs, 'Support Vector Machine Classifier')"
   ]
  },
  {
   "cell_type": "code",
   "execution_count": null,
   "metadata": {
    "scrolled": true
   },
   "outputs": [],
   "source": [
    "# Run model with best parameters\n",
    "model_grid_search_svc_gs.fit(X_train, y_train)\n",
    "model_training(model_grid_search_svc_gs)"
   ]
  },
  {
   "cell_type": "code",
   "execution_count": null,
   "metadata": {},
   "outputs": [],
   "source": [
    "svc_models = [svc, model_grid_search_svc_rs, model_grid_search_svc_gs]\n",
    "svc_model_names = ['Support Vector Machine Classifier (Default values)' , 'Support Vector Machine Classifier (Randomized Search)', 'Support Vector Machine Classifier (Grid Search)']\n",
    "\n",
    "best_model(svc_models, svc_model_names)"
   ]
  },
  {
   "cell_type": "markdown",
   "metadata": {},
   "source": [
    "### Gaussian Naive Bayes"
   ]
  },
  {
   "cell_type": "code",
   "execution_count": null,
   "metadata": {},
   "outputs": [],
   "source": [
    "# Show default parameters\n",
    "gnb.get_params()"
   ]
  },
  {
   "cell_type": "code",
   "execution_count": null,
   "metadata": {},
   "outputs": [],
   "source": [
    "# create a grid for Naive Bayes classifier                        \n",
    "param_grid_gnb = {'var_smoothing': np.logspace(0,-9, num=100)}"
   ]
  },
  {
   "cell_type": "code",
   "execution_count": null,
   "metadata": {
    "scrolled": true
   },
   "outputs": [],
   "source": [
    "# Find best parameters using Randomized search\n",
    "print('Best parameters for Gaussian Naive Bayes using Randomized search')\n",
    "model_grid_search_gnb_rs = tuning_random_search(GaussianNB(), param_grid_gnb, 'Gaussian Naive Bayes')"
   ]
  },
  {
   "cell_type": "code",
   "execution_count": null,
   "metadata": {},
   "outputs": [],
   "source": [
    "# Run model with best parameters\n",
    "model_grid_search_gnb_rs.fit(X_train, y_train)\n",
    "model_training(model_grid_search_gnb_rs)"
   ]
  },
  {
   "cell_type": "code",
   "execution_count": null,
   "metadata": {},
   "outputs": [],
   "source": [
    "# Using the best parameters found in the previous step, create a grid for Grid search                       \n",
    "param_grid_gnb_rs = {'var_smoothing': [0.34,0.351119,0.37]}"
   ]
  },
  {
   "cell_type": "code",
   "execution_count": null,
   "metadata": {},
   "outputs": [],
   "source": [
    "# Find best parameters using Grid search\n",
    "print('Best parameters for Gaussian Naive Bayes using Grid search')\n",
    "model_grid_search_gnb_gs = tuning_grid_search(GaussianNB(), param_grid_gnb_rs, 'Gaussian Naive Bayes')"
   ]
  },
  {
   "cell_type": "code",
   "execution_count": null,
   "metadata": {},
   "outputs": [],
   "source": [
    "# Run model with best parameters\n",
    "model_grid_search_gnb_gs.fit(X_train, y_train)\n",
    "model_training(model_grid_search_gnb_gs)"
   ]
  },
  {
   "cell_type": "code",
   "execution_count": null,
   "metadata": {},
   "outputs": [],
   "source": [
    "gnb_models = [gnb, model_grid_search_gnb_rs, model_grid_search_gnb_gs]\n",
    "gnb_model_names = ['Gaussian Naive Bayes (Default values)' , 'Gaussian Naive Bayes (Randomized Search)', 'Gaussian Naive Bayes (Grid Search)']\n",
    "\n",
    "best_model(gnb_models, gnb_model_names)"
   ]
  },
  {
   "cell_type": "markdown",
   "metadata": {},
   "source": [
    "### Multi-layer Perceptron classifier"
   ]
  },
  {
   "cell_type": "code",
   "execution_count": null,
   "metadata": {},
   "outputs": [],
   "source": [
    "# Show default parameters\n",
    "mlpc.get_params()"
   ]
  },
  {
   "cell_type": "code",
   "execution_count": null,
   "metadata": {},
   "outputs": [],
   "source": [
    "# create a grid for Multi-layer Perceptron classifier                    \n",
    "param_grid_mlpc = {'hidden_layer_sizes': [(10,), (20,), (30,), (40,), (50,)],\n",
    "                    'activation': ['identity', 'logistic', 'tanh', 'relu'],\n",
    "                    'solver': ['lbfgs', 'sgd', 'adam'],\n",
    "                    'alpha': [0.001, 0.01, 0.1, 1.0, 10.0, 100.0],\n",
    "                    'learning_rate': ['constant','invscaling','adaptive'],\n",
    "                    'max_iter': range(1,1000,10),\n",
    "                    'random_state': [15]}"
   ]
  },
  {
   "cell_type": "code",
   "execution_count": null,
   "metadata": {},
   "outputs": [],
   "source": [
    "# Find best parameters using Randomized search\n",
    "print('Best parameters for Multi-layer Perceptron classifier using Randomized search')\n",
    "model_grid_search_mlpc_rs = tuning_random_search(MLPClassifier(), param_grid_mlpc, 'Multi-layer Perceptron classifier')"
   ]
  },
  {
   "cell_type": "code",
   "execution_count": null,
   "metadata": {},
   "outputs": [],
   "source": [
    "# Run model with best parameters\n",
    "model_grid_search_mlpc_rs.fit(X_train, y_train)\n",
    "model_training(model_grid_search_mlpc_rs)"
   ]
  },
  {
   "cell_type": "code",
   "execution_count": null,
   "metadata": {},
   "outputs": [],
   "source": [
    "# Using the best parameters found in the previous step, create a grid for Grid search  \n",
    "param_grid_mlpc_rs = {'hidden_layer_sizes': [(30,), (40,), (50,)],\n",
    "                    'activation': ['identity', 'logistic', 'tanh', 'relu'],\n",
    "                    'solver': ['lbfgs', 'sgd', 'adam'],\n",
    "                    'alpha': [0.001, 0.01, 0.1],\n",
    "                    'learning_rate': ['constant','invscaling','adaptive'],\n",
    "                    'max_iter': [60,70,80],\n",
    "                    'random_state': [15]}"
   ]
  },
  {
   "cell_type": "code",
   "execution_count": null,
   "metadata": {
    "scrolled": true
   },
   "outputs": [],
   "source": [
    "# Find best parameters using Grid search\n",
    "print('Best parameters for Multi-layer Perceptron classifier using Grid search')\n",
    "model_grid_search_mlpc_gs = tuning_grid_search(MLPClassifier(), param_grid_mlpc_rs, 'Multi-layer Perceptron classifier')"
   ]
  },
  {
   "cell_type": "code",
   "execution_count": null,
   "metadata": {},
   "outputs": [],
   "source": [
    "# Run model with best parameters\n",
    "model_grid_search_mlpc_gs.fit(X_train, y_train)\n",
    "model_training(model_grid_search_mlpc_gs)"
   ]
  },
  {
   "cell_type": "code",
   "execution_count": null,
   "metadata": {},
   "outputs": [],
   "source": [
    "mlpc_models = [mlpc, model_grid_search_mlpc_rs, model_grid_search_mlpc_gs]\n",
    "mlpc_model_names = ['Multi-layer Perceptron classifier (Default values)' , 'Multi-layer Perceptron classifier (Randomized Search)', 'Multi-layer Perceptron classifier (Grid Search)']\n",
    "\n",
    "best_model(mlpc_models, mlpc_model_names)"
   ]
  },
  {
   "cell_type": "markdown",
   "metadata": {},
   "source": [
    "### AdaBoost Classifier"
   ]
  },
  {
   "cell_type": "code",
   "execution_count": null,
   "metadata": {},
   "outputs": [],
   "source": [
    "# Show default parameters\n",
    "abc.get_params()"
   ]
  },
  {
   "cell_type": "code",
   "execution_count": null,
   "metadata": {},
   "outputs": [],
   "source": [
    "# create a grid for Ada Boost classifier                    \n",
    "param_grid_abc = {'base_estimator':[DecisionTreeClassifier(max_depth=1),\n",
    "                                    DecisionTreeClassifier(max_depth=2), \n",
    "                                    DecisionTreeClassifier(max_depth=3), \n",
    "                                    DecisionTreeClassifier(max_depth=4), \n",
    "                                    DecisionTreeClassifier(max_depth=5), \n",
    "                                    DecisionTreeClassifier(max_depth=6), \n",
    "                                    DecisionTreeClassifier(max_depth=7), \n",
    "                                    DecisionTreeClassifier(max_depth=8), \n",
    "                                    DecisionTreeClassifier(max_depth=9), \n",
    "                                    DecisionTreeClassifier(max_depth=10)],\n",
    "                'n_estimators': range(0,500,10),\\\n",
    "                'learning_rate': [0.001, 0.01, 0.1, 1, 10, 100],\n",
    "                'algorithm': ['SAMME', 'SAMME.R'],\n",
    "                'random_state': [15]}"
   ]
  },
  {
   "cell_type": "code",
   "execution_count": null,
   "metadata": {},
   "outputs": [],
   "source": [
    "# Find best parameters using Randomized search\n",
    "print('Best parameters for AdaBoost Classifier using Randomized search')\n",
    "model_grid_search_abc_rs = tuning_random_search(AdaBoostClassifier(), param_grid_abc, 'AdaBoost Classifier')"
   ]
  },
  {
   "cell_type": "code",
   "execution_count": null,
   "metadata": {},
   "outputs": [],
   "source": [
    "# Run model with best parameters\n",
    "model_grid_search_abc_rs.fit(X_train, y_train)\n",
    "model_training(model_grid_search_abc_rs)"
   ]
  },
  {
   "cell_type": "code",
   "execution_count": null,
   "metadata": {},
   "outputs": [],
   "source": [
    "# Using the best parameters found in the previous step, create a grid for Grid search                   \n",
    "param_grid_abc_rs = {'base_estimator':[DecisionTreeClassifier(max_depth=1),\n",
    "                                    DecisionTreeClassifier(max_depth=2), \n",
    "                                    DecisionTreeClassifier(max_depth=3), \n",
    "                                    DecisionTreeClassifier(max_depth=4), \n",
    "                                    DecisionTreeClassifier(max_depth=5), \n",
    "                                    DecisionTreeClassifier(max_depth=6), \n",
    "                                    DecisionTreeClassifier(max_depth=7), \n",
    "                                    DecisionTreeClassifier(max_depth=8), \n",
    "                                    DecisionTreeClassifier(max_depth=9), \n",
    "                                    DecisionTreeClassifier(max_depth=10)],\n",
    "                'n_estimators': [5,10,15],\\\n",
    "                'learning_rate': [0.001, 0.01, 0.1, 1, 5],\n",
    "                'algorithm': ['SAMME', 'SAMME.R'],\n",
    "                'random_state': [15]}      "
   ]
  },
  {
   "cell_type": "code",
   "execution_count": null,
   "metadata": {},
   "outputs": [],
   "source": [
    "# Find best parameters using Grid search\n",
    "print('Best parameters for AdaBoost Classifier using Grid search')\n",
    "model_grid_search_abc_gs = tuning_grid_search(AdaBoostClassifier(), param_grid_abc_rs, 'AdaBoost Classifier')"
   ]
  },
  {
   "cell_type": "code",
   "execution_count": null,
   "metadata": {},
   "outputs": [],
   "source": [
    "# Run model with best parameters\n",
    "model_grid_search_abc_gs.fit(X_train, y_train)\n",
    "model_training(model_grid_search_abc_gs)"
   ]
  },
  {
   "cell_type": "code",
   "execution_count": null,
   "metadata": {},
   "outputs": [],
   "source": [
    "abc_models = [abc, model_grid_search_abc_rs, model_grid_search_abc_gs]\n",
    "abc_model_names = ['AdaBoost Classifier (Default values)' , 'AdaBoost Classifier (Randomized Search)', 'AdaBoost Classifier (Grid Search)']\n",
    "\n",
    "best_model(abc_models, abc_model_names)"
   ]
  },
  {
   "cell_type": "markdown",
   "metadata": {},
   "source": [
    "### Stochastic Gradient Descent Classifier"
   ]
  },
  {
   "cell_type": "code",
   "execution_count": null,
   "metadata": {},
   "outputs": [],
   "source": [
    "# Show default parameters\n",
    "sgdc.get_params()"
   ]
  },
  {
   "cell_type": "code",
   "execution_count": null,
   "metadata": {},
   "outputs": [],
   "source": [
    "# create a grid for Stochastic Gradient Descent classifier\n",
    "param_grid_sgdc = {'warm_start': [True, False],\n",
    "                     'random_state': [15],\n",
    "                     'penalty': ['l2', 'l1', 'elasticnet'], \n",
    "                     'max_iter': range(0,500,10),\n",
    "                     'loss': ['log', 'modified_huber', 'squared_hinge', 'perceptron'],\n",
    "                     'eta0': [0.01, 0.1, 1, 10, 100],\n",
    "                     'epsilon': [0.01, 0.1, 1, 10, 100], \n",
    "                     'alpha': [0.0001, 0.001, 0.01, 0.1, 1, 10, 100, 1000],\n",
    "                     'tol': [1e-4, 1e-3, 1e-2, 1e-1, 1],}"
   ]
  },
  {
   "cell_type": "code",
   "execution_count": null,
   "metadata": {},
   "outputs": [],
   "source": [
    "# Find best parameters using Randomized search\n",
    "print('Best parameters for Stochastic Gradient Descent Classifier using Randomized search')\n",
    "model_grid_search_sgdc_rs = tuning_random_search(SGDClassifier(), param_grid_sgdc, 'Stochastic Gradient Descent Classifier')"
   ]
  },
  {
   "cell_type": "code",
   "execution_count": null,
   "metadata": {},
   "outputs": [],
   "source": [
    "# Run model with best parameters\n",
    "model_grid_search_sgdc_rs.fit(X_train, y_train)\n",
    "model_training(model_grid_search_sgdc_rs)"
   ]
  },
  {
   "cell_type": "code",
   "execution_count": null,
   "metadata": {},
   "outputs": [],
   "source": [
    "# Using the best parameters found in the previous step, create a grid for Grid search\n",
    "param_grid_sgdc_rs = {'warm_start': [True, False],\n",
    "                     'random_state': [15],\n",
    "                     'penalty': ['l2', 'l1', 'elasticnet'], \n",
    "                     'max_iter': [50,60,70],\n",
    "                     'loss': ['log', 'modified_huber', 'squared_hinge', 'perceptron'],\n",
    "                     'eta0': [0.01,0.5,1],\n",
    "                     'epsilon': [0.1, 1, 10, 100], \n",
    "                     'alpha': [0.001, 0.01, 0.1, 1],\n",
    "                     'tol': [1e-4, 1e-3, 1e-2, 1e-1, 1],}"
   ]
  },
  {
   "cell_type": "code",
   "execution_count": null,
   "metadata": {
    "scrolled": true
   },
   "outputs": [],
   "source": [
    "# Find best parameters using Grid search\n",
    "print('Best parameters for Stochastic Gradient Descent Classifier using Grid search')\n",
    "model_grid_search_sgdc_gs = tuning_grid_search(SGDClassifier(), param_grid_sgdc_rs, 'Stochastic Gradient Descent Classifier')"
   ]
  },
  {
   "cell_type": "code",
   "execution_count": null,
   "metadata": {},
   "outputs": [],
   "source": [
    "# Run model with best parameters\n",
    "model_grid_search_sgdc_gs.fit(X_train, y_train)\n",
    "model_training(model_grid_search_sgdc_gs)"
   ]
  },
  {
   "cell_type": "code",
   "execution_count": null,
   "metadata": {},
   "outputs": [],
   "source": [
    "sgdc_models = [sgdc, model_grid_search_sgdc_rs, model_grid_search_sgdc_gs]\n",
    "sgdc_model_names = ['Stochastic Gradient Descent Classifier (Default values)' , 'Stochastic Gradient Descent Classifier (Randomized Search)', 'Stochastic Gradient Descent Classifier (Grid Search)']\n",
    "\n",
    "best_model(sgdc_models, sgdc_model_names)"
   ]
  },
  {
   "cell_type": "markdown",
   "metadata": {},
   "source": [
    "### Voting Classifier"
   ]
  },
  {
   "cell_type": "code",
   "execution_count": null,
   "metadata": {},
   "outputs": [],
   "source": [
    "# Show default parameters\n",
    "vc.get_params()"
   ]
  },
  {
   "cell_type": "code",
   "execution_count": null,
   "metadata": {},
   "outputs": [],
   "source": [
    "# create a grid for voting classifier\n",
    "estimators = [('lr', LogisticRegression()), ('rf', RandomForestClassifier()),\\\n",
    "            ('gb', GradientBoostingClassifier()), ('knn', KNeighborsClassifier()),\\\n",
    "            ('svm', SVC()), ('nb', GaussianNB()), ('nn', MLPClassifier()),\\\n",
    "            ('dtc', DecisionTreeClassifier()), ('etc', ExtraTreesClassifier()),\\\n",
    "            ('hgbc', HistGradientBoostingClassifier()), ('abc', AdaBoostClassifier()),\\\n",
    "            ('sgdc', SGDClassifier()), ('bc', BaggingClassifier())]\n",
    "\n",
    "param_grid_vc = {'voting': ['hard', 'soft'],\n",
    "                'flatten_transform': [True, False],\n",
    "                'n_jobs': [None, 1, 2, 3, 4, 5, 6, 7, 8, 9, 10]}"
   ]
  },
  {
   "cell_type": "code",
   "execution_count": null,
   "metadata": {
    "scrolled": true
   },
   "outputs": [],
   "source": [
    "# Find best parameters using Randomized search\n",
    "print('Best parameters for Voting Classifier using Randomized search')\n",
    "vc = VotingClassifier(estimators=estimators)\n",
    "model_grid_search_vc_rs = tuning_random_search(vc, param_grid_vc, 'Voting Classifier')"
   ]
  },
  {
   "cell_type": "code",
   "execution_count": null,
   "metadata": {},
   "outputs": [],
   "source": [
    "# Run model with best parameters\n",
    "model_grid_search_vc_rs.fit(X_train, y_train)\n",
    "model_training(model_grid_search_vc_rs)"
   ]
  },
  {
   "cell_type": "code",
   "execution_count": null,
   "metadata": {},
   "outputs": [],
   "source": [
    "# Using the best parameters found in the previous step, create a grid for Grid search\n",
    "param_grid_vc_rs = {'voting': ['hard', 'soft'],\n",
    "                'flatten_transform': [True, False],\n",
    "                'n_jobs': [2,3,4,5,6]} "
   ]
  },
  {
   "cell_type": "code",
   "execution_count": null,
   "metadata": {
    "scrolled": true
   },
   "outputs": [],
   "source": [
    "# Find best parameters using Grid search\n",
    "print('Best parameters for Voting Classifier using Grid search')\n",
    "vc = VotingClassifier(estimators=estimators)\n",
    "model_grid_search_vc_gs = tuning_grid_search(vc, param_grid_vc_rs, 'Voting Classifier')"
   ]
  },
  {
   "cell_type": "code",
   "execution_count": null,
   "metadata": {},
   "outputs": [],
   "source": [
    "# Run model with best parameters\n",
    "model_grid_search_vc_gs.fit(X_train, y_train)\n",
    "model_training(model_grid_search_vc_gs)"
   ]
  },
  {
   "cell_type": "code",
   "execution_count": null,
   "metadata": {},
   "outputs": [],
   "source": [
    "vc_models = [vc, model_grid_search_vc_rs, model_grid_search_vc_gs]\n",
    "vc_model_names = ['Voting Classifie (Default values)' , 'Voting Classifie (Randomized Search)', 'Voting Classifie (Grid Search)']\n",
    "\n",
    "best_model(vc_models, vc_model_names)"
   ]
  },
  {
   "cell_type": "markdown",
   "metadata": {},
   "source": [
    "### Stacking Classifier"
   ]
  },
  {
   "cell_type": "code",
   "execution_count": null,
   "metadata": {},
   "outputs": [],
   "source": [
    "# Show default parameters\n",
    "sc.get_params()"
   ]
  },
  {
   "cell_type": "code",
   "execution_count": null,
   "metadata": {},
   "outputs": [],
   "source": [
    "# create a grid for stacking classifier\n",
    "estimators = [('lr', LogisticRegression()),\n",
    "              ('rf', RandomForestClassifier()),\n",
    "              ('gb', GradientBoostingClassifier()),\n",
    "              ('knn', KNeighborsClassifier()),\n",
    "              ('svm', SVC()),\n",
    "              ('nb', GaussianNB()),\n",
    "              ('nn', MLPClassifier()),\n",
    "              ('dtc', DecisionTreeClassifier()),\n",
    "              ('etc', ExtraTreesClassifier()),\n",
    "              ('hgbc', HistGradientBoostingClassifier()),\n",
    "              ('abc', AdaBoostClassifier()),\n",
    "              ('sgdc', SGDClassifier()),\n",
    "              ('bc', BaggingClassifier())]\n",
    "            \n",
    "param_grid_sc = {'final_estimator': [RandomForestClassifier(),\n",
    "                GradientBoostingClassifier(), \n",
    "                MLPClassifier(),\n",
    "                BaggingClassifier(),\n",
    "                SVC()],\n",
    "                'cv': [3,4,5],\\\n",
    "                'stack_method': ['auto', 'predict_proba', 'predict', 'decision_function']}"
   ]
  },
  {
   "cell_type": "code",
   "execution_count": null,
   "metadata": {},
   "outputs": [],
   "source": [
    "# Find best parameters using Randomized search\n",
    "print('Best parameters for Stacking Classifier using Randomized search')\n",
    "sc = StackingClassifier(estimators=estimators)\n",
    "model_grid_search_sc_rs = tuning_random_search(sc, param_grid_sc, 'Stacking Classifier')"
   ]
  },
  {
   "cell_type": "code",
   "execution_count": null,
   "metadata": {},
   "outputs": [],
   "source": [
    "# Run model with best parameters\n",
    "model_grid_search_sc_rs.fit(X_train, y_train)\n",
    "model_training(model_grid_search_sc_rs)"
   ]
  },
  {
   "cell_type": "code",
   "execution_count": null,
   "metadata": {},
   "outputs": [],
   "source": [
    "# Using the best parameters found in the previous step, create a grid for Grid search\n",
    "param_grid_sc_rs = {'final_estimator': [RandomForestClassifier(),\n",
    "                GradientBoostingClassifier(), \n",
    "                MLPClassifier(),\n",
    "                BaggingClassifier(),\n",
    "                SVC()],\n",
    "                'cv': [4,5,6],\\\n",
    "                'stack_method': ['auto', 'predict_proba', 'predict', 'decision_function']}"
   ]
  },
  {
   "cell_type": "code",
   "execution_count": null,
   "metadata": {},
   "outputs": [],
   "source": [
    "# Find best parameters using Grid search\n",
    "print('Best parameters for Stacking Classifier using Grid search')\n",
    "sc = StackingClassifier(estimators=estimators)\n",
    "model_grid_search_sc_gs = tuning_grid_search(sc, param_grid_sc_rs, 'Stacking Classifier')"
   ]
  },
  {
   "cell_type": "code",
   "execution_count": null,
   "metadata": {
    "scrolled": false
   },
   "outputs": [],
   "source": [
    "# Run model with best parameters\n",
    "model_grid_search_sc_gs.fit(X_train, y_train)\n",
    "model_training(model_grid_search_sc_gs)"
   ]
  },
  {
   "cell_type": "markdown",
   "metadata": {},
   "source": [
    "\n",
    "##  5.3. Model Selection with hyper parameters tuned <a class=\"anchor\" id=\"5.3\"></a>"
   ]
  },
  {
   "cell_type": "code",
   "execution_count": null,
   "metadata": {},
   "outputs": [],
   "source": [
    "# Determine the best model\n",
    "models = [model_grid_search_dtc_gs,\n",
    "          model_grid_search_rf_gs,\n",
    "          model_grid_search_sc_gs,\n",
    "          model_grid_search_bc_gs,\n",
    "          model_grid_search_etc_gs,\n",
    "          model_grid_search_hgbc_gs,\n",
    "          model_grid_search_lreg_gs,\n",
    "          model_grid_search_gbc_gs,\n",
    "          model_grid_search_knc_gs,\n",
    "          model_grid_search_gnb_gs,\n",
    "          model_grid_search_mlpc_gs,\n",
    "          model_grid_search_vc_gs,\n",
    "          model_grid_search_abc_gs,\n",
    "          model_grid_search_sgdc_gs,\n",
    "          model_grid_search_svc_gs]\n",
    "model_names = ['Decision Tree', 'Random Forest', 'Stacking Classifier', 'Bagging Classifier',\\\n",
    "                'Extra Trees Classifier', 'Histogram Gradient Boosting Classifier', 'Logistic Regression',\\\n",
    "                'Gradient Boosting Classifier', 'KNN', 'Naive Bayes', 'Multi-layer Perceptron classifier',\\\n",
    "                'AdaBoost Classifier', 'SGD Classifier', 'SVM','Voting Classifier']\n",
    "best_model_df = best_model(models, model_names)\n",
    "best_model_df"
   ]
  },
  {
   "cell_type": "markdown",
   "metadata": {},
   "source": [
    "\n",
    "##  5.4. Receiving Operating Characteristic <a class=\"anchor\" id=\"5.4\"></a>\n"
   ]
  },
  {
   "cell_type": "code",
   "execution_count": null,
   "metadata": {},
   "outputs": [],
   "source": [
    "def roc_auc(model, model_name):\n",
    "    mod = model.fit(X_train, y_train)\n",
    "    y_score = mod.predict_proba(X_val)[::,1]\n",
    "    false_positive_rate, true_positive_rate, threshold = roc_curve(y_val, y_score)\n",
    "    auc = roc_auc_score(y_val, y_score)\n",
    "\n",
    "    #create ROC curve\n",
    "    plt.plot(false_positive_rate,true_positive_rate,label=\"AUC=\"+str(auc))\n",
    "    plt.ylabel('True Positive Rate')\n",
    "    plt.xlabel('False Positive Rate')\n",
    "    plt.title(model_name)\n",
    "    plt.legend(loc=4)\n",
    "    plt.show()"
   ]
  },
  {
   "cell_type": "code",
   "execution_count": null,
   "metadata": {},
   "outputs": [],
   "source": [
    "# Determine the best model\n",
    "models = [model_grid_search_dtc_gs,\n",
    "          model_grid_search_rf_gs,\n",
    "          model_grid_search_sc_gs,\n",
    "          model_grid_search_bc_gs,\n",
    "          model_grid_search_etc_gs,\n",
    "          model_grid_search_hgbc_gs,\n",
    "          model_grid_search_lreg_gs,\n",
    "          model_grid_search_gbc_gs,\n",
    "          model_grid_search_knc_gs,\n",
    "          model_grid_search_gnb_gs,\n",
    "          model_grid_search_mlpc_gs,\n",
    "          model_grid_search_abc_gs,\n",
    "          model_grid_search_sgdc_gs]\n",
    "model_names = ['Decision Tree Classifier', 'Random Forest Classifier', 'Stacking Classifier', 'Bagging Classifier',\n",
    "                'Extra Trees Classifier', 'Histogram Gradient Boosting Classifier', 'Logistic Regression',\n",
    "                'Gradient Boosting Classifier', 'KNN', 'Naive Bayes', 'Multi-layer Perceptron Classifier',\n",
    "                'AdaBoost Classifier', 'SGD Classifier']"
   ]
  },
  {
   "cell_type": "code",
   "execution_count": null,
   "metadata": {},
   "outputs": [],
   "source": [
    "for m in range(len(models)):\n",
    "    roc_auc(models[m], model_names[m])"
   ]
  },
  {
   "cell_type": "markdown",
   "metadata": {},
   "source": [
    "\n",
    "<a class=\"anchor\" id=\"sixth-bullet\">     \n",
    "\n",
    "# 6. Regularization\n",
    "    \n",
    "</a>\n",
    "</div>"
   ]
  },
  {
   "cell_type": "code",
   "execution_count": null,
   "metadata": {},
   "outputs": [],
   "source": [
    "def jitter(X, scale=0.1):\n",
    "    return X + np.random.normal(0, scale, X.shape)\n",
    "\n",
    "def jitter_test(classifier, X, y, scales = np.linspace(0, 0.5, 30), N = 5):\n",
    "    out = []\n",
    "    for s in scales:\n",
    "        avg = 0.0\n",
    "        for r in range(N):\n",
    "            avg += accuracy_score(y, classifier.predict(jitter(X, s)))\n",
    "        out.append(avg / N)\n",
    "    return out, scales"
   ]
  },
  {
   "cell_type": "code",
   "execution_count": null,
   "metadata": {},
   "outputs": [],
   "source": [
    "# Apply jitter to all the models with tuned hyper parameters\n",
    "dtc_scores, jitters = jitter_test(model_grid_search_dtc_rs, X_train, y_train)\n",
    "rf_scores, jitters = jitter_test(model_grid_search_rf_rs, X_train, y_train)\n",
    "sc_scores, jitters = jitter_test(model_grid_search_sc_rs, X_train, y_train)\n",
    "bc_scores, jitters = jitter_test(model_grid_search_bc_rs, X_train, y_train)\n",
    "etc_scores, jitters = jitter_test(model_grid_search_etc_rs, X_train, y_train)\n",
    "hgbc_scores, jitters = jitter_test(model_grid_search_hgbc_rs, X_train, y_train)\n",
    "lreg_scores, jitters = jitter_test(model_grid_search_lreg_rs, X_train, y_train)\n",
    "gbc_scores, jitters = jitter_test(model_grid_search_gbc_rs, X_train, y_train)\n",
    "knc_scores, jitters = jitter_test(model_grid_search_knc_rs, X_train, y_train)\n",
    "svc_scores, jitters = jitter_test(model_grid_search_svc_rs, X_train, y_train)\n",
    "gnb_scores, jitters = jitter_test(model_grid_search_gnb_rs, X_train, y_train)\n",
    "mlpc_scores, jitters = jitter_test(model_grid_search_mlpc_rs, X_train, y_train)\n",
    "vc_scores, jitters = jitter_test(model_grid_search_vc_rs, X_train, y_train)\n",
    "abc_scores, jitters = jitter_test(model_grid_search_abc_rs, X_train, y_train)\n",
    "sgdc_scores, jitters = jitter_test(model_grid_search_sgdc_rs, X_train, y_train)\n",
    "\n",
    "# Plotting all models scores\n",
    "plt.figure()\n",
    "lw = 2\n",
    "plt.plot(jitters, dtc_scores, color='blue', lw=lw, label='Decision Tree')\n",
    "plt.plot(jitters, rf_scores, color='red', lw=lw, label='Random Forest')\n",
    "plt.plot(jitters, sc_scores, color='green', lw=lw, label='Stacking Classifier')\n",
    "plt.plot(jitters, bc_scores, color='yellow', lw=lw, label='Bagging Classifier')\n",
    "plt.plot(jitters, etc_scores, color='orange', lw=lw, label='Extra Trees Classifier')\n",
    "plt.plot(jitters, hgbc_scores, color='purple', lw=lw, label='Histogram Gradient Boosting Classifier')\n",
    "plt.plot(jitters, lreg_scores, color='pink', lw=lw, label='Logistic Regression')\n",
    "plt.plot(jitters, gbc_scores, color='black', lw=lw, label='Gradient Boosting Classifier')\n",
    "plt.plot(jitters, knc_scores, color='brown', lw=lw, label='KNN')\n",
    "plt.plot(jitters, svc_scores, color='grey', lw=lw, label='SVM')\n",
    "plt.plot(jitters, gnb_scores, color='cyan', lw=lw, label='Naive Bayes')\n",
    "plt.plot(jitters, mlpc_scores, color='magenta', lw=lw, label='MLP Classifier')\n",
    "plt.plot(jitters, vc_scores, color='olive', lw=lw, label='Voting Classifier')\n",
    "plt.plot(jitters, abc_scores, color='teal', lw=lw, label='Ada Boost Classifier')\n",
    "plt.plot(jitters, sgdc_scores, color='maroon', lw=lw, label='SGD Classifier')\n",
    "\n",
    "plt.xlabel('Amount of Jitter')\n",
    "plt.ylabel('Accuracy')\n",
    "plt.title('Accuracy for increasing jitter')\n",
    "#legend outside the plot\n",
    "plt.legend(bbox_to_anchor=(1.05, 1), loc=2, borderaxespad=0.)\n",
    "plt.show()"
   ]
  },
  {
   "cell_type": "code",
   "execution_count": null,
   "metadata": {
    "scrolled": true
   },
   "outputs": [],
   "source": [
    "# get a dataframe with jitter score at 0.3\n",
    "jitter_df = pd.DataFrame({'jitter': jitters, 'dtc': dtc_scores, 'rf': rf_scores, 'sc': sc_scores, 'bc': bc_scores, 'etc': etc_scores, 'hgbc': hgbc_scores, 'lreg': lreg_scores, 'gbc': gbc_scores, 'knc': knc_scores, 'svc': svc_scores, 'gnb': gnb_scores, 'mlpc': mlpc_scores, 'vc': vc_scores, 'abc': abc_scores, 'sgdc': sgdc_scores})\n",
    "jitter_df\n",
    "#get the jitter value closest to 0.3\n",
    "jitter_value = jitter_df.iloc[(jitter_df['jitter']-0.3).abs().argsort()[:1]]\n",
    "# transpose the dataframe\n",
    "jitter_value = jitter_value.T\n",
    "# drop the jitter column\n",
    "jitter_value = jitter_value.drop('jitter')\n",
    "# rename the column\n",
    "jitter_value = jitter_value.rename(columns={jitter_value.columns[0]: 'Score'})\n",
    "# sort the values\n",
    "jitter_value = jitter_value.sort_values(by=['Score'], ascending=False)\n",
    "jitter_value\n",
    "# replace the index with the model name\n",
    "names = {'rf': 'Random Forest Classifier',\n",
    "        'etc': 'Extra Trees Classifier', \n",
    "        'sc': 'Stacking Classifier', \n",
    "        'svc': 'Support Vector Machine Classifier',\n",
    "        'vc': 'Voting Classifier',\n",
    "        'knc': 'KNN Classifier',\n",
    "        'bc': 'Bagging Classifier',\n",
    "        'mlpc': 'Multi-layer Perceptron Classifier',\n",
    "        'hgbc': 'Histogram Gradient Boosting Classifier',\n",
    "        'gbc': 'Gradient Boosting Classifier',\n",
    "        'dtc': 'Decision Tree Classifier',\n",
    "        'lreg': 'Logistic Regression',\n",
    "        'abc': 'Ada Boost Classifier',\n",
    "        'sgdc': 'SGD Classifier',\n",
    "        'gnb': 'Naive Bayes'}\n",
    "# get a list of index\n",
    "index = jitter_value.index.tolist()\n",
    "# replace the index with the dictionary\n",
    "jitter_value.index = [names[i] for i in index]\n",
    "jitter_value\n",
    "# jitter_value"
   ]
  },
  {
   "cell_type": "markdown",
   "metadata": {},
   "source": [
    "<a class=\"anchor\" id=\"seventh-bullet\">     \n",
    "\n",
    "# 7. Final Result\n",
    "    \n",
    "</a>\n",
    "</div>"
   ]
  },
  {
   "cell_type": "code",
   "execution_count": null,
   "metadata": {},
   "outputs": [],
   "source": [
    "# Select the best model\n",
    "best_model = jitter_value.index[0]\n",
    "print('The best model is: ', best_model)\n",
    "# Get the index and find the model in models list\n",
    "index_name = model_names.index(best_model)\n",
    "model = models[index_name]\n",
    "model"
   ]
  },
  {
   "cell_type": "code",
   "execution_count": null,
   "metadata": {},
   "outputs": [],
   "source": [
    "# Predict using the best model\n",
    "y_pred = model.predict(test_data)"
   ]
  },
  {
   "cell_type": "code",
   "execution_count": null,
   "metadata": {},
   "outputs": [],
   "source": [
    "# Create a submission file\n",
    "submission = pd.DataFrame({'PatientID': test_data.index, 'Disease': y_pred})\n",
    "submission.to_csv('submission.csv', index = False)"
   ]
  }
 ],
 "metadata": {
  "kernelspec": {
   "display_name": "Python 3",
   "language": "python",
   "name": "python3"
  },
  "language_info": {
   "codemirror_mode": {
    "name": "ipython",
    "version": 3
   },
   "file_extension": ".py",
   "mimetype": "text/x-python",
   "name": "python",
   "nbconvert_exporter": "python",
   "pygments_lexer": "ipython3",
   "version": "3.9.12"
  },
  "vscode": {
   "interpreter": {
    "hash": "ff6203723e6ddd64e97e69286f01f6f51deb2a67755020de4e16408877e164bf"
   }
  }
 },
 "nbformat": 4,
 "nbformat_minor": 2
}
